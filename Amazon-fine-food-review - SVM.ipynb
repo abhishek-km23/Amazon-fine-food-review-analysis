{
 "cells": [
  {
   "cell_type": "code",
   "execution_count": 2,
   "metadata": {},
   "outputs": [
    {
     "name": "stderr",
     "output_type": "stream",
     "text": [
      "C:\\Users\\AbhiShek\\Anaconda3\\lib\\site-packages\\sklearn\\cross_validation.py:41: DeprecationWarning: This module was deprecated in version 0.18 in favor of the model_selection module into which all the refactored classes and functions are moved. Also note that the interface of the new CV iterators are different from that of this module. This module will be removed in 0.20.\n",
      "  \"This module will be removed in 0.20.\", DeprecationWarning)\n",
      "C:\\Users\\AbhiShek\\Anaconda3\\lib\\site-packages\\sklearn\\learning_curve.py:22: DeprecationWarning: This module was deprecated in version 0.18 in favor of the model_selection module into which all the functions are moved. This module will be removed in 0.20\n",
      "  DeprecationWarning)\n",
      "C:\\Users\\AbhiShek\\Anaconda3\\lib\\site-packages\\gensim\\utils.py:1209: UserWarning: detected Windows; aliasing chunkize to chunkize_serial\n",
      "  warnings.warn(\"detected Windows; aliasing chunkize to chunkize_serial\")\n"
     ]
    }
   ],
   "source": [
    "# ============================== loading libraries ===========================================\n",
    "%matplotlib inline\n",
    "import warnings\n",
    "warnings.filterwarnings(\"ignore\")\n",
    "\n",
    "import pickle\n",
    "import numpy as np\n",
    "import pandas as pd\n",
    "import matplotlib.pyplot as plt\n",
    "from sklearn.cross_validation import train_test_split\n",
    "from sklearn.neighbors import KNeighborsClassifier\n",
    "from sklearn.metrics import accuracy_score\n",
    "from sklearn.cross_validation import cross_val_score\n",
    "from collections import Counter\n",
    "from sklearn.metrics import accuracy_score\n",
    "from sklearn import cross_validation\n",
    "from sklearn.naive_bayes import MultinomialNB\n",
    "from sklearn.metrics import f1_score\n",
    "from sklearn.model_selection import GridSearchCV\n",
    "from sklearn.datasets import *\n",
    "from sklearn.linear_model import LogisticRegression\n",
    "from sklearn.model_selection import RandomizedSearchCV\n",
    "from sklearn.metrics import precision_recall_fscore_support\n",
    "from sklearn.metrics import classification_report\n",
    "from prettytable import PrettyTable\n",
    "import random\n",
    "from scipy.stats import uniform\n",
    "from sklearn.metrics import roc_curve, auc\n",
    "from sklearn.learning_curve import validation_curve\n",
    "from sklearn.metrics import fbeta_score, make_scorer\n",
    "from sklearn.metrics import precision_score, recall_score,roc_auc_score\n",
    "from sklearn.ensemble import ExtraTreesClassifier\n",
    "from sklearn.feature_selection import SelectKBest\n",
    "from sklearn.feature_selection import chi2\n",
    "from sklearn.feature_selection import SelectFromModel\n",
    "from sklearn.preprocessing import StandardScaler\n",
    "from sklearn.calibration import CalibratedClassifierCV\n",
    "import joblib\n",
    "from sklearn.svm import SVC\n",
    "from sklearn import svm\n",
    "from sklearn import linear_model\n",
    "from scipy import stats\n",
    "import scikitplot as skplt\n",
    "\n",
    "import sqlite3\n",
    "import pandas as pd\n",
    "import numpy as np\n",
    "import nltk\n",
    "import string\n",
    "import matplotlib.pyplot as plt\n",
    "import seaborn as sns\n",
    "from sklearn.feature_extraction.text import TfidfTransformer\n",
    "from sklearn.feature_extraction.text import TfidfVectorizer\n",
    "\n",
    "from sklearn.feature_extraction.text import CountVectorizer\n",
    "from sklearn.metrics import confusion_matrix\n",
    "from sklearn import metrics\n",
    "from sklearn.metrics import roc_curve, auc\n",
    "from nltk.stem.porter import PorterStemmer\n",
    "\n",
    "#import nltk\n",
    "#nltk.download('stopwords')\n",
    "\n",
    "import re\n",
    "# Tutorial about Python regular expressions: https://pymotw.com/2/re/\n",
    "import string\n",
    "from nltk.corpus import stopwords\n",
    "from nltk.stem import PorterStemmer\n",
    "from nltk.stem.wordnet import WordNetLemmatizer\n",
    "\n",
    "#from gensim.models import KeyedVectors\n",
    "#model = KeyedVectors.load_word2vec_format(‘GoogleNews-vectors-negative300.bin.gz’,binary=True)\n",
    "\n",
    "#import gensim\n",
    "from gensim.models import Word2Vec\n",
    "from gensim.models import KeyedVectors\n",
    "from sklearn.decomposition import TruncatedSVD\n",
    "\n",
    "# ============================================================================================="
   ]
  },
  {
   "cell_type": "code",
   "execution_count": 3,
   "metadata": {},
   "outputs": [],
   "source": [
    "fileObject = open(\"./train_to_file.pkl\",'rb') # we open the file for reading \n",
    "X_train = pickle.load(fileObject) # load the object from the file\n",
    "\n",
    "fileObject = open(\"./x_cv_to_file.pkl\",'rb') # we open the file for reading \n",
    "X_cv = pickle.load(fileObject) # load the object from the file\n",
    "\n",
    "fileObject = open(\"./x_test_to_file.pkl\",'rb') # we open the file for reading \n",
    "X_test = pickle.load(fileObject) # load the object from the file\n",
    "\n",
    "fileObject = open(\"./y_train_to_file.pkl\",'rb') # we open the file for reading \n",
    "y_train = pickle.load(fileObject) # load the object from the file\n",
    "\n",
    "fileObject = open(\"./y_cv_to_file.pkl\",'rb') # we open the file for reading \n",
    "y_cv = pickle.load(fileObject) # load the object from the file\n",
    "\n",
    "fileObject = open(\"./y_test_to_file.pkl\",'rb') # we open the file for reading \n",
    "y_test = pickle.load(fileObject) # load the object from the file"
   ]
  },
  {
   "cell_type": "code",
   "execution_count": 4,
   "metadata": {},
   "outputs": [],
   "source": [
    "#taking 40K data into consideration\n",
    "X_train_1 = X_train[0:25000,9]\n",
    "X_cv_1 = X_train[25000:32000,9]\n",
    "X_test_1 = X_train[32000:38400,9]\n",
    "\n",
    "X_test_2 = X_cv[0:1600,9]\n",
    "X_test_1 = np.concatenate((X_test_1,X_test_2))\n",
    "\n",
    "y_train_1 = y_train\n",
    "y_train = y_train_1[0:25000]\n",
    "y_cv_1 = y_train_1[25000:32000]\n",
    "y_test_1 = y_train_1[32000:38400]\n",
    "\n",
    "y_test_2 = y_cv[0:1600]\n",
    "y_test = np.concatenate((y_test_1,y_test_2))\n",
    "\n",
    "y_cv = []\n",
    "y_cv = y_cv_1"
   ]
  },
  {
   "cell_type": "code",
   "execution_count": 5,
   "metadata": {},
   "outputs": [
    {
     "name": "stdout",
     "output_type": "stream",
     "text": [
      "(38400,)\n",
      "(7000,)\n",
      "(8000,)\n"
     ]
    }
   ],
   "source": [
    "print(y_train_1.shape)\n",
    "print(y_cv.shape)\n",
    "print(y_test.shape)"
   ]
  },
  {
   "cell_type": "markdown",
   "metadata": {},
   "source": [
    "## BoW"
   ]
  },
  {
   "cell_type": "code",
   "execution_count": 51,
   "metadata": {},
   "outputs": [
    {
     "name": "stdout",
     "output_type": "stream",
     "text": [
      "the type of count vectorizer  <class 'scipy.sparse.csr.csr_matrix'>\n",
      "the number of unique words  31275\n",
      "(25000, 31275)\n",
      "(7000, 31275)\n",
      "(8000, 31275)\n",
      "(25000,)\n",
      "(7000,)\n",
      "(8000,)\n"
     ]
    }
   ],
   "source": [
    "#Appling BoW to fit and transform\n",
    "count_vect =  CountVectorizer()\n",
    "bow_NB = count_vect.fit(X_train_1)\n",
    "train_bow_nstd = count_vect.transform(X_train_1)\n",
    "cv_bow_nstd = count_vect.transform(X_cv_1) \n",
    "test_bow_nstd = count_vect.transform(X_test_1) \n",
    "\n",
    "print(\"the type of count vectorizer \",type(train_bow_nstd))\n",
    "print(\"the number of unique words \", test_bow_nstd.get_shape()[1])\n",
    "\n",
    "print(train_bow_nstd.shape)\n",
    "print(cv_bow_nstd.shape)\n",
    "print(test_bow_nstd.shape)\n",
    "print(y_train.shape)\n",
    "print(y_cv.shape)\n",
    "print(y_test.shape)"
   ]
  },
  {
   "cell_type": "code",
   "execution_count": 52,
   "metadata": {},
   "outputs": [
    {
     "name": "stderr",
     "output_type": "stream",
     "text": [
      "C:\\Users\\AbhiShek\\Anaconda3\\lib\\site-packages\\sklearn\\utils\\validation.py:475: DataConversionWarning: Data with input dtype int64 was converted to float64 by StandardScaler.\n",
      "  warnings.warn(msg, DataConversionWarning)\n",
      "C:\\Users\\AbhiShek\\Anaconda3\\lib\\site-packages\\sklearn\\utils\\validation.py:475: DataConversionWarning: Data with input dtype int64 was converted to float64 by StandardScaler.\n",
      "  warnings.warn(msg, DataConversionWarning)\n",
      "C:\\Users\\AbhiShek\\Anaconda3\\lib\\site-packages\\sklearn\\utils\\validation.py:475: DataConversionWarning: Data with input dtype int64 was converted to float64 by StandardScaler.\n",
      "  warnings.warn(msg, DataConversionWarning)\n",
      "C:\\Users\\AbhiShek\\Anaconda3\\lib\\site-packages\\sklearn\\utils\\validation.py:475: DataConversionWarning: Data with input dtype int64 was converted to float64 by StandardScaler.\n",
      "  warnings.warn(msg, DataConversionWarning)\n"
     ]
    }
   ],
   "source": [
    "# Column Standardization of the BoW non-standard vector\n",
    "std_scal = StandardScaler(with_mean=False)\n",
    "std_scal.fit(train_bow_nstd)\n",
    "train_bow = std_scal.transform(train_bow_nstd)\n",
    "cv_bow = std_scal.transform(cv_bow_nstd)\n",
    "test_bow = std_scal.transform(test_bow_nstd)"
   ]
  },
  {
   "cell_type": "markdown",
   "metadata": {},
   "source": [
    "## Applying Linear SVM on BOW"
   ]
  },
  {
   "cell_type": "code",
   "execution_count": 7,
   "metadata": {},
   "outputs": [
    {
     "data": {
      "text/plain": [
       "SGDClassifier(alpha=0.0001, average=False, class_weight=None, epsilon=0.1,\n",
       "       eta0=0.0, fit_intercept=True, l1_ratio=0.15,\n",
       "       learning_rate='optimal', loss='hinge', max_iter=None, n_iter=None,\n",
       "       n_jobs=1, penalty='l1', power_t=0.5, random_state=None,\n",
       "       shuffle=True, tol=None, verbose=0, warm_start=False)"
      ]
     },
     "execution_count": 7,
     "metadata": {},
     "output_type": "execute_result"
    }
   ],
   "source": [
    "lin_svc_l1 = linear_model.SGDClassifier(penalty='l1')\n",
    "lin_svc_l1.fit(train_bow, y_train)"
   ]
  },
  {
   "cell_type": "code",
   "execution_count": 8,
   "metadata": {},
   "outputs": [
    {
     "name": "stdout",
     "output_type": "stream",
     "text": [
      "Fitting 5 folds for each of 7 candidates, totalling 35 fits\n"
     ]
    },
    {
     "name": "stderr",
     "output_type": "stream",
     "text": [
      "C:\\Users\\AbhiShek\\Anaconda3\\lib\\site-packages\\sklearn\\metrics\\classification.py:1135: UndefinedMetricWarning: F-score is ill-defined and being set to 0.0 due to no predicted samples.\n",
      "  'precision', 'predicted', average, warn_for)\n",
      "C:\\Users\\AbhiShek\\Anaconda3\\lib\\site-packages\\sklearn\\metrics\\classification.py:1135: UndefinedMetricWarning: F-score is ill-defined and being set to 0.0 due to no predicted samples.\n",
      "  'precision', 'predicted', average, warn_for)\n",
      "[Parallel(n_jobs=1)]: Done  35 out of  35 | elapsed:   11.5s finished\n"
     ]
    },
    {
     "name": "stdout",
     "output_type": "stream",
     "text": [
      "Best HyperParameter:  {'alpha': 1}\n",
      "Best Accuracy: 94.17%\n"
     ]
    }
   ],
   "source": [
    "param_grid = {'alpha':[0.001, 0.01, 0.1, 1, 10, 100, 1000]} #params we need to try on classifier\n",
    "gsv_l1 = GridSearchCV(lin_svc_l1,param_grid,cv=5,verbose=1,scoring='f1')\n",
    "gsv_l1.fit(train_bow,y_train)\n",
    "\n",
    "print(\"Best HyperParameter: \",gsv_l1.best_params_)\n",
    "print(\"Best Accuracy: %.2f%%\"%(gsv_l1.best_score_*100))"
   ]
  },
  {
   "cell_type": "code",
   "execution_count": 9,
   "metadata": {},
   "outputs": [
    {
     "name": "stdout",
     "output_type": "stream",
     "text": [
      "Scores for alphas:\n",
      "[mean: 0.93202, std: 0.00226, params: {'alpha': 0.001}, mean: 0.92222, std: 0.00593, params: {'alpha': 0.01}, mean: 0.93537, std: 0.00699, params: {'alpha': 0.1}, mean: 0.94169, std: 0.00000, params: {'alpha': 1}, mean: 0.94161, std: 0.00015, params: {'alpha': 10}, mean: 0.94169, std: 0.00000, params: {'alpha': 100}, mean: 0.75335, std: 0.37667, params: {'alpha': 1000}]\n",
      "\n",
      "Best estimator:\n",
      "SGDClassifier(alpha=1, average=False, class_weight=None, epsilon=0.1,\n",
      "       eta0=0.0, fit_intercept=True, l1_ratio=0.15,\n",
      "       learning_rate='optimal', loss='hinge', max_iter=None, n_iter=None,\n",
      "       n_jobs=1, penalty='l1', power_t=0.5, random_state=None,\n",
      "       shuffle=True, tol=None, verbose=0, warm_start=False)\n",
      "Best score:\n",
      "0.9416869510001058\n",
      "\n",
      "Best parameters:\n",
      "{'alpha': 1}\n"
     ]
    },
    {
     "name": "stderr",
     "output_type": "stream",
     "text": [
      "C:\\Users\\AbhiShek\\Anaconda3\\lib\\site-packages\\sklearn\\model_selection\\_search.py:761: DeprecationWarning: The grid_scores_ attribute was deprecated in version 0.18 in favor of the more elaborate cv_results_ attribute. The grid_scores_ attribute will not be available from 0.20\n",
      "  DeprecationWarning)\n"
     ]
    }
   ],
   "source": [
    "    print(\"Scores for alphas:\")\n",
    "    print(gsv_l1.grid_scores_)\n",
    "    print(\"\\nBest estimator:\")\n",
    "    print(gsv_l1.best_estimator_)\n",
    "    print(\"Best score:\")\n",
    "    print(gsv_l1.best_score_)\n",
    "    print(\"\\nBest parameters:\")\n",
    "    print(gsv_l1.best_params_)"
   ]
  },
  {
   "cell_type": "code",
   "execution_count": 10,
   "metadata": {},
   "outputs": [
    {
     "data": {
      "text/plain": [
       "SGDClassifier(alpha=0.0001, average=False, class_weight=None, epsilon=0.1,\n",
       "       eta0=0.0, fit_intercept=True, l1_ratio=0.15,\n",
       "       learning_rate='optimal', loss='hinge', max_iter=None, n_iter=None,\n",
       "       n_jobs=1, penalty='l2', power_t=0.5, random_state=None,\n",
       "       shuffle=True, tol=None, verbose=0, warm_start=False)"
      ]
     },
     "execution_count": 10,
     "metadata": {},
     "output_type": "execute_result"
    }
   ],
   "source": [
    "lin_svc_l2 = linear_model.SGDClassifier(penalty='l2')\n",
    "lin_svc_l2.fit(train_bow, y_train)"
   ]
  },
  {
   "cell_type": "code",
   "execution_count": 11,
   "metadata": {},
   "outputs": [
    {
     "name": "stdout",
     "output_type": "stream",
     "text": [
      "Fitting 5 folds for each of 7 candidates, totalling 35 fits\n",
      "Best HyperParameter:  {'alpha': 0.1}\n",
      "\n",
      "Best Accuracy: 95.44%\n"
     ]
    },
    {
     "name": "stderr",
     "output_type": "stream",
     "text": [
      "[Parallel(n_jobs=1)]: Done  35 out of  35 | elapsed:    8.0s finished\n"
     ]
    }
   ],
   "source": [
    "param_grid = {'alpha':[0.001, 0.01, 0.1, 1, 10, 100, 1000]} #params we need to try on classifier\n",
    "gsv_l2 = GridSearchCV(lin_svc_l2,param_grid,cv=5,verbose=1,scoring='f1')\n",
    "gsv_l2.fit(train_bow,y_train)\n",
    "\n",
    "print(\"Best HyperParameter: \",gsv_l2.best_params_)\n",
    "print(\"\\nBest Accuracy: %.2f%%\"%(gsv_l2.best_score_*100))"
   ]
  },
  {
   "cell_type": "code",
   "execution_count": 12,
   "metadata": {},
   "outputs": [
    {
     "name": "stdout",
     "output_type": "stream",
     "text": [
      "Scores for alphas:\n",
      "[mean: 0.94183, std: 0.00269, params: {'alpha': 0.001}, mean: 0.94462, std: 0.00241, params: {'alpha': 0.01}, mean: 0.95444, std: 0.00098, params: {'alpha': 0.1}, mean: 0.95240, std: 0.00085, params: {'alpha': 1}, mean: 0.94179, std: 0.00006, params: {'alpha': 10}, mean: 0.94169, std: 0.00000, params: {'alpha': 100}, mean: 0.94169, std: 0.00000, params: {'alpha': 1000}]\n",
      "\n",
      "Best estimator:\n",
      "SGDClassifier(alpha=0.1, average=False, class_weight=None, epsilon=0.1,\n",
      "       eta0=0.0, fit_intercept=True, l1_ratio=0.15,\n",
      "       learning_rate='optimal', loss='hinge', max_iter=None, n_iter=None,\n",
      "       n_jobs=1, penalty='l2', power_t=0.5, random_state=None,\n",
      "       shuffle=True, tol=None, verbose=0, warm_start=False)\n",
      "\n",
      "Best score:\n",
      "0.9544443153473793\n",
      "\n",
      "Best parameters:\n",
      "{'alpha': 0.1}\n"
     ]
    },
    {
     "name": "stderr",
     "output_type": "stream",
     "text": [
      "C:\\Users\\AbhiShek\\Anaconda3\\lib\\site-packages\\sklearn\\model_selection\\_search.py:761: DeprecationWarning: The grid_scores_ attribute was deprecated in version 0.18 in favor of the more elaborate cv_results_ attribute. The grid_scores_ attribute will not be available from 0.20\n",
      "  DeprecationWarning)\n"
     ]
    }
   ],
   "source": [
    "    print(\"Scores for alphas:\")\n",
    "    print(gsv_l2.grid_scores_)\n",
    "    print(\"\\nBest estimator:\")\n",
    "    print(gsv_l2.best_estimator_)\n",
    "    print(\"\\nBest score:\")\n",
    "    print(gsv_l2.best_score_)\n",
    "    print(\"\\nBest parameters:\")\n",
    "    print(gsv_l2.best_params_)"
   ]
  },
  {
   "cell_type": "code",
   "execution_count": 13,
   "metadata": {},
   "outputs": [
    {
     "name": "stdout",
     "output_type": "stream",
     "text": [
      "Class 0: Negatives \n",
      "0 -41.38105302084237 not\n",
      "0 -35.587842994820555 worst\n",
      "0 -27.276858239214356 horrible\n",
      "0 -25.098142902872365 anywher\n",
      "0 -22.656923493427044 disappointed\n",
      "0 -20.920473359120336 worse\n",
      "0 -19.753914156468745 bland\n",
      "0 -19.50681105816138 didn\n",
      "0 -18.824736740429106 attract\n",
      "0 -18.11374904485391 penetrate\n",
      "\n",
      "\n",
      "Class 1: Positives \n",
      "1 52.408966854835796 great\n",
      "1 37.35952786948995 best\n",
      "1 34.40993447330705 love\n",
      "1 31.368211944407403 wonderful\n",
      "1 31.216678477104836 delicious\n",
      "1 27.96648159282319 is\n",
      "1 25.61070423385697 good\n",
      "1 23.49425282692795 and\n",
      "1 23.235311448755226 excellent\n",
      "1 23.05294930562384 nice\n"
     ]
    }
   ],
   "source": [
    "def most_informative_feature_for_binary_classification(vectorizer, classifier, n=10):\n",
    "    class_labels = classifier.classes_\n",
    "    feature_names = vectorizer.get_feature_names()\n",
    "    topn_class1 = sorted(zip(classifier.coef_[0], feature_names))[:n]\n",
    "    topn_class2 = sorted(zip(classifier.coef_[0], feature_names))[-n:]\n",
    "\n",
    "    print(\"Class 0: Negatives \")\n",
    "    for coef, feat in topn_class1:\n",
    "        print (class_labels[0], coef, feat)\n",
    "\n",
    "    print(\"\\n\")\n",
    "    print(\"Class 1: Positives \")\n",
    "    for coef, feat in reversed(topn_class2):\n",
    "        print (class_labels[1], coef, feat)\n",
    "\n",
    "\n",
    "most_informative_feature_for_binary_classification(count_vect, lin_svc_l2)"
   ]
  },
  {
   "cell_type": "code",
   "execution_count": 14,
   "metadata": {},
   "outputs": [
    {
     "data": {
      "text/plain": [
       "['lin_svc.pkl']"
      ]
     },
     "execution_count": 14,
     "metadata": {},
     "output_type": "execute_result"
    }
   ],
   "source": [
    "# SVC with Linear kernel \n",
    "#with best alpha and penalty\n",
    "lin_svc = linear_model.SGDClassifier(alpha=0.1,penalty='l2',loss='hinge')\n",
    "lin_svc.fit(train_bow, y_train)\n",
    "\n",
    "joblib.dump(lin_svc,\"lin_svc.pkl\")"
   ]
  },
  {
   "cell_type": "code",
   "execution_count": 15,
   "metadata": {},
   "outputs": [
    {
     "data": {
      "text/plain": [
       "SGDClassifier(alpha=0.1, average=False, class_weight=None, epsilon=0.1,\n",
       "       eta0=0.0, fit_intercept=True, l1_ratio=0.15,\n",
       "       learning_rate='optimal', loss='hinge', max_iter=None, n_iter=None,\n",
       "       n_jobs=1, penalty='l2', power_t=0.5, random_state=None,\n",
       "       shuffle=True, tol=None, verbose=0, warm_start=False)"
      ]
     },
     "execution_count": 15,
     "metadata": {},
     "output_type": "execute_result"
    }
   ],
   "source": [
    "lin_svc = joblib.load(\"lin_svc.pkl\")\n",
    "\n",
    "# Fit linear kernel model\n",
    "best_model = lin_svc.fit(train_bow, y_train)\n",
    "joblib.dump(best_model,\"best_model.pkl\")\n",
    "best_model"
   ]
  },
  {
   "cell_type": "code",
   "execution_count": 53,
   "metadata": {},
   "outputs": [],
   "source": [
    "best_model = joblib.load(\"best_model.pkl\")\n",
    "\n",
    "# Predict target vector\n",
    "predict_test = best_model.predict(test_bow)\n",
    "#best_model.cv_results_ "
   ]
  },
  {
   "cell_type": "code",
   "execution_count": 54,
   "metadata": {},
   "outputs": [
    {
     "name": "stdout",
     "output_type": "stream",
     "text": [
      "Score=  1.0\n",
      "AUC Score=  0.7107706741920982\n"
     ]
    }
   ],
   "source": [
    "print(\"Score= \",best_model.score(test_bow, predict_test))\n",
    "auc_score_lin_bow = roc_auc_score(y_test, predict_test)\n",
    "print(\"AUC Score= \",auc_score_lin_bow)"
   ]
  },
  {
   "cell_type": "code",
   "execution_count": 18,
   "metadata": {},
   "outputs": [
    {
     "data": {
      "text/plain": [
       "array([[ 414,  507],\n",
       "       [ 198, 6881]], dtype=int64)"
      ]
     },
     "execution_count": 18,
     "metadata": {},
     "output_type": "execute_result"
    }
   ],
   "source": [
    "# Confusion Matrix on Test Data\n",
    "#y_pred = np.argmax(pred_test, axis=1)\n",
    "cm_bow = confusion_matrix(y_test, predict_test)\n",
    "cm_bow"
   ]
  },
  {
   "cell_type": "code",
   "execution_count": 19,
   "metadata": {},
   "outputs": [
    {
     "data": {
      "image/png": "[encoded data removed]",
      "text/plain": [
       "<Figure size 432x288 with 2 Axes>"
      ]
     },
     "metadata": {},
     "output_type": "display_data"
    }
   ],
   "source": [
    "# plot confusion matrix to describe the performance of classifier.\n",
    "import seaborn as sns\n",
    "class_label = [\"negative\", \"positive\"]\n",
    "df_cm = pd.DataFrame(cm_bow, index = class_label, columns = class_label)\n",
    "sns.heatmap(df_cm, annot = True, fmt = \"d\")\n",
    "plt.title(\"Confusiion Matrix\")\n",
    "plt.xlabel(\"Predicted Label\")\n",
    "plt.ylabel(\"True Label\")\n",
    "plt.show()"
   ]
  },
  {
   "cell_type": "code",
   "execution_count": 20,
   "metadata": {},
   "outputs": [
    {
     "data": {
      "text/plain": [
       "CalibratedClassifierCV(base_estimator=SGDClassifier(alpha=0.1, average=False, class_weight=None, epsilon=0.1,\n",
       "       eta0=0.0, fit_intercept=True, l1_ratio=0.15,\n",
       "       learning_rate='optimal', loss='hinge', max_iter=None, n_iter=None,\n",
       "       n_jobs=1, penalty='l2', power_t=0.5, random_state=None,\n",
       "       shuffle=True, tol=None, verbose=0, warm_start=False),\n",
       "            cv=3, method='sigmoid')"
      ]
     },
     "execution_count": 20,
     "metadata": {},
     "output_type": "execute_result"
    }
   ],
   "source": [
    "model = CalibratedClassifierCV(lin_svc)\n",
    "model.fit(train_bow, y_train)"
   ]
  },
  {
   "cell_type": "code",
   "execution_count": 21,
   "metadata": {},
   "outputs": [],
   "source": [
    "# Predict target vector\n",
    "predict_test_CalibCV = model.predict_proba(test_bow)"
   ]
  },
  {
   "cell_type": "code",
   "execution_count": 22,
   "metadata": {},
   "outputs": [
    {
     "name": "stderr",
     "output_type": "stream",
     "text": [
      "C:\\Users\\AbhiShek\\Anaconda3\\lib\\site-packages\\sklearn\\utils\\deprecation.py:77: DeprecationWarning: Function plot_roc_curve is deprecated; This will be removed in v0.5.0. Please use scikitplot.metrics.plot_roc instead.\n",
      "  warnings.warn(msg, category=DeprecationWarning)\n"
     ]
    },
    {
     "data": {
      "text/plain": [
       "<matplotlib.axes._subplots.AxesSubplot at 0x269a901c8d0>"
      ]
     },
     "execution_count": 22,
     "metadata": {},
     "output_type": "execute_result"
    },
    {
     "data": {
      "image/png": "[encoded data removed]",
      "text/plain": [
       "<Figure size 432x288 with 1 Axes>"
      ]
     },
     "metadata": {},
     "output_type": "display_data"
    }
   ],
   "source": [
    "#Plotting ROC curve over Test Data\n",
    "skplt.metrics.plot_roc_curve(y_test,predict_test_CalibCV)"
   ]
  },
  {
   "cell_type": "markdown",
   "metadata": {},
   "source": [
    "# Applying RBF SVM on BOW"
   ]
  },
  {
   "cell_type": "code",
   "execution_count": null,
   "metadata": {},
   "outputs": [],
   "source": [
    "# SVC with RBF kernel\n",
    "rbf_svc = svm.SVC(kernel='rbf')\n",
    "rbf_svc.fit(train_bow, y_train)\n",
    "\n",
    "joblib.dump(rbf_svc,\"rbf_svc.pkl\")"
   ]
  },
  {
   "cell_type": "code",
   "execution_count": 7,
   "metadata": {},
   "outputs": [],
   "source": [
    "rbf_svc = joblib.load(\"rbf_svc.pkl\")"
   ]
  },
  {
   "cell_type": "code",
   "execution_count": 69,
   "metadata": {},
   "outputs": [
    {
     "name": "stdout",
     "output_type": "stream",
     "text": [
      "\n",
      "CV accuracy for C and gamma  = 0 and 0 is 89%\n",
      "\n",
      "CV accuracy for C and gamma  = 1 and 0 is 89%\n",
      "\n",
      "CV accuracy for C and gamma  = 10 and 0 is 91%\n"
     ]
    },
    {
     "data": {
      "text/plain": [
       "['pred_cv.pkl']"
      ]
     },
     "execution_count": 69,
     "metadata": {},
     "output_type": "execute_result"
    }
   ],
   "source": [
    "cs = [0.1, 1, 10]\n",
    "for c in cs:\n",
    "    rbf_svc = svm.SVC(kernel='rbf', C=c)\n",
    "    rbf_svc.fit(train_bow, y_train)\n",
    "    pred_cv = rbf_svc.predict(cv_bow)\n",
    "        \n",
    "    # evaluate CV accuracy\n",
    "    acc = accuracy_score(y_cv, pred_cv, normalize=True) * float(100)\n",
    "    print('\\nCV accuracy for C  = %d and %d is %d%%' % (c,acc))\n",
    "\n",
    "joblib.dump(rbf_svc,\"rbf_svc.pkl\")\n",
    "joblib.dump(pred_cv,\"pred_cv.pkl\")"
   ]
  },
  {
   "cell_type": "code",
   "execution_count": 72,
   "metadata": {},
   "outputs": [
    {
     "name": "stdout",
     "output_type": "stream",
     "text": [
      "\n",
      "CV accuracy for gamma  = 0  is 91%\n",
      "\n",
      "CV accuracy for gamma  = 1  is 91%\n",
      "\n",
      "CV accuracy for gamma  = 10  is 91%\n"
     ]
    },
    {
     "data": {
      "text/plain": [
       "['pred_cv_gm.pkl']"
      ]
     },
     "execution_count": 72,
     "metadata": {},
     "output_type": "execute_result"
    }
   ],
   "source": [
    "gammas = [0.1, 1, 10]\n",
    "for gm in gammas:\n",
    "    rbf_svc_gm = svm.SVC(kernel='rbf', gamma=gm)\n",
    "    rbf_svc_gm.fit(train_bow, y_train)\n",
    "    pred_cv_gm = rbf_svc.predict(cv_bow)\n",
    "        \n",
    "    # evaluate CV accuracy\n",
    "    acc = accuracy_score(y_cv, pred_cv_gm, normalize=True) * float(100)\n",
    "    print('\\nCV accuracy for gamma  = %d  is %d%%' % (gm,acc))\n",
    "\n",
    "joblib.dump(rbf_svc,\"rbf_svc_gm.pkl\")\n",
    "joblib.dump(pred_cv,\"pred_cv_gm.pkl\")"
   ]
  },
  {
   "cell_type": "markdown",
   "metadata": {},
   "source": [
    "## Applying RBF SVM on BOW with Best parameters"
   ]
  },
  {
   "cell_type": "code",
   "execution_count": 7,
   "metadata": {},
   "outputs": [
    {
     "data": {
      "text/plain": [
       "['rbf_svc_best.pkl']"
      ]
     },
     "execution_count": 7,
     "metadata": {},
     "output_type": "execute_result"
    }
   ],
   "source": [
    "# SVC with RBF kernel\n",
    "rbf_svc_best = svm.SVC(kernel='rbf', C=10, gamma=0.1,class_weight='balanced')\n",
    "rbf_svc_best.fit(train_bow, y_train)\n",
    "\n",
    "joblib.dump(rbf_svc_best,\"rbf_svc_best.pkl\")"
   ]
  },
  {
   "cell_type": "code",
   "execution_count": 68,
   "metadata": {},
   "outputs": [],
   "source": [
    "rbf_svc_best = joblib.load(\"rbf_svc_best.pkl\")\n",
    "\n",
    "#rbf_svc_best_fit = rbf_svc_best.fit(train_bow, y_train)\n",
    "#joblib.dump(rbf_svc_best_fit,\"rbf_svc_best_fit.pkl\")"
   ]
  },
  {
   "cell_type": "code",
   "execution_count": 69,
   "metadata": {},
   "outputs": [
    {
     "name": "stdout",
     "output_type": "stream",
     "text": [
      "[1 1 1 ... 1 1 1]\n"
     ]
    }
   ],
   "source": [
    "#Predicting over Test data points\n",
    "pred_test_rbf = rbf_svc_best.predict(test_bow)\n",
    "print(pred_test_rbf)"
   ]
  },
  {
   "cell_type": "code",
   "execution_count": 10,
   "metadata": {},
   "outputs": [
    {
     "data": {
      "text/plain": [
       "['model_rbf_CalibCV.pkl']"
      ]
     },
     "execution_count": 10,
     "metadata": {},
     "output_type": "execute_result"
    }
   ],
   "source": [
    "model_rbf_CalibCV = CalibratedClassifierCV(rbf_svc_best)\n",
    "model_rbf_CalibCV.fit(train_bow, y_train)\n",
    "\n",
    "joblib.dump(model_rbf_CalibCV,\"model_rbf_CalibCV.pkl\")"
   ]
  },
  {
   "cell_type": "code",
   "execution_count": 13,
   "metadata": {},
   "outputs": [],
   "source": [
    "model_rbf_CalibCV = joblib.load(\"model_rbf_CalibCV.pkl\")\n",
    "\n",
    "# Predict target vector\n",
    "predict_test_rbf_CalibCV = model_rbf_CalibCV.predict_proba(test_bow)"
   ]
  },
  {
   "cell_type": "code",
   "execution_count": 14,
   "metadata": {},
   "outputs": [
    {
     "data": {
      "text/plain": [
       "array([[0.11039635, 0.88960365],\n",
       "       [0.11039635, 0.88960365],\n",
       "       [0.11039635, 0.88960365],\n",
       "       ...,\n",
       "       [0.11039635, 0.88960365],\n",
       "       [0.11039635, 0.88960365],\n",
       "       [0.11039635, 0.88960365]])"
      ]
     },
     "execution_count": 14,
     "metadata": {},
     "output_type": "execute_result"
    }
   ],
   "source": [
    "predict_test_rbf_CalibCV"
   ]
  },
  {
   "cell_type": "code",
   "execution_count": 18,
   "metadata": {},
   "outputs": [],
   "source": [
    "#defining own threshhold for prediction over probability values\n",
    "def pred(y):\n",
    "    y_pred = []\n",
    "    i=[]\n",
    "    for i in y:\n",
    "        if i.any()>=0.5:\n",
    "            y_pred.append(1)\n",
    "        else:\n",
    "            y_pred.append(0)\n",
    "    return y_pred\n",
    "\n",
    "pred_test_rbf = pred(predict_test_rbf_CalibCV)"
   ]
  },
  {
   "cell_type": "code",
   "execution_count": 70,
   "metadata": {},
   "outputs": [
    {
     "name": "stdout",
     "output_type": "stream",
     "text": [
      "Score=  1.0\n",
      "AUC Score=  0.5\n"
     ]
    }
   ],
   "source": [
    "print(\"Score= \",rbf_svc_best.score(test_bow, pred_test_rbf))\n",
    "auc_score_rbf_bow = roc_auc_score(y_test, pred_test_rbf)\n",
    "print(\"AUC Score= \",auc_score_rbf_bow)"
   ]
  },
  {
   "cell_type": "code",
   "execution_count": 20,
   "metadata": {},
   "outputs": [
    {
     "data": {
      "text/plain": [
       "array([[   0,  921],\n",
       "       [   0, 7079]], dtype=int64)"
      ]
     },
     "execution_count": 20,
     "metadata": {},
     "output_type": "execute_result"
    }
   ],
   "source": [
    "# Confusion Matrix on Test Data\n",
    "#y_pred = np.argmax(pred_test, axis=1)\n",
    "cm_bow_rbf = confusion_matrix(y_test, pred_test_rbf)\n",
    "cm_bow_rbf"
   ]
  },
  {
   "cell_type": "code",
   "execution_count": 19,
   "metadata": {},
   "outputs": [
    {
     "data": {
      "image/png": "[encoded data removed]",
      "text/plain": [
       "<Figure size 432x288 with 2 Axes>"
      ]
     },
     "metadata": {},
     "output_type": "display_data"
    }
   ],
   "source": [
    "# plot confusion matrix to describe the performance of classifier.\n",
    "import seaborn as sns\n",
    "class_label = [\"negative\", \"positive\"]\n",
    "df_cm = pd.DataFrame(cm_bow_rbf, index = class_label, columns = class_label)\n",
    "sns.heatmap(df_cm, annot = True, fmt = \"d\")\n",
    "plt.title(\"Confusiion Matrix\")\n",
    "plt.xlabel(\"Predicted Label\")\n",
    "plt.ylabel(\"True Label\")\n",
    "plt.show()"
   ]
  },
  {
   "cell_type": "code",
   "execution_count": 48,
   "metadata": {},
   "outputs": [
    {
     "name": "stderr",
     "output_type": "stream",
     "text": [
      "C:\\Users\\AbhiShek\\Anaconda3\\lib\\site-packages\\sklearn\\utils\\deprecation.py:77: DeprecationWarning: Function plot_roc_curve is deprecated; This will be removed in v0.5.0. Please use scikitplot.metrics.plot_roc instead.\n",
      "  warnings.warn(msg, category=DeprecationWarning)\n"
     ]
    },
    {
     "data": {
      "text/plain": [
       "<matplotlib.axes._subplots.AxesSubplot at 0x1f98102aeb8>"
      ]
     },
     "execution_count": 48,
     "metadata": {},
     "output_type": "execute_result"
    },
    {
     "data": {
      "image/png": "[encoded data removed]",
      "text/plain": [
       "<Figure size 432x288 with 1 Axes>"
      ]
     },
     "metadata": {},
     "output_type": "display_data"
    }
   ],
   "source": [
    "#Plotting ROC curve over Test Data\n",
    "skplt.metrics.plot_roc_curve(y_test,predict_test_rbf_CalibCV)"
   ]
  },
  {
   "cell_type": "markdown",
   "metadata": {},
   "source": [
    "## tfidf"
   ]
  },
  {
   "cell_type": "code",
   "execution_count": 56,
   "metadata": {},
   "outputs": [
    {
     "name": "stdout",
     "output_type": "stream",
     "text": [
      "(25000, 31275)\n",
      "(7000, 31275)\n",
      "(8000, 31275)\n"
     ]
    }
   ],
   "source": [
    "#tf-idf on train data\n",
    "tf_idf_vect = TfidfVectorizer(ngram_range=(1,1)) #considering only uni-gram as I was getting memory error\n",
    "train_tf_idf_nstd = tf_idf_vect.fit_transform(X_train_1) #sparse matrix\n",
    "cv_tfidf_nstd = tf_idf_vect.transform(X_cv_1)\n",
    "test_tfidf_nstd = tf_idf_vect.transform(X_test_1)\n",
    "\n",
    "print(train_tf_idf_nstd.shape)\n",
    "print(cv_tfidf_nstd.shape)\n",
    "print(test_tfidf_nstd.shape)"
   ]
  },
  {
   "cell_type": "code",
   "execution_count": 57,
   "metadata": {},
   "outputs": [],
   "source": [
    "# Column Standardization of the tfidf non-standard vector\n",
    "std_scal = StandardScaler(with_mean=False)\n",
    "std_scal.fit(train_tf_idf_nstd)\n",
    "train_tfidf = std_scal.transform(train_tf_idf_nstd)\n",
    "cv_tfidf = std_scal.transform(cv_tfidf_nstd)\n",
    "test_tfidf = std_scal.transform(test_tfidf_nstd)"
   ]
  },
  {
   "cell_type": "markdown",
   "metadata": {},
   "source": [
    "## Applying Linear SVM on tfidf"
   ]
  },
  {
   "cell_type": "code",
   "execution_count": 24,
   "metadata": {},
   "outputs": [
    {
     "data": {
      "text/plain": [
       "SGDClassifier(alpha=0.0001, average=False, class_weight=None, epsilon=0.1,\n",
       "       eta0=0.0, fit_intercept=True, l1_ratio=0.15,\n",
       "       learning_rate='optimal', loss='hinge', max_iter=None, n_iter=None,\n",
       "       n_jobs=1, penalty='l1', power_t=0.5, random_state=None,\n",
       "       shuffle=True, tol=None, verbose=0, warm_start=False)"
      ]
     },
     "execution_count": 24,
     "metadata": {},
     "output_type": "execute_result"
    }
   ],
   "source": [
    "lin_svc_l1_tfidf = linear_model.SGDClassifier(penalty='l1')\n",
    "lin_svc_l1_tfidf.fit(train_tfidf, y_train)"
   ]
  },
  {
   "cell_type": "code",
   "execution_count": 25,
   "metadata": {},
   "outputs": [
    {
     "name": "stdout",
     "output_type": "stream",
     "text": [
      "Fitting 5 folds for each of 7 candidates, totalling 35 fits\n"
     ]
    },
    {
     "name": "stderr",
     "output_type": "stream",
     "text": [
      "[Parallel(n_jobs=1)]: Done  35 out of  35 | elapsed:   13.3s finished\n"
     ]
    },
    {
     "name": "stdout",
     "output_type": "stream",
     "text": [
      "Best HyperParameter:  {'alpha': 10}\n",
      "Best Accuracy: 88.98%\n"
     ]
    }
   ],
   "source": [
    "param_grid = {'alpha':[0.001, 0.01, 0.1, 1, 10, 100, 1000]} #params we need to try on classifier\n",
    "gsv_l1_tfidf = GridSearchCV(lin_svc_l1_tfidf,param_grid,cv=5,verbose=1)\n",
    "gsv_l1_tfidf .fit(train_tfidf ,y_train)\n",
    "\n",
    "print(\"Best HyperParameter: \",gsv_l1_tfidf.best_params_)\n",
    "print(\"Best Accuracy: %.2f%%\"%(gsv_l1_tfidf.best_score_*100))"
   ]
  },
  {
   "cell_type": "code",
   "execution_count": 26,
   "metadata": {},
   "outputs": [
    {
     "name": "stdout",
     "output_type": "stream",
     "text": [
      "Scores for alphas:\n",
      "[mean: 0.87940, std: 0.00595, params: {'alpha': 0.001}, mean: 0.86192, std: 0.00385, params: {'alpha': 0.01}, mean: 0.87584, std: 0.01051, params: {'alpha': 0.1}, mean: 0.88956, std: 0.00029, params: {'alpha': 1}, mean: 0.88980, std: 0.00000, params: {'alpha': 10}, mean: 0.88980, std: 0.00000, params: {'alpha': 100}, mean: 0.73388, std: 0.31184, params: {'alpha': 1000}]\n",
      "\n",
      "Best estimator:\n",
      "SGDClassifier(alpha=10, average=False, class_weight=None, epsilon=0.1,\n",
      "       eta0=0.0, fit_intercept=True, l1_ratio=0.15,\n",
      "       learning_rate='optimal', loss='hinge', max_iter=None, n_iter=None,\n",
      "       n_jobs=1, penalty='l1', power_t=0.5, random_state=None,\n",
      "       shuffle=True, tol=None, verbose=0, warm_start=False)\n",
      "Best score:\n",
      "0.8898\n",
      "\n",
      "Best parameters:\n",
      "{'alpha': 10}\n"
     ]
    },
    {
     "name": "stderr",
     "output_type": "stream",
     "text": [
      "C:\\Users\\AbhiShek\\Anaconda3\\lib\\site-packages\\sklearn\\model_selection\\_search.py:761: DeprecationWarning: The grid_scores_ attribute was deprecated in version 0.18 in favor of the more elaborate cv_results_ attribute. The grid_scores_ attribute will not be available from 0.20\n",
      "  DeprecationWarning)\n"
     ]
    }
   ],
   "source": [
    "    print(\"Scores for alphas:\")\n",
    "    print(gsv_l1_tfidf.grid_scores_)\n",
    "    print(\"\\nBest estimator:\")\n",
    "    print(gsv_l1_tfidf.best_estimator_)\n",
    "    print(\"Best score:\")\n",
    "    print(gsv_l1_tfidf.best_score_)\n",
    "    print(\"\\nBest parameters:\")\n",
    "    print(gsv_l1_tfidf.best_params_)"
   ]
  },
  {
   "cell_type": "code",
   "execution_count": 27,
   "metadata": {},
   "outputs": [
    {
     "data": {
      "text/plain": [
       "SGDClassifier(alpha=0.0001, average=False, class_weight=None, epsilon=0.1,\n",
       "       eta0=0.0, fit_intercept=True, l1_ratio=0.15,\n",
       "       learning_rate='optimal', loss='hinge', max_iter=None, n_iter=None,\n",
       "       n_jobs=1, penalty='l2', power_t=0.5, random_state=None,\n",
       "       shuffle=True, tol=None, verbose=0, warm_start=False)"
      ]
     },
     "execution_count": 27,
     "metadata": {},
     "output_type": "execute_result"
    }
   ],
   "source": [
    "lin_svc_l2_tfidf = linear_model.SGDClassifier(penalty='l2')\n",
    "lin_svc_l2_tfidf.fit(train_tfidf, y_train)"
   ]
  },
  {
   "cell_type": "code",
   "execution_count": 28,
   "metadata": {},
   "outputs": [
    {
     "name": "stdout",
     "output_type": "stream",
     "text": [
      "Fitting 5 folds for each of 7 candidates, totalling 35 fits\n",
      "Best HyperParameter:  {'alpha': 0.1}\n",
      "\n",
      "Best Accuracy: 91.16%\n"
     ]
    },
    {
     "name": "stderr",
     "output_type": "stream",
     "text": [
      "[Parallel(n_jobs=1)]: Done  35 out of  35 | elapsed:    8.3s finished\n"
     ]
    }
   ],
   "source": [
    "param_grid = {'alpha':[0.001, 0.01, 0.1, 1, 10, 100, 1000]} #params we need to try on classifier\n",
    "gsv_l2_tfidf = GridSearchCV(lin_svc_l2_tfidf,param_grid,cv=5,verbose=1)\n",
    "gsv_l2_tfidf.fit(train_tfidf,y_train)\n",
    "\n",
    "print(\"Best HyperParameter: \",gsv_l2_tfidf.best_params_)\n",
    "print(\"\\nBest Accuracy: %.2f%%\"%(gsv_l2_tfidf.best_score_*100))"
   ]
  },
  {
   "cell_type": "code",
   "execution_count": 29,
   "metadata": {},
   "outputs": [
    {
     "name": "stdout",
     "output_type": "stream",
     "text": [
      "Scores for alphas:\n",
      "[mean: 0.89268, std: 0.00360, params: {'alpha': 0.001}, mean: 0.89656, std: 0.00561, params: {'alpha': 0.01}, mean: 0.91156, std: 0.00330, params: {'alpha': 0.1}, mean: 0.90964, std: 0.00283, params: {'alpha': 1}, mean: 0.88992, std: 0.00016, params: {'alpha': 10}, mean: 0.88980, std: 0.00000, params: {'alpha': 100}, mean: 0.88980, std: 0.00000, params: {'alpha': 1000}]\n",
      "\n",
      "Best estimator:\n",
      "SGDClassifier(alpha=0.1, average=False, class_weight=None, epsilon=0.1,\n",
      "       eta0=0.0, fit_intercept=True, l1_ratio=0.15,\n",
      "       learning_rate='optimal', loss='hinge', max_iter=None, n_iter=None,\n",
      "       n_jobs=1, penalty='l2', power_t=0.5, random_state=None,\n",
      "       shuffle=True, tol=None, verbose=0, warm_start=False)\n",
      "\n",
      "Best score:\n",
      "0.91156\n",
      "\n",
      "Best parameters:\n",
      "{'alpha': 0.1}\n"
     ]
    },
    {
     "name": "stderr",
     "output_type": "stream",
     "text": [
      "C:\\Users\\AbhiShek\\Anaconda3\\lib\\site-packages\\sklearn\\model_selection\\_search.py:761: DeprecationWarning: The grid_scores_ attribute was deprecated in version 0.18 in favor of the more elaborate cv_results_ attribute. The grid_scores_ attribute will not be available from 0.20\n",
      "  DeprecationWarning)\n"
     ]
    }
   ],
   "source": [
    "    print(\"Scores for alphas:\")\n",
    "    print(gsv_l2_tfidf.grid_scores_)\n",
    "    print(\"\\nBest estimator:\")\n",
    "    print(gsv_l2_tfidf.best_estimator_)\n",
    "    print(\"\\nBest score:\")\n",
    "    print(gsv_l2_tfidf.best_score_)\n",
    "    print(\"\\nBest parameters:\")\n",
    "    print(gsv_l2_tfidf.best_params_)"
   ]
  },
  {
   "cell_type": "code",
   "execution_count": 30,
   "metadata": {},
   "outputs": [
    {
     "name": "stdout",
     "output_type": "stream",
     "text": [
      "Class 0: Negatives \n",
      "0 -36.854171633900584 not\n",
      "0 -35.166153026112156 worst\n",
      "0 -29.163552080145802 horrible\n",
      "0 -26.013145643487032 bland\n",
      "0 -25.098142902872347 anywher\n",
      "0 -22.546207851953916 unfortunately\n",
      "0 -22.292106114998916 didn\n",
      "0 -21.93773883367214 disappointing\n",
      "0 -21.667189877636133 disappointed\n",
      "0 -20.546018184030455 fallen\n",
      "\n",
      "\n",
      "Class 1: Positives \n",
      "1 55.96415109432696 great\n",
      "1 38.80500710523418 best\n",
      "1 34.63612821600555 love\n",
      "1 30.78733469404229 good\n",
      "1 29.903761119494252 and\n",
      "1 27.00232177197329 is\n",
      "1 26.69987447468125 wonderful\n",
      "1 25.043439816651283 nice\n",
      "1 24.371192535019432 are\n",
      "1 24.154586674719003 excellent\n"
     ]
    }
   ],
   "source": [
    "def most_informative_feature_for_binary_classification(vectorizer, classifier, n=10):\n",
    "    class_labels = classifier.classes_\n",
    "    feature_names = vectorizer.get_feature_names()\n",
    "    topn_class1 = sorted(zip(classifier.coef_[0], feature_names))[:n]\n",
    "    topn_class2 = sorted(zip(classifier.coef_[0], feature_names))[-n:]\n",
    "\n",
    "    print(\"Class 0: Negatives \")\n",
    "    for coef, feat in topn_class1:\n",
    "        print (class_labels[0], coef, feat)\n",
    "\n",
    "    print(\"\\n\")\n",
    "    print(\"Class 1: Positives \")\n",
    "    for coef, feat in reversed(topn_class2):\n",
    "        print (class_labels[1], coef, feat)\n",
    "\n",
    "\n",
    "most_informative_feature_for_binary_classification(tf_idf_vect, lin_svc_l2_tfidf)"
   ]
  },
  {
   "cell_type": "code",
   "execution_count": 31,
   "metadata": {},
   "outputs": [
    {
     "data": {
      "text/plain": [
       "['lin_svc_tfidf.pkl']"
      ]
     },
     "execution_count": 31,
     "metadata": {},
     "output_type": "execute_result"
    }
   ],
   "source": [
    "# SVC with Linear kernel \n",
    "#with best alpha and penalty\n",
    "lin_svc_tfidf = linear_model.SGDClassifier(alpha=1,penalty='l2',loss='hinge')\n",
    "lin_svc_tfidf.fit(train_tfidf, y_train)\n",
    "\n",
    "joblib.dump(lin_svc_tfidf,\"lin_svc_tfidf.pkl\")"
   ]
  },
  {
   "cell_type": "code",
   "execution_count": 32,
   "metadata": {},
   "outputs": [
    {
     "data": {
      "text/plain": [
       "SGDClassifier(alpha=1, average=False, class_weight=None, epsilon=0.1,\n",
       "       eta0=0.0, fit_intercept=True, l1_ratio=0.15,\n",
       "       learning_rate='optimal', loss='hinge', max_iter=None, n_iter=None,\n",
       "       n_jobs=1, penalty='l2', power_t=0.5, random_state=None,\n",
       "       shuffle=True, tol=None, verbose=0, warm_start=False)"
      ]
     },
     "execution_count": 32,
     "metadata": {},
     "output_type": "execute_result"
    }
   ],
   "source": [
    "lin_svc_tfidf = joblib.load(\"lin_svc_tfidf.pkl\")\n",
    "\n",
    "# Fit linear kernel model\n",
    "best_model_tfidf = lin_svc_tfidf.fit(train_tfidf, y_train)\n",
    "\n",
    "joblib.dump(best_model_tfidf,\"best_model_tfidf.pkl\")\n",
    "best_model_tfidf"
   ]
  },
  {
   "cell_type": "code",
   "execution_count": 59,
   "metadata": {},
   "outputs": [],
   "source": [
    "best_model_tfidf = joblib.load(\"best_model_tfidf.pkl\")\n",
    "\n",
    "# Predict target vector\n",
    "predict_test_tfidf = best_model_tfidf.predict(test_tfidf)\n",
    "#best_model.cv_results_ "
   ]
  },
  {
   "cell_type": "code",
   "execution_count": 84,
   "metadata": {},
   "outputs": [
    {
     "name": "stdout",
     "output_type": "stream",
     "text": [
      "Score=  1.0\n",
      "AUC Score=  0.6141421791817765\n"
     ]
    }
   ],
   "source": [
    "print(\"Score= \",best_model_tfidf.score(test_tfidf, predict_test_tfidf))\n",
    "auc_score_lin_tfidf = roc_auc_score(y_test, predict_test_tfidf)\n",
    "print(\"AUC Score= \",auc_score_lin_tfidf)"
   ]
  },
  {
   "cell_type": "code",
   "execution_count": 36,
   "metadata": {},
   "outputs": [
    {
     "data": {
      "text/plain": [
       "array([[ 223,  698],\n",
       "       [  98, 6981]], dtype=int64)"
      ]
     },
     "execution_count": 36,
     "metadata": {},
     "output_type": "execute_result"
    }
   ],
   "source": [
    "# Confusion Matrix on Test Data\n",
    "#y_pred = np.argmax(pred_test, axis=1)\n",
    "cm_bow_tfidf = confusion_matrix(y_test, predict_test_tfidf)\n",
    "cm_bow_tfidf"
   ]
  },
  {
   "cell_type": "code",
   "execution_count": 37,
   "metadata": {},
   "outputs": [
    {
     "data": {
      "image/png": "[encoded data removed]",
      "text/plain": [
       "<Figure size 432x288 with 2 Axes>"
      ]
     },
     "metadata": {},
     "output_type": "display_data"
    }
   ],
   "source": [
    "# plot confusion matrix to describe the performance of classifier.\n",
    "import seaborn as sns\n",
    "class_label = [\"negative\", \"positive\"]\n",
    "df_cm = pd.DataFrame(cm_bow_tfidf, index = class_label, columns = class_label)\n",
    "sns.heatmap(df_cm, annot = True, fmt = \"d\")\n",
    "plt.title(\"Confusiion Matrix\")\n",
    "plt.xlabel(\"Predicted Label\")\n",
    "plt.ylabel(\"True Label\")\n",
    "plt.show()"
   ]
  },
  {
   "cell_type": "code",
   "execution_count": 38,
   "metadata": {},
   "outputs": [
    {
     "data": {
      "text/plain": [
       "CalibratedClassifierCV(base_estimator=SGDClassifier(alpha=1, average=False, class_weight=None, epsilon=0.1,\n",
       "       eta0=0.0, fit_intercept=True, l1_ratio=0.15,\n",
       "       learning_rate='optimal', loss='hinge', max_iter=None, n_iter=None,\n",
       "       n_jobs=1, penalty='l2', power_t=0.5, random_state=None,\n",
       "       shuffle=True, tol=None, verbose=0, warm_start=False),\n",
       "            cv=3, method='sigmoid')"
      ]
     },
     "execution_count": 38,
     "metadata": {},
     "output_type": "execute_result"
    }
   ],
   "source": [
    "model_tfidf = CalibratedClassifierCV(lin_svc_tfidf)\n",
    "model_tfidf.fit(train_tfidf, y_train)"
   ]
  },
  {
   "cell_type": "code",
   "execution_count": 39,
   "metadata": {},
   "outputs": [],
   "source": [
    "# Predict target vector\n",
    "predict_test_CalibCV_tfidf = model_tfidf.predict_proba(test_tfidf)"
   ]
  },
  {
   "cell_type": "code",
   "execution_count": 40,
   "metadata": {},
   "outputs": [
    {
     "name": "stderr",
     "output_type": "stream",
     "text": [
      "C:\\Users\\AbhiShek\\Anaconda3\\lib\\site-packages\\sklearn\\utils\\deprecation.py:77: DeprecationWarning: Function plot_roc_curve is deprecated; This will be removed in v0.5.0. Please use scikitplot.metrics.plot_roc instead.\n",
      "  warnings.warn(msg, category=DeprecationWarning)\n"
     ]
    },
    {
     "data": {
      "text/plain": [
       "<matplotlib.axes._subplots.AxesSubplot at 0x1b4534471d0>"
      ]
     },
     "execution_count": 40,
     "metadata": {},
     "output_type": "execute_result"
    },
    {
     "data": {
      "image/png": "[encoded data removed]",
      "text/plain": [
       "<Figure size 432x288 with 1 Axes>"
      ]
     },
     "metadata": {},
     "output_type": "display_data"
    }
   ],
   "source": [
    "#Plotting ROC curve over Test Data\n",
    "skplt.metrics.plot_roc_curve(y_test,predict_test_CalibCV_tfidf)"
   ]
  },
  {
   "cell_type": "markdown",
   "metadata": {},
   "source": [
    "## Applying RBF SVM on tfidf"
   ]
  },
  {
   "cell_type": "code",
   "execution_count": 41,
   "metadata": {},
   "outputs": [
    {
     "data": {
      "text/plain": [
       "['rbf_svc_tfidf.pkl']"
      ]
     },
     "execution_count": 41,
     "metadata": {},
     "output_type": "execute_result"
    }
   ],
   "source": [
    "# SVC with RBF kernel\n",
    "rbf_svc_tfidf = svm.SVC(kernel='rbf')\n",
    "rbf_svc_tfidf.fit(train_tfidf, y_train)\n",
    "\n",
    "joblib.dump(rbf_svc_tfidf,\"rbf_svc_tfidf.pkl\")"
   ]
  },
  {
   "cell_type": "code",
   "execution_count": 42,
   "metadata": {},
   "outputs": [],
   "source": [
    "rbf_svc_tfidf = joblib.load(\"rbf_svc_tfidf.pkl\")"
   ]
  },
  {
   "cell_type": "markdown",
   "metadata": {},
   "source": [
    "## tuning C for rbf kernel"
   ]
  },
  {
   "cell_type": "code",
   "execution_count": 44,
   "metadata": {},
   "outputs": [
    {
     "name": "stdout",
     "output_type": "stream",
     "text": [
      "\n",
      "CV accuracy for C  = 0 is 89%\n",
      "\n",
      "CV accuracy for C  = 1 is 89%\n",
      "\n",
      "CV accuracy for C  = 10 is 91%\n"
     ]
    },
    {
     "data": {
      "text/plain": [
       "['pred_cv_tfidf.pkl']"
      ]
     },
     "execution_count": 44,
     "metadata": {},
     "output_type": "execute_result"
    }
   ],
   "source": [
    "cs = [0.1, 1, 10]\n",
    "for c in cs:\n",
    "    rbf_svc_tfidf = svm.SVC(kernel='rbf', C=c)\n",
    "    rbf_svc_tfidf.fit(train_tfidf, y_train)\n",
    "    pred_cv_tfidf = rbf_svc_tfidf.predict(cv_tfidf)\n",
    "        \n",
    "    # evaluate CV accuracy\n",
    "    acc = accuracy_score(y_cv, pred_cv_tfidf, normalize=True) * float(100)\n",
    "    print('\\nCV accuracy for C  = %d is %d%%' % (c,acc))\n",
    "\n",
    "joblib.dump(rbf_svc_tfidf,\"rbf_svc_tfidf.pkl\")\n",
    "joblib.dump(pred_cv_tfidf,\"pred_cv_tfidf.pkl\")"
   ]
  },
  {
   "cell_type": "markdown",
   "metadata": {},
   "source": [
    "## tuning gamma for rbf kernel"
   ]
  },
  {
   "cell_type": "code",
   "execution_count": 46,
   "metadata": {},
   "outputs": [
    {
     "name": "stdout",
     "output_type": "stream",
     "text": [
      "\n",
      "CV accuracy for gamma  = 0  is 89%\n",
      "\n",
      "CV accuracy for gamma  = 1  is 89%\n",
      "\n",
      "CV accuracy for gamma  = 10  is 89%\n"
     ]
    },
    {
     "ename": "NameError",
     "evalue": "name 'rbf_svc_gm_tfidf' is not defined",
     "output_type": "error",
     "traceback": [
      "\u001b[1;31m---------------------------------------------------------------------------\u001b[0m",
      "\u001b[1;31mNameError\u001b[0m                                 Traceback (most recent call last)",
      "\u001b[1;32m<ipython-input-46-44bd6acd6425>\u001b[0m in \u001b[0;36m<module>\u001b[1;34m()\u001b[0m\n\u001b[0;32m      9\u001b[0m     \u001b[0mprint\u001b[0m\u001b[1;33m(\u001b[0m\u001b[1;34m'\\nCV accuracy for gamma  = %d  is %d%%'\u001b[0m \u001b[1;33m%\u001b[0m \u001b[1;33m(\u001b[0m\u001b[0mgm\u001b[0m\u001b[1;33m,\u001b[0m\u001b[0macc\u001b[0m\u001b[1;33m)\u001b[0m\u001b[1;33m)\u001b[0m\u001b[1;33m\u001b[0m\u001b[0m\n\u001b[0;32m     10\u001b[0m \u001b[1;33m\u001b[0m\u001b[0m\n\u001b[1;32m---> 11\u001b[1;33m \u001b[0mjoblib\u001b[0m\u001b[1;33m.\u001b[0m\u001b[0mdump\u001b[0m\u001b[1;33m(\u001b[0m\u001b[0mrbf_svc_gm_tfidf\u001b[0m\u001b[1;33m,\u001b[0m\u001b[1;34m\"rbf_svc_gm_tfidf.pkl\"\u001b[0m\u001b[1;33m)\u001b[0m\u001b[1;33m\u001b[0m\u001b[0m\n\u001b[0m\u001b[0;32m     12\u001b[0m \u001b[0mjoblib\u001b[0m\u001b[1;33m.\u001b[0m\u001b[0mdump\u001b[0m\u001b[1;33m(\u001b[0m\u001b[0mpred_cv_gm_tfidf\u001b[0m\u001b[1;33m,\u001b[0m\u001b[1;34m\"pred_cv_gm_tfidf.pkl\"\u001b[0m\u001b[1;33m)\u001b[0m\u001b[1;33m\u001b[0m\u001b[0m\n",
      "\u001b[1;31mNameError\u001b[0m: name 'rbf_svc_gm_tfidf' is not defined"
     ]
    }
   ],
   "source": [
    "gammas = [0.1, 1, 10]\n",
    "for gm in gammas:\n",
    "    rbf_svc_gm = svm.SVC(kernel='rbf', gamma=gm)\n",
    "    rbf_svc_gm.fit(train_tfidf, y_train)\n",
    "    pred_cv_gm_tfidf = rbf_svc_gm.predict(cv_tfidf)\n",
    "        \n",
    "    # evaluate CV accuracy\n",
    "    acc = accuracy_score(y_cv, pred_cv_gm_tfidf, normalize=True) * float(100)\n",
    "    print('\\nCV accuracy for gamma  = %d  is %d%%' % (gm,acc))\n",
    "\n",
    "joblib.dump(rbf_svc_gm,\"rbf_svc_gm.pkl\")\n",
    "joblib.dump(pred_cv_gm_tfidf,\"pred_cv_gm_tfidf.pkl\")"
   ]
  },
  {
   "cell_type": "markdown",
   "metadata": {},
   "source": [
    "## SVC with RBF kernel with best parameters"
   ]
  },
  {
   "cell_type": "code",
   "execution_count": 80,
   "metadata": {},
   "outputs": [
    {
     "data": {
      "text/plain": [
       "['rbf_svc_best_tfidf.pkl']"
      ]
     },
     "execution_count": 80,
     "metadata": {},
     "output_type": "execute_result"
    }
   ],
   "source": [
    "# SVC with RBF kernel\n",
    "rbf_svc_best_tfidf = svm.SVC(kernel='rbf', C=10, gamma=1,class_weight='balanced')\n",
    "rbf_svc_best_tfidf.fit(train_tfidf, y_train)\n",
    "\n",
    "joblib.dump(rbf_svc_best_tfidf,\"rbf_svc_best_tfidf.pkl\")"
   ]
  },
  {
   "cell_type": "code",
   "execution_count": 81,
   "metadata": {},
   "outputs": [],
   "source": [
    "rbf_svc_best_tfidf = joblib.load(\"rbf_svc_best_tfidf.pkl\")\n",
    "\n",
    "#rbf_svc_best_fit = rbf_svc_best.fit(train_bow, y_train)\n",
    "#joblib.dump(rbf_svc_best_fit,\"rbf_svc_best_fit.pkl\")"
   ]
  },
  {
   "cell_type": "code",
   "execution_count": 82,
   "metadata": {},
   "outputs": [
    {
     "name": "stdout",
     "output_type": "stream",
     "text": [
      "[1 1 1 ... 1 1 1]\n"
     ]
    }
   ],
   "source": [
    "#Predicting over Test data points\n",
    "pred_test_rbf_tfidf = rbf_svc_best_tfidf.predict(test_tfidf)\n",
    "print(pred_test_rbf_tfidf)"
   ]
  },
  {
   "cell_type": "code",
   "execution_count": 50,
   "metadata": {},
   "outputs": [
    {
     "data": {
      "text/plain": [
       "['model_rbf_CalibCV_tfidf.pkl']"
      ]
     },
     "execution_count": 50,
     "metadata": {},
     "output_type": "execute_result"
    }
   ],
   "source": [
    "model_rbf_CalibCV_tfidf = CalibratedClassifierCV(rbf_svc_best_tfidf)\n",
    "model_rbf_CalibCV_tfidf.fit(train_tfidf, y_train)\n",
    "\n",
    "joblib.dump(model_rbf_CalibCV_tfidf,\"model_rbf_CalibCV_tfidf.pkl\")"
   ]
  },
  {
   "cell_type": "code",
   "execution_count": 51,
   "metadata": {},
   "outputs": [],
   "source": [
    "model_rbf_CalibCV_tfidf = joblib.load(\"model_rbf_CalibCV_tfidf.pkl\")\n",
    "\n",
    "# Predict target vector\n",
    "predict_test_rbf_CalibCV_tfidf = model_rbf_CalibCV_tfidf.predict_proba(test_tfidf)"
   ]
  },
  {
   "cell_type": "code",
   "execution_count": 52,
   "metadata": {},
   "outputs": [
    {
     "data": {
      "text/plain": [
       "array([[0.11034875, 0.88965125],\n",
       "       [0.11034875, 0.88965125],\n",
       "       [0.11034875, 0.88965125],\n",
       "       ...,\n",
       "       [0.11034875, 0.88965125],\n",
       "       [0.11034875, 0.88965125],\n",
       "       [0.11034875, 0.88965125]])"
      ]
     },
     "execution_count": 52,
     "metadata": {},
     "output_type": "execute_result"
    }
   ],
   "source": [
    "predict_test_rbf_CalibCV_tfidf"
   ]
  },
  {
   "cell_type": "code",
   "execution_count": null,
   "metadata": {},
   "outputs": [],
   "source": [
    "#defining own threshhold for prediction over probability values\n",
    "def pred(y):\n",
    "    y_pred = []\n",
    "    i=[]\n",
    "    for i in y:\n",
    "        if i.any()>=0.5:\n",
    "            y_pred.append(1)\n",
    "        else:\n",
    "            y_pred.append(0)\n",
    "    return y_pred\n",
    "\n",
    "pred_test_rbf_tfidf = pred(predict_test_rbf_CalibCV_tfidf)"
   ]
  },
  {
   "cell_type": "code",
   "execution_count": 85,
   "metadata": {},
   "outputs": [
    {
     "name": "stdout",
     "output_type": "stream",
     "text": [
      "Score=  1.0\n",
      "AUC Score=  0.5\n"
     ]
    }
   ],
   "source": [
    "print(\"Score= \",rbf_svc_best_tfidf.score(test_bow, pred_test_rbf_tfidf))\n",
    "auc_score_rbf_tfidf = roc_auc_score(y_test, pred_test_rbf_tfidf)\n",
    "print(\"AUC Score= \",auc_score_rbf_tfidf)"
   ]
  },
  {
   "cell_type": "code",
   "execution_count": 54,
   "metadata": {},
   "outputs": [
    {
     "data": {
      "text/plain": [
       "array([[   0,  921],\n",
       "       [   0, 7079]], dtype=int64)"
      ]
     },
     "execution_count": 54,
     "metadata": {},
     "output_type": "execute_result"
    }
   ],
   "source": [
    "# Confusion Matrix on Test Data\n",
    "#y_pred = np.argmax(pred_test, axis=1)\n",
    "cm_tfidf_rbf = confusion_matrix(y_test, pred_test_rbf_tfidf)\n",
    "cm_tfidf_rbf"
   ]
  },
  {
   "cell_type": "code",
   "execution_count": 55,
   "metadata": {},
   "outputs": [
    {
     "data": {
      "image/png": "[encoded data removed]",
      "text/plain": [
       "<Figure size 432x288 with 2 Axes>"
      ]
     },
     "metadata": {},
     "output_type": "display_data"
    }
   ],
   "source": [
    "# plot confusion matrix to describe the performance of classifier.\n",
    "import seaborn as sns\n",
    "class_label = [\"negative\", \"positive\"]\n",
    "df_cm = pd.DataFrame(cm_tfidf_rbf, index = class_label, columns = class_label)\n",
    "sns.heatmap(df_cm, annot = True, fmt = \"d\")\n",
    "plt.title(\"Confusiion Matrix\")\n",
    "plt.xlabel(\"Predicted Label\")\n",
    "plt.ylabel(\"True Label\")\n",
    "plt.show()"
   ]
  },
  {
   "cell_type": "code",
   "execution_count": 56,
   "metadata": {},
   "outputs": [
    {
     "name": "stderr",
     "output_type": "stream",
     "text": [
      "C:\\Users\\AbhiShek\\Anaconda3\\lib\\site-packages\\sklearn\\utils\\deprecation.py:77: DeprecationWarning: Function plot_roc_curve is deprecated; This will be removed in v0.5.0. Please use scikitplot.metrics.plot_roc instead.\n",
      "  warnings.warn(msg, category=DeprecationWarning)\n"
     ]
    },
    {
     "data": {
      "text/plain": [
       "<matplotlib.axes._subplots.AxesSubplot at 0x1b45372aa58>"
      ]
     },
     "execution_count": 56,
     "metadata": {},
     "output_type": "execute_result"
    },
    {
     "data": {
      "image/png": "[encoded data removed]",
      "text/plain": [
       "<Figure size 432x288 with 1 Axes>"
      ]
     },
     "metadata": {},
     "output_type": "display_data"
    }
   ],
   "source": [
    "#Plotting ROC curve over Test Data\n",
    "skplt.metrics.plot_roc_curve(y_test,predict_test_rbf_CalibCV_tfidf)"
   ]
  },
  {
   "cell_type": "markdown",
   "metadata": {},
   "source": [
    "## avgW2V"
   ]
  },
  {
   "cell_type": "code",
   "execution_count": 28,
   "metadata": {},
   "outputs": [],
   "source": [
    "fileObject = open(\"./final_to_file2.pkl\",'rb') # we open the file for reading \n",
    "final = pickle.load(fileObject) # load the object from the file"
   ]
  },
  {
   "cell_type": "code",
   "execution_count": 29,
   "metadata": {},
   "outputs": [
    {
     "name": "stdout",
     "output_type": "stream",
     "text": [
      "<class 'list'>\n",
      "witti littl book make son laugh loud recit car drive along alway sing refrain hes learn whale india droop love new word book introduc silli classic book will bet son still abl recit memori colleg\n",
      "*****************************************************************\n",
      "['witti', 'littl', 'book', 'make', 'son', 'laugh', 'loud', 'recit', 'car', 'drive', 'along', 'alway', 'sing', 'refrain', 'hes', 'learn', 'whale', 'india', 'droop', 'love', 'new', 'word', 'book', 'introduc', 'silli', 'classic', 'book', 'will', 'bet', 'son', 'still', 'abl', 'recit', 'memori', 'colleg']\n"
     ]
    }
   ],
   "source": [
    "#w2v\n",
    "# Train your own Word2Vec model using your own text corpus\n",
    "i=0\n",
    "list_of_sent=[]\n",
    "for sent in final['CleanedText'].values:\n",
    "    list_of_sent.append(sent.split())\n",
    "    \n",
    "print(type(list_of_sent))\n",
    "print(final['CleanedText'].values[0])\n",
    "print(\"*****************************************************************\")\n",
    "print(list_of_sent[0])"
   ]
  },
  {
   "cell_type": "code",
   "execution_count": 30,
   "metadata": {},
   "outputs": [],
   "source": [
    "w2v_model=Word2Vec(list_of_sent,min_count=5,size=50, workers=4)\n",
    "w2v_words = list(w2v_model.wv.vocab)"
   ]
  },
  {
   "cell_type": "code",
   "execution_count": 31,
   "metadata": {},
   "outputs": [
    {
     "name": "stdout",
     "output_type": "stream",
     "text": [
      "60000\n",
      "<class 'list'>\n"
     ]
    }
   ],
   "source": [
    "# average Word2Vec\n",
    "# compute average word2vec for each review.\n",
    "sent_vectors = []; # the avg-w2v for each sentence/review is stored in this list\n",
    "for sent in list_of_sent: # for each review/sentence\n",
    "    sent_vec = np.zeros(50) # as word vectors are of zero length\n",
    "    cnt_words =0; # num of words with a valid vector in the sentence/review\n",
    "    for word in sent: # for each word in a review/sentence\n",
    "        if word in w2v_words:\n",
    "            vec = w2v_model.wv[word]\n",
    "            sent_vec += vec\n",
    "            cnt_words += 1\n",
    "    if cnt_words != 0:\n",
    "        sent_vec /= cnt_words\n",
    "    sent_vectors.append(sent_vec)\n",
    "print(len(sent_vectors))\n",
    "#print(len(sent_vectors[0]))\n",
    "print(type(sent_vectors))"
   ]
  },
  {
   "cell_type": "code",
   "execution_count": 32,
   "metadata": {},
   "outputs": [],
   "source": [
    "# create design matrix X and target vector y\n",
    "X = np.array(sent_vectors[::]) # end index is exclusive\n",
    "y = np.array(final['Score']) # showing you two ways of indexing a pandas df"
   ]
  },
  {
   "cell_type": "code",
   "execution_count": 33,
   "metadata": {},
   "outputs": [
    {
     "name": "stdout",
     "output_type": "stream",
     "text": [
      "(25000, 50)\n",
      "(7000, 50)\n",
      "(8000, 50)\n",
      "(25000,)\n",
      "(7000,)\n",
      "(8000,)\n"
     ]
    }
   ],
   "source": [
    "#taking 40K data into consideration\n",
    "X_train_nstd = X[0:25000:1]\n",
    "X_cv_nstd = X[25000:32000:1]\n",
    "X_test_nstd = X[32000:40000:1]\n",
    "\n",
    "y_train_nstd = y[0:25000:1]\n",
    "y_cv_nstd = y[25000:32000:1]\n",
    "y_test_nstd = y[32000:40000:1]\n",
    "\n",
    "print(X_train_nstd.shape)\n",
    "print(X_cv_nstd.shape)\n",
    "print(X_test_nstd.shape)\n",
    "print(y_train_nstd.shape)\n",
    "print(y_cv_nstd.shape)\n",
    "print(y_test_nstd.shape)"
   ]
  },
  {
   "cell_type": "code",
   "execution_count": 34,
   "metadata": {},
   "outputs": [],
   "source": [
    "# Column Standardization of the tfidf non-standard vector\n",
    "std_scal = StandardScaler(with_mean=False)\n",
    "std_scal.fit(X_train_nstd)\n",
    "train_avgw2v = std_scal.transform(X_train_nstd)\n",
    "cv_avgw2v = std_scal.transform(X_cv_nstd)\n",
    "test_avgw2v = std_scal.transform(X_test_nstd)"
   ]
  },
  {
   "cell_type": "markdown",
   "metadata": {},
   "source": [
    "## Applying Linear SVM on AvgW2V"
   ]
  },
  {
   "cell_type": "code",
   "execution_count": 64,
   "metadata": {},
   "outputs": [
    {
     "data": {
      "text/plain": [
       "SGDClassifier(alpha=0.0001, average=False, class_weight=None, epsilon=0.1,\n",
       "       eta0=0.0, fit_intercept=True, l1_ratio=0.15,\n",
       "       learning_rate='optimal', loss='hinge', max_iter=None, n_iter=None,\n",
       "       n_jobs=1, penalty='l1', power_t=0.5, random_state=None,\n",
       "       shuffle=True, tol=None, verbose=0, warm_start=False)"
      ]
     },
     "execution_count": 64,
     "metadata": {},
     "output_type": "execute_result"
    }
   ],
   "source": [
    "lin_svc_l1_avgw2v = linear_model.SGDClassifier(penalty='l1')\n",
    "lin_svc_l1_avgw2v.fit(train_avgw2v, y_train)"
   ]
  },
  {
   "cell_type": "code",
   "execution_count": 65,
   "metadata": {},
   "outputs": [
    {
     "name": "stdout",
     "output_type": "stream",
     "text": [
      "Fitting 5 folds for each of 7 candidates, totalling 35 fits\n"
     ]
    },
    {
     "name": "stderr",
     "output_type": "stream",
     "text": [
      "[Parallel(n_jobs=1)]: Done  35 out of  35 | elapsed:    7.1s finished\n"
     ]
    },
    {
     "name": "stdout",
     "output_type": "stream",
     "text": [
      "Best HyperParameter:  {'alpha': 0.001}\n",
      "Best Accuracy: 90.37%\n"
     ]
    }
   ],
   "source": [
    "param_grid = {'alpha':[0.001, 0.01, 0.1, 1, 10, 100, 1000]} #params we need to try on classifier\n",
    "gsv_l1_avgw2v = GridSearchCV(lin_svc_l1_avgw2v,param_grid,cv=5,verbose=1)\n",
    "gsv_l1_avgw2v.fit(train_avgw2v,y_train)\n",
    "\n",
    "print(\"Best HyperParameter: \",gsv_l1_avgw2v.best_params_)\n",
    "print(\"Best Accuracy: %.2f%%\"%(gsv_l1_avgw2v.best_score_*100))"
   ]
  },
  {
   "cell_type": "code",
   "execution_count": 66,
   "metadata": {},
   "outputs": [
    {
     "name": "stdout",
     "output_type": "stream",
     "text": [
      "Scores for alphas:\n",
      "[mean: 0.90368, std: 0.00746, params: {'alpha': 0.001}, mean: 0.88980, std: 0.00000, params: {'alpha': 0.01}, mean: 0.88980, std: 0.00000, params: {'alpha': 0.1}, mean: 0.88980, std: 0.00000, params: {'alpha': 1}, mean: 0.88980, std: 0.00000, params: {'alpha': 10}, mean: 0.88980, std: 0.00000, params: {'alpha': 100}, mean: 0.88980, std: 0.00000, params: {'alpha': 1000}]\n",
      "\n",
      "Best estimator:\n",
      "SGDClassifier(alpha=0.001, average=False, class_weight=None, epsilon=0.1,\n",
      "       eta0=0.0, fit_intercept=True, l1_ratio=0.15,\n",
      "       learning_rate='optimal', loss='hinge', max_iter=None, n_iter=None,\n",
      "       n_jobs=1, penalty='l1', power_t=0.5, random_state=None,\n",
      "       shuffle=True, tol=None, verbose=0, warm_start=False)\n",
      "Best score:\n",
      "0.90368\n",
      "\n",
      "Best parameters:\n",
      "{'alpha': 0.001}\n"
     ]
    },
    {
     "name": "stderr",
     "output_type": "stream",
     "text": [
      "C:\\Users\\AbhiShek\\Anaconda3\\lib\\site-packages\\sklearn\\model_selection\\_search.py:761: DeprecationWarning: The grid_scores_ attribute was deprecated in version 0.18 in favor of the more elaborate cv_results_ attribute. The grid_scores_ attribute will not be available from 0.20\n",
      "  DeprecationWarning)\n"
     ]
    }
   ],
   "source": [
    "    print(\"Scores for alphas:\")\n",
    "    print(gsv_l1_avgw2v.grid_scores_)\n",
    "    print(\"\\nBest estimator:\")\n",
    "    print(gsv_l1_avgw2v.best_estimator_)\n",
    "    print(\"Best score:\")\n",
    "    print(gsv_l1_avgw2v.best_score_)\n",
    "    print(\"\\nBest parameters:\")\n",
    "    print(gsv_l1_avgw2v.best_params_)"
   ]
  },
  {
   "cell_type": "code",
   "execution_count": 67,
   "metadata": {},
   "outputs": [
    {
     "data": {
      "text/plain": [
       "SGDClassifier(alpha=0.0001, average=False, class_weight=None, epsilon=0.1,\n",
       "       eta0=0.0, fit_intercept=True, l1_ratio=0.15,\n",
       "       learning_rate='optimal', loss='hinge', max_iter=None, n_iter=None,\n",
       "       n_jobs=1, penalty='l2', power_t=0.5, random_state=None,\n",
       "       shuffle=True, tol=None, verbose=0, warm_start=False)"
      ]
     },
     "execution_count": 67,
     "metadata": {},
     "output_type": "execute_result"
    }
   ],
   "source": [
    "lin_svc_l2_avgw2v = linear_model.SGDClassifier(penalty='l2')\n",
    "lin_svc_l2_avgw2v.fit(train_avgw2v, y_train)"
   ]
  },
  {
   "cell_type": "code",
   "execution_count": 68,
   "metadata": {},
   "outputs": [
    {
     "name": "stdout",
     "output_type": "stream",
     "text": [
      "Fitting 5 folds for each of 7 candidates, totalling 35 fits\n",
      "Best HyperParameter:  {'alpha': 0.01}\n",
      "\n",
      "Best Accuracy: 90.17%\n"
     ]
    },
    {
     "name": "stderr",
     "output_type": "stream",
     "text": [
      "[Parallel(n_jobs=1)]: Done  35 out of  35 | elapsed:    4.2s finished\n"
     ]
    }
   ],
   "source": [
    "param_grid = {'alpha':[0.001, 0.01, 0.1, 1, 10, 100, 1000]} #params we need to try on classifier\n",
    "gsv_l2_avgw2v = GridSearchCV(lin_svc_l2_avgw2v,param_grid,cv=5,verbose=1)\n",
    "gsv_l2_avgw2v.fit(train_avgw2v,y_train)\n",
    "\n",
    "print(\"Best HyperParameter: \",gsv_l2_avgw2v.best_params_)\n",
    "print(\"\\nBest Accuracy: %.2f%%\"%(gsv_l2_avgw2v.best_score_*100))"
   ]
  },
  {
   "cell_type": "code",
   "execution_count": 69,
   "metadata": {},
   "outputs": [
    {
     "name": "stdout",
     "output_type": "stream",
     "text": [
      "Scores for alphas:\n",
      "[mean: 0.90012, std: 0.00591, params: {'alpha': 0.001}, mean: 0.90172, std: 0.00266, params: {'alpha': 0.01}, mean: 0.88980, std: 0.00000, params: {'alpha': 0.1}, mean: 0.88980, std: 0.00000, params: {'alpha': 1}, mean: 0.88980, std: 0.00000, params: {'alpha': 10}, mean: 0.88980, std: 0.00000, params: {'alpha': 100}, mean: 0.73388, std: 0.31184, params: {'alpha': 1000}]\n",
      "\n",
      "Best estimator:\n",
      "SGDClassifier(alpha=0.01, average=False, class_weight=None, epsilon=0.1,\n",
      "       eta0=0.0, fit_intercept=True, l1_ratio=0.15,\n",
      "       learning_rate='optimal', loss='hinge', max_iter=None, n_iter=None,\n",
      "       n_jobs=1, penalty='l2', power_t=0.5, random_state=None,\n",
      "       shuffle=True, tol=None, verbose=0, warm_start=False)\n",
      "\n",
      "Best score:\n",
      "0.90172\n",
      "\n",
      "Best parameters:\n",
      "{'alpha': 0.01}\n"
     ]
    },
    {
     "name": "stderr",
     "output_type": "stream",
     "text": [
      "C:\\Users\\AbhiShek\\Anaconda3\\lib\\site-packages\\sklearn\\model_selection\\_search.py:761: DeprecationWarning: The grid_scores_ attribute was deprecated in version 0.18 in favor of the more elaborate cv_results_ attribute. The grid_scores_ attribute will not be available from 0.20\n",
      "  DeprecationWarning)\n"
     ]
    }
   ],
   "source": [
    "    print(\"Scores for alphas:\")\n",
    "    print(gsv_l2_avgw2v.grid_scores_)\n",
    "    print(\"\\nBest estimator:\")\n",
    "    print(gsv_l2_avgw2v.best_estimator_)\n",
    "    print(\"\\nBest score:\")\n",
    "    print(gsv_l2_avgw2v.best_score_)\n",
    "    print(\"\\nBest parameters:\")\n",
    "    print(gsv_l2_avgw2v.best_params_)"
   ]
  },
  {
   "cell_type": "code",
   "execution_count": 35,
   "metadata": {},
   "outputs": [
    {
     "data": {
      "text/plain": [
       "['lin_svc_avgw2v.pkl']"
      ]
     },
     "execution_count": 35,
     "metadata": {},
     "output_type": "execute_result"
    }
   ],
   "source": [
    "# SVC with Linear kernel \n",
    "#with best alpha and penalty\n",
    "lin_svc_avgw2v = linear_model.SGDClassifier(alpha=0.001,penalty='l1',loss='hinge',class_weight='balanced')\n",
    "lin_svc_avgw2v.fit(train_avgw2v, y_train)\n",
    "\n",
    "joblib.dump(lin_svc_avgw2v,\"lin_svc_avgw2v.pkl\")"
   ]
  },
  {
   "cell_type": "code",
   "execution_count": 71,
   "metadata": {},
   "outputs": [
    {
     "data": {
      "text/plain": [
       "SGDClassifier(alpha=0.1, average=False, class_weight=None, epsilon=0.1,\n",
       "       eta0=0.0, fit_intercept=True, l1_ratio=0.15,\n",
       "       learning_rate='optimal', loss='hinge', max_iter=None, n_iter=None,\n",
       "       n_jobs=1, penalty='l2', power_t=0.5, random_state=None,\n",
       "       shuffle=True, tol=None, verbose=0, warm_start=False)"
      ]
     },
     "execution_count": 71,
     "metadata": {},
     "output_type": "execute_result"
    }
   ],
   "source": [
    "lin_svc_avgw2v = joblib.load(\"lin_svc.pkl\")\n",
    "\n",
    "# Fit linear kernel model\n",
    "best_model_avgw2v = lin_svc_avgw2v.fit(train_avgw2v, y_train)\n",
    "joblib.dump(best_model_avgw2v,\"best_model_avgw2v.pkl\")\n",
    "best_model_avgw2v"
   ]
  },
  {
   "cell_type": "code",
   "execution_count": 36,
   "metadata": {},
   "outputs": [],
   "source": [
    "best_model_avgw2v = joblib.load(\"best_model_avgw2v.pkl\")\n",
    "\n",
    "# Predict target vector\n",
    "predict_test_avgw2v = best_model_avgw2v.predict(test_avgw2v)\n",
    "#best_model.cv_results_ "
   ]
  },
  {
   "cell_type": "code",
   "execution_count": 39,
   "metadata": {
    "scrolled": true
   },
   "outputs": [
    {
     "data": {
      "text/plain": [
       "CalibratedClassifierCV(base_estimator=SGDClassifier(alpha=0.001, average=False, class_weight='balanced',\n",
       "       epsilon=0.1, eta0=0.0, fit_intercept=True, l1_ratio=0.15,\n",
       "       learning_rate='optimal', loss='hinge', max_iter=None, n_iter=None,\n",
       "       n_jobs=1, penalty='l1', power_t=0.5, random_state=None,\n",
       "       shuffle=True, tol=None, verbose=0, warm_start=False),\n",
       "            cv=3, method='sigmoid')"
      ]
     },
     "execution_count": 39,
     "metadata": {},
     "output_type": "execute_result"
    }
   ],
   "source": [
    "model_avgw2v = CalibratedClassifierCV(lin_svc_avgw2v)\n",
    "model_avgw2v.fit(train_avgw2v, y_train)"
   ]
  },
  {
   "cell_type": "code",
   "execution_count": 40,
   "metadata": {},
   "outputs": [],
   "source": [
    "# Predict target vector\n",
    "predict_test_CalibCV_avgw2v = model_avgw2v.predict_proba(test_avgw2v)"
   ]
  },
  {
   "cell_type": "code",
   "execution_count": 43,
   "metadata": {},
   "outputs": [],
   "source": [
    "#defining own threshhold for prediction over probability values\n",
    "def pred(y):\n",
    "    y_pred = []\n",
    "    i=[]\n",
    "    for i in y:\n",
    "        if i.any()>=0.5:\n",
    "            y_pred.append(1)\n",
    "        else:\n",
    "            y_pred.append(0)\n",
    "    return y_pred\n",
    "\n",
    "predict_test_avgw2v = pred(predict_test_CalibCV_avgw2v)"
   ]
  },
  {
   "cell_type": "code",
   "execution_count": 44,
   "metadata": {},
   "outputs": [
    {
     "name": "stdout",
     "output_type": "stream",
     "text": [
      "Score=  1.0\n",
      "AUC Score=  0.5\n"
     ]
    }
   ],
   "source": [
    "print(\"Score= \",best_model_avgw2v.score(test_avgw2v, predict_test_avgw2v))\n",
    "auc_score_lin_avgw2v = roc_auc_score(y_test, predict_test_avgw2v)\n",
    "print(\"AUC Score= \",auc_score_lin_avgw2v)"
   ]
  },
  {
   "cell_type": "code",
   "execution_count": 45,
   "metadata": {},
   "outputs": [
    {
     "data": {
      "text/plain": [
       "array([[   0,  921],\n",
       "       [   0, 7079]], dtype=int64)"
      ]
     },
     "execution_count": 45,
     "metadata": {},
     "output_type": "execute_result"
    }
   ],
   "source": [
    "# Confusion Matrix on Test Data\n",
    "#y_pred = np.argmax(pred_test, axis=1)\n",
    "cm_avgw2v = confusion_matrix(y_test, predict_test_avgw2v)\n",
    "cm_avgw2v"
   ]
  },
  {
   "cell_type": "code",
   "execution_count": 46,
   "metadata": {},
   "outputs": [
    {
     "data": {
      "image/png": "[encoded data removed]",
      "text/plain": [
       "<Figure size 432x288 with 2 Axes>"
      ]
     },
     "metadata": {},
     "output_type": "display_data"
    }
   ],
   "source": [
    "# plot confusion matrix to describe the performance of classifier.\n",
    "import seaborn as sns\n",
    "class_label = [\"negative\", \"positive\"]\n",
    "df_cm = pd.DataFrame(cm_avgw2v, index = class_label, columns = class_label)\n",
    "sns.heatmap(df_cm, annot = True, fmt = \"d\")\n",
    "plt.title(\"Confusiion Matrix\")\n",
    "plt.xlabel(\"Predicted Label\")\n",
    "plt.ylabel(\"True Label\")\n",
    "plt.show()"
   ]
  },
  {
   "cell_type": "code",
   "execution_count": 47,
   "metadata": {
    "scrolled": false
   },
   "outputs": [
    {
     "name": "stderr",
     "output_type": "stream",
     "text": [
      "C:\\Users\\AbhiShek\\Anaconda3\\lib\\site-packages\\sklearn\\utils\\deprecation.py:77: DeprecationWarning: Function plot_roc_curve is deprecated; This will be removed in v0.5.0. Please use scikitplot.metrics.plot_roc instead.\n",
      "  warnings.warn(msg, category=DeprecationWarning)\n"
     ]
    },
    {
     "data": {
      "text/plain": [
       "<matplotlib.axes._subplots.AxesSubplot at 0x20f2ad33710>"
      ]
     },
     "execution_count": 47,
     "metadata": {},
     "output_type": "execute_result"
    },
    {
     "data": {
      "image/png": "[encoded data removed]",
      "text/plain": [
       "<Figure size 432x288 with 1 Axes>"
      ]
     },
     "metadata": {},
     "output_type": "display_data"
    }
   ],
   "source": [
    "#Plotting ROC curve over Test Data\n",
    "skplt.metrics.plot_roc_curve(y_test,predict_test_CalibCV_avgw2v)"
   ]
  },
  {
   "cell_type": "markdown",
   "metadata": {},
   "source": [
    "## Applying rbf SVM on AvgW2V"
   ]
  },
  {
   "cell_type": "markdown",
   "metadata": {},
   "source": [
    "## tuning C for rbf on avgW2V"
   ]
  },
  {
   "cell_type": "code",
   "execution_count": 80,
   "metadata": {},
   "outputs": [
    {
     "name": "stdout",
     "output_type": "stream",
     "text": [
      "\n",
      "CV accuracy for C  = 0 is 90%\n",
      "\n",
      "CV accuracy for C  = 1 is 91%\n",
      "\n",
      "CV accuracy for C  = 10 is 91%\n"
     ]
    },
    {
     "data": {
      "text/plain": [
       "['pred_cv_avgw2v.pkl']"
      ]
     },
     "execution_count": 80,
     "metadata": {},
     "output_type": "execute_result"
    }
   ],
   "source": [
    "cs = [0.1, 1, 10]\n",
    "for c in cs:\n",
    "    rbf_svc_avgw2v= svm.SVC(kernel='rbf', C=c)\n",
    "    rbf_svc_avgw2v.fit(train_avgw2v, y_train)\n",
    "    pred_cv_avgw2v = rbf_svc_avgw2v.predict(cv_avgw2v)\n",
    "        \n",
    "    # evaluate CV accuracy\n",
    "    acc = accuracy_score(y_cv, pred_cv_avgw2v, normalize=True) * float(100)\n",
    "    print('\\nCV accuracy for C  = %d is %d%%' % (c,acc))\n",
    "\n",
    "joblib.dump(rbf_svc_avgw2v,\"rbf_svc_avgw2v.pkl\")\n",
    "joblib.dump(pred_cv_avgw2v,\"pred_cv_avgw2v.pkl\")"
   ]
  },
  {
   "cell_type": "markdown",
   "metadata": {},
   "source": [
    "## tuning gamma for rbf on avgW2V"
   ]
  },
  {
   "cell_type": "code",
   "execution_count": 82,
   "metadata": {},
   "outputs": [
    {
     "name": "stdout",
     "output_type": "stream",
     "text": [
      "\n",
      "CV accuracy for gamma  = 0  is 91%\n",
      "\n",
      "CV accuracy for gamma  = 1  is 89%\n",
      "\n",
      "CV accuracy for gamma  = 10  is 89%\n"
     ]
    },
    {
     "data": {
      "text/plain": [
       "['pred_cv_gm_avgw2v.pkl']"
      ]
     },
     "execution_count": 82,
     "metadata": {},
     "output_type": "execute_result"
    }
   ],
   "source": [
    "gammas = [0.1, 1, 10]\n",
    "for gm in gammas:\n",
    "    rbf_svc_gm_avgw2v = svm.SVC(kernel='rbf', gamma=gm)\n",
    "    rbf_svc_gm_avgw2v.fit(train_avgw2v, y_train)\n",
    "    pred_cv_gm_avgw2v = rbf_svc_gm_avgw2v.predict(cv_avgw2v)\n",
    "        \n",
    "    # evaluate CV accuracy\n",
    "    acc = accuracy_score(y_cv, pred_cv_gm_avgw2v, normalize=True) * float(100)\n",
    "    print('\\nCV accuracy for gamma  = %d  is %d%%' % (gm,acc))\n",
    "\n",
    "joblib.dump(rbf_svc_gm_avgw2v,\"rbf_svc_gm_avgw2v.pkl\")\n",
    "joblib.dump(pred_cv_gm_avgw2v,\"pred_cv_gm_avgw2v.pkl\")"
   ]
  },
  {
   "cell_type": "markdown",
   "metadata": {},
   "source": [
    "## SVC with RBF kernel with best parameters"
   ]
  },
  {
   "cell_type": "code",
   "execution_count": 83,
   "metadata": {},
   "outputs": [
    {
     "data": {
      "text/plain": [
       "['rbf_svc_best_avgw2v.pkl']"
      ]
     },
     "execution_count": 83,
     "metadata": {},
     "output_type": "execute_result"
    }
   ],
   "source": [
    "# SVC with RBF kernel\n",
    "rbf_svc_best_avgw2v = svm.SVC(kernel='rbf', C=10, gamma=0.1,class_weight='balanced')\n",
    "rbf_svc_best_avgw2v.fit(train_avgw2v, y_train)\n",
    "\n",
    "joblib.dump(rbf_svc_best_avgw2v,\"rbf_svc_best_avgw2v.pkl\")"
   ]
  },
  {
   "cell_type": "code",
   "execution_count": 88,
   "metadata": {},
   "outputs": [],
   "source": [
    "rbf_svc_best_avgw2v = joblib.load(\"rbf_svc_best_avgw2v.pkl\")\n",
    "\n",
    "#rbf_svc_best_fit = rbf_svc_best.fit(train_bow, y_train)\n",
    "#joblib.dump(rbf_svc_best_fit,\"rbf_svc_best_fit.pkl\")"
   ]
  },
  {
   "cell_type": "code",
   "execution_count": 89,
   "metadata": {},
   "outputs": [
    {
     "name": "stdout",
     "output_type": "stream",
     "text": [
      "[1 1 1 ... 1 1 1]\n"
     ]
    }
   ],
   "source": [
    "#Predicting over Test data points\n",
    "pred_test_rbf_avgw2v = rbf_svc_best_avgw2v.predict(test_avgw2v)\n",
    "print(pred_test_rbf_avgw2v)"
   ]
  },
  {
   "cell_type": "code",
   "execution_count": 86,
   "metadata": {},
   "outputs": [
    {
     "data": {
      "text/plain": [
       "['model_rbf_CalibCV_avgw2v.pkl']"
      ]
     },
     "execution_count": 86,
     "metadata": {},
     "output_type": "execute_result"
    }
   ],
   "source": [
    "model_rbf_CalibCV_avgw2v = CalibratedClassifierCV(rbf_svc_best_avgw2v)\n",
    "model_rbf_CalibCV_avgw2v.fit(train_avgw2v, y_train)\n",
    "\n",
    "joblib.dump(model_rbf_CalibCV_avgw2v,\"model_rbf_CalibCV_avgw2v.pkl\")"
   ]
  },
  {
   "cell_type": "code",
   "execution_count": 87,
   "metadata": {},
   "outputs": [],
   "source": [
    "model_rbf_CalibCV_avgw2v = joblib.load(\"model_rbf_CalibCV_avgw2v.pkl\")\n",
    "\n",
    "# Predict target vector\n",
    "predict_test_rbf_CalibCV_avgw2v = model_rbf_CalibCV_avgw2v.predict_proba(test_avgw2v)"
   ]
  },
  {
   "cell_type": "code",
   "execution_count": 88,
   "metadata": {},
   "outputs": [
    {
     "data": {
      "text/plain": [
       "array([[0.1624742 , 0.8375258 ],\n",
       "       [0.40494018, 0.59505982],\n",
       "       [0.05401368, 0.94598632],\n",
       "       ...,\n",
       "       [0.04607432, 0.95392568],\n",
       "       [0.04758219, 0.95241781],\n",
       "       [0.09371685, 0.90628315]])"
      ]
     },
     "execution_count": 88,
     "metadata": {},
     "output_type": "execute_result"
    }
   ],
   "source": [
    "predict_test_rbf_CalibCV_avgw2v"
   ]
  },
  {
   "cell_type": "code",
   "execution_count": null,
   "metadata": {},
   "outputs": [],
   "source": [
    "#defining own threshhold for prediction over probability values\n",
    "def pred(y):\n",
    "    y_pred = []\n",
    "    i=[]\n",
    "    for i in y:\n",
    "        if i.any()>=0.5:\n",
    "            y_pred.append(1)\n",
    "        else:\n",
    "            y_pred.append(0)\n",
    "    return y_pred\n",
    "\n",
    "pred_test_rbf_avgw2v = pred(predict_test_rbf_CalibCV_avgw2v)"
   ]
  },
  {
   "cell_type": "code",
   "execution_count": 90,
   "metadata": {},
   "outputs": [
    {
     "name": "stdout",
     "output_type": "stream",
     "text": [
      "Score=  1.0\n",
      "AUC Score=  0.5\n"
     ]
    }
   ],
   "source": [
    "print(\"Score= \",rbf_svc_best_avgw2v.score(test_avgw2v, pred_test_rbf_avgw2v))\n",
    "auc_score_rbf_avgw2v = roc_auc_score(y_test, pred_test_rbf_avgw2v)\n",
    "print(\"AUC Score= \",auc_score_rbf_avgw2v)"
   ]
  },
  {
   "cell_type": "code",
   "execution_count": 96,
   "metadata": {},
   "outputs": [
    {
     "data": {
      "text/plain": [
       "array([[ 231,  690],\n",
       "       [ 132, 6947]], dtype=int64)"
      ]
     },
     "execution_count": 96,
     "metadata": {},
     "output_type": "execute_result"
    }
   ],
   "source": [
    "# Confusion Matrix on Test Data\n",
    "#y_pred = np.argmax(pred_test, axis=1)\n",
    "cm_avgw2v_rbf = confusion_matrix(y_test, pred_test_rbf_avgw2v)\n",
    "cm_avgw2v_rbf"
   ]
  },
  {
   "cell_type": "code",
   "execution_count": 97,
   "metadata": {},
   "outputs": [
    {
     "data": {
      "image/png": "[encoded data removed]",
      "text/plain": [
       "<Figure size 432x288 with 2 Axes>"
      ]
     },
     "metadata": {},
     "output_type": "display_data"
    }
   ],
   "source": [
    "# plot confusion matrix to describe the performance of classifier.\n",
    "import seaborn as sns\n",
    "class_label = [\"negative\", \"positive\"]\n",
    "df_cm = pd.DataFrame(cm_avgw2v_rbf, index = class_label, columns = class_label)\n",
    "sns.heatmap(df_cm, annot = True, fmt = \"d\")\n",
    "plt.title(\"Confusiion Matrix\")\n",
    "plt.xlabel(\"Predicted Label\")\n",
    "plt.ylabel(\"True Label\")\n",
    "plt.show()"
   ]
  },
  {
   "cell_type": "code",
   "execution_count": 98,
   "metadata": {},
   "outputs": [
    {
     "name": "stderr",
     "output_type": "stream",
     "text": [
      "C:\\Users\\AbhiShek\\Anaconda3\\lib\\site-packages\\sklearn\\utils\\deprecation.py:77: DeprecationWarning: Function plot_roc_curve is deprecated; This will be removed in v0.5.0. Please use scikitplot.metrics.plot_roc instead.\n",
      "  warnings.warn(msg, category=DeprecationWarning)\n"
     ]
    },
    {
     "data": {
      "text/plain": [
       "<matplotlib.axes._subplots.AxesSubplot at 0x1b46f20eeb8>"
      ]
     },
     "execution_count": 98,
     "metadata": {},
     "output_type": "execute_result"
    },
    {
     "data": {
      "image/png": "[encoded data removed]",
      "text/plain": [
       "<Figure size 432x288 with 1 Axes>"
      ]
     },
     "metadata": {},
     "output_type": "display_data"
    }
   ],
   "source": [
    "#Plotting ROC curve over Test Data\n",
    "skplt.metrics.plot_roc_curve(y_test,predict_test_rbf_CalibCV_avgw2v)"
   ]
  },
  {
   "cell_type": "markdown",
   "metadata": {},
   "source": [
    "## tfidf-W-W2V"
   ]
  },
  {
   "cell_type": "code",
   "execution_count": 6,
   "metadata": {},
   "outputs": [],
   "source": [
    "fileObject = open(\"./final_to_file2.pkl\",'rb') # we open the file for reading \n",
    "final = pickle.load(fileObject) # load the object from the file"
   ]
  },
  {
   "cell_type": "code",
   "execution_count": 7,
   "metadata": {},
   "outputs": [
    {
     "name": "stdout",
     "output_type": "stream",
     "text": [
      "<class 'list'>\n",
      "witti littl book make son laugh loud recit car drive along alway sing refrain hes learn whale india droop love new word book introduc silli classic book will bet son still abl recit memori colleg\n",
      "*****************************************************************\n",
      "['witti', 'littl', 'book', 'make', 'son', 'laugh', 'loud', 'recit', 'car', 'drive', 'along', 'alway', 'sing', 'refrain', 'hes', 'learn', 'whale', 'india', 'droop', 'love', 'new', 'word', 'book', 'introduc', 'silli', 'classic', 'book', 'will', 'bet', 'son', 'still', 'abl', 'recit', 'memori', 'colleg']\n"
     ]
    }
   ],
   "source": [
    "#w2v\n",
    "# Train your own Word2Vec model using your own text corpus\n",
    "i=0\n",
    "list_of_sent=[]\n",
    "for sent in final['CleanedText'].values:\n",
    "    list_of_sent.append(sent.split())\n",
    "    \n",
    "print(type(list_of_sent))\n",
    "print(final['CleanedText'].values[0])\n",
    "print(\"*****************************************************************\")\n",
    "print(list_of_sent[0])"
   ]
  },
  {
   "cell_type": "code",
   "execution_count": 8,
   "metadata": {},
   "outputs": [],
   "source": [
    "w2v_model=Word2Vec(list_of_sent,min_count=5,size=50, workers=4)\n",
    "w2v_words = list(w2v_model.wv.vocab)"
   ]
  },
  {
   "cell_type": "code",
   "execution_count": 9,
   "metadata": {},
   "outputs": [],
   "source": [
    "# S = [\"abc def pqr\", \"def def def abc\", \"pqr pqr def\"]\n",
    "model = TfidfVectorizer()\n",
    "tf_idf_matrix = model.fit_transform(final['CleanedText'].values)\n",
    "# we are converting a dictionary with word as a key, and the idf as a value\n",
    "dictionary = dict(zip(model.get_feature_names(), list(model.idf_)))"
   ]
  },
  {
   "cell_type": "code",
   "execution_count": 10,
   "metadata": {},
   "outputs": [],
   "source": [
    "# TF-IDF weighted Word2Vec\n",
    "tfidf_feat = model.get_feature_names() # tfidf words/col-names\n",
    "# final_tf_idf is the sparse matrix with row= sentence, col=word and cell_val = tfidf\n",
    "\n",
    "tfidf_sent_vectors = []; # the tfidf-w2v for each sentence/review is stored in this list\n",
    "row=0;\n",
    "for sent in (list_of_sent): # for each review/sentence \n",
    "    sent_vec = np.zeros(50) # as word vectors are of zero length\n",
    "    weight_sum =0; # num of words with a valid vector in the sentence/review\n",
    "    for word in sent: # for each word in a review/sentence\n",
    "        if word in w2v_words:\n",
    "            vec = w2v_model.wv[word]\n",
    "#             tf_idf = tf_idf_matrix[row, tfidf_feat.index(word)]\n",
    "            # to reduce the computation we are \n",
    "            # dictionary[word] = idf value of word in whole courpus\n",
    "            # sent.count(word) = tf valeus of word in this review\n",
    "            tf_idf = dictionary[word]*(sent.count(word)/len(sent))\n",
    "            sent_vec += (vec * tf_idf)\n",
    "            weight_sum += tf_idf\n",
    "    if weight_sum != 0:\n",
    "        sent_vec /= weight_sum\n",
    "    tfidf_sent_vectors.append(sent_vec)\n",
    "    row += 1"
   ]
  },
  {
   "cell_type": "code",
   "execution_count": 11,
   "metadata": {},
   "outputs": [
    {
     "name": "stdout",
     "output_type": "stream",
     "text": [
      "60000\n",
      "(60000, 50)\n",
      "<class 'list'>\n"
     ]
    }
   ],
   "source": [
    "print(len(tfidf_sent_vectors))\n",
    "print(np.shape(tfidf_sent_vectors))\n",
    "print(type(tfidf_sent_vectors))"
   ]
  },
  {
   "cell_type": "code",
   "execution_count": 13,
   "metadata": {},
   "outputs": [],
   "source": [
    "# create design matrix X and target vector y\n",
    "X = np.array(tfidf_sent_vectors[::]) # end index is exclusive\n",
    "y = np.array(final['Score']) # showing you two ways of indexing a pandas df"
   ]
  },
  {
   "cell_type": "code",
   "execution_count": 14,
   "metadata": {},
   "outputs": [
    {
     "name": "stdout",
     "output_type": "stream",
     "text": [
      "(25000, 50)\n",
      "(7000, 50)\n",
      "(8000, 50)\n",
      "(25000,)\n",
      "(7000,)\n",
      "(8000,)\n"
     ]
    }
   ],
   "source": [
    "#taking 40K data into consideration\n",
    "X_train_nstd = X[0:25000:1]\n",
    "X_cv_nstd = X[25000:32000:1]\n",
    "X_test_nstd = X[32000:40000:1]\n",
    "\n",
    "y_train_nstd = y[0:25000:1]\n",
    "y_cv_nstd = y[25000:32000:1]\n",
    "y_test_nstd = y[32000:40000:1]\n",
    "\n",
    "print(X_train_nstd.shape)\n",
    "print(X_cv_nstd.shape)\n",
    "print(X_test_nstd.shape)\n",
    "print(y_train_nstd.shape)\n",
    "print(y_cv_nstd.shape)\n",
    "print(y_test_nstd.shape)"
   ]
  },
  {
   "cell_type": "code",
   "execution_count": 15,
   "metadata": {},
   "outputs": [],
   "source": [
    "# Column Standardization of the tfidf non-standard vector\n",
    "std_scal = StandardScaler(with_mean=False)\n",
    "std_scal.fit(X_train_nstd)\n",
    "train_tfidfww2v = std_scal.transform(X_train_nstd)\n",
    "cv_tfidfww2v = std_scal.transform(X_cv_nstd)\n",
    "test_tfidfww2v = std_scal.transform(X_test_nstd)"
   ]
  },
  {
   "cell_type": "markdown",
   "metadata": {},
   "source": [
    "## Applying Linear SVM on tfidf-W-W2V"
   ]
  },
  {
   "cell_type": "code",
   "execution_count": 108,
   "metadata": {},
   "outputs": [
    {
     "data": {
      "text/plain": [
       "SGDClassifier(alpha=0.0001, average=False, class_weight=None, epsilon=0.1,\n",
       "       eta0=0.0, fit_intercept=True, l1_ratio=0.15,\n",
       "       learning_rate='optimal', loss='hinge', max_iter=None, n_iter=None,\n",
       "       n_jobs=1, penalty='l1', power_t=0.5, random_state=None,\n",
       "       shuffle=True, tol=None, verbose=0, warm_start=False)"
      ]
     },
     "execution_count": 108,
     "metadata": {},
     "output_type": "execute_result"
    }
   ],
   "source": [
    "lin_svc_l1_tfidfww2v = linear_model.SGDClassifier(penalty='l1')\n",
    "lin_svc_l1_tfidfww2v.fit(train_tfidfww2v, y_train)"
   ]
  },
  {
   "cell_type": "code",
   "execution_count": 109,
   "metadata": {},
   "outputs": [
    {
     "name": "stdout",
     "output_type": "stream",
     "text": [
      "Fitting 5 folds for each of 7 candidates, totalling 35 fits\n"
     ]
    },
    {
     "name": "stderr",
     "output_type": "stream",
     "text": [
      "[Parallel(n_jobs=1)]: Done  35 out of  35 | elapsed:    8.8s finished\n"
     ]
    },
    {
     "name": "stdout",
     "output_type": "stream",
     "text": [
      "Best HyperParameter:  {'alpha': 0.001}\n",
      "Best Accuracy: 90.19%\n"
     ]
    }
   ],
   "source": [
    "param_grid = {'alpha':[0.001, 0.01, 0.1, 1, 10, 100, 1000]} #params we need to try on classifier\n",
    "gsv_l1_tfidfww2v = GridSearchCV(lin_svc_l1_tfidfww2v,param_grid,cv=5,verbose=1)\n",
    "gsv_l1_tfidfww2v.fit(train_tfidfww2v,y_train)\n",
    "\n",
    "print(\"Best HyperParameter: \",gsv_l1_tfidfww2v.best_params_)\n",
    "print(\"Best Accuracy: %.2f%%\"%(gsv_l1_tfidfww2v.best_score_*100))"
   ]
  },
  {
   "cell_type": "code",
   "execution_count": 110,
   "metadata": {},
   "outputs": [
    {
     "name": "stdout",
     "output_type": "stream",
     "text": [
      "Scores for alphas:\n",
      "[mean: 0.90188, std: 0.00132, params: {'alpha': 0.001}, mean: 0.88980, std: 0.00000, params: {'alpha': 0.01}, mean: 0.88980, std: 0.00000, params: {'alpha': 0.1}, mean: 0.88980, std: 0.00000, params: {'alpha': 1}, mean: 0.88980, std: 0.00000, params: {'alpha': 10}, mean: 0.88980, std: 0.00000, params: {'alpha': 100}, mean: 0.88980, std: 0.00000, params: {'alpha': 1000}]\n",
      "\n",
      "Best estimator:\n",
      "SGDClassifier(alpha=0.001, average=False, class_weight=None, epsilon=0.1,\n",
      "       eta0=0.0, fit_intercept=True, l1_ratio=0.15,\n",
      "       learning_rate='optimal', loss='hinge', max_iter=None, n_iter=None,\n",
      "       n_jobs=1, penalty='l1', power_t=0.5, random_state=None,\n",
      "       shuffle=True, tol=None, verbose=0, warm_start=False)\n",
      "Best score:\n",
      "0.90188\n",
      "\n",
      "Best parameters:\n",
      "{'alpha': 0.001}\n"
     ]
    },
    {
     "name": "stderr",
     "output_type": "stream",
     "text": [
      "C:\\Users\\AbhiShek\\Anaconda3\\lib\\site-packages\\sklearn\\model_selection\\_search.py:761: DeprecationWarning: The grid_scores_ attribute was deprecated in version 0.18 in favor of the more elaborate cv_results_ attribute. The grid_scores_ attribute will not be available from 0.20\n",
      "  DeprecationWarning)\n"
     ]
    }
   ],
   "source": [
    "    print(\"Scores for alphas:\")\n",
    "    print(gsv_l1_tfidfww2v.grid_scores_)\n",
    "    print(\"\\nBest estimator:\")\n",
    "    print(gsv_l1_tfidfww2v.best_estimator_)\n",
    "    print(\"Best score:\")\n",
    "    print(gsv_l1_tfidfww2v.best_score_)\n",
    "    print(\"\\nBest parameters:\")\n",
    "    print(gsv_l1_tfidfww2v.best_params_)"
   ]
  },
  {
   "cell_type": "code",
   "execution_count": 111,
   "metadata": {},
   "outputs": [
    {
     "data": {
      "text/plain": [
       "SGDClassifier(alpha=0.0001, average=False, class_weight=None, epsilon=0.1,\n",
       "       eta0=0.0, fit_intercept=True, l1_ratio=0.15,\n",
       "       learning_rate='optimal', loss='hinge', max_iter=None, n_iter=None,\n",
       "       n_jobs=1, penalty='l2', power_t=0.5, random_state=None,\n",
       "       shuffle=True, tol=None, verbose=0, warm_start=False)"
      ]
     },
     "execution_count": 111,
     "metadata": {},
     "output_type": "execute_result"
    }
   ],
   "source": [
    "lin_svc_l2_tfidfww2v = linear_model.SGDClassifier(penalty='l2')\n",
    "lin_svc_l2_tfidfww2v.fit(train_tfidfww2v, y_train)"
   ]
  },
  {
   "cell_type": "code",
   "execution_count": 112,
   "metadata": {},
   "outputs": [
    {
     "name": "stdout",
     "output_type": "stream",
     "text": [
      "Fitting 5 folds for each of 7 candidates, totalling 35 fits\n",
      "Best HyperParameter:  {'alpha': 0.01}\n",
      "\n",
      "Best Accuracy: 90.25%\n"
     ]
    },
    {
     "name": "stderr",
     "output_type": "stream",
     "text": [
      "[Parallel(n_jobs=1)]: Done  35 out of  35 | elapsed:    4.8s finished\n"
     ]
    }
   ],
   "source": [
    "param_grid = {'alpha':[0.001, 0.01, 0.1, 1, 10, 100, 1000]} #params we need to try on classifier\n",
    "gsv_l2_tfidfww2v = GridSearchCV(lin_svc_l2_tfidfww2v,param_grid,cv=5,verbose=1)\n",
    "gsv_l2_tfidfww2v.fit(train_tfidfww2v,y_train)\n",
    "\n",
    "print(\"Best HyperParameter: \",gsv_l2_tfidfww2v.best_params_)\n",
    "print(\"\\nBest Accuracy: %.2f%%\"%(gsv_l2_tfidfww2v.best_score_*100))"
   ]
  },
  {
   "cell_type": "code",
   "execution_count": 113,
   "metadata": {},
   "outputs": [
    {
     "name": "stdout",
     "output_type": "stream",
     "text": [
      "Scores for alphas:\n",
      "[mean: 0.89856, std: 0.00424, params: {'alpha': 0.001}, mean: 0.90252, std: 0.00338, params: {'alpha': 0.01}, mean: 0.88980, std: 0.00000, params: {'alpha': 0.1}, mean: 0.88980, std: 0.00000, params: {'alpha': 1}, mean: 0.88980, std: 0.00000, params: {'alpha': 10}, mean: 0.79896, std: 0.18168, params: {'alpha': 100}, mean: 0.73388, std: 0.31184, params: {'alpha': 1000}]\n",
      "\n",
      "Best estimator:\n",
      "SGDClassifier(alpha=0.01, average=False, class_weight=None, epsilon=0.1,\n",
      "       eta0=0.0, fit_intercept=True, l1_ratio=0.15,\n",
      "       learning_rate='optimal', loss='hinge', max_iter=None, n_iter=None,\n",
      "       n_jobs=1, penalty='l2', power_t=0.5, random_state=None,\n",
      "       shuffle=True, tol=None, verbose=0, warm_start=False)\n",
      "\n",
      "Best score:\n",
      "0.90252\n",
      "\n",
      "Best parameters:\n",
      "{'alpha': 0.01}\n"
     ]
    },
    {
     "name": "stderr",
     "output_type": "stream",
     "text": [
      "C:\\Users\\AbhiShek\\Anaconda3\\lib\\site-packages\\sklearn\\model_selection\\_search.py:761: DeprecationWarning: The grid_scores_ attribute was deprecated in version 0.18 in favor of the more elaborate cv_results_ attribute. The grid_scores_ attribute will not be available from 0.20\n",
      "  DeprecationWarning)\n"
     ]
    }
   ],
   "source": [
    "    print(\"Scores for alphas:\")\n",
    "    print(gsv_l2_tfidfww2v.grid_scores_)\n",
    "    print(\"\\nBest estimator:\")\n",
    "    print(gsv_l2_tfidfww2v.best_estimator_)\n",
    "    print(\"\\nBest score:\")\n",
    "    print(gsv_l2_tfidfww2v.best_score_)\n",
    "    print(\"\\nBest parameters:\")\n",
    "    print(gsv_l2_tfidfww2v.best_params_)"
   ]
  },
  {
   "cell_type": "code",
   "execution_count": 114,
   "metadata": {},
   "outputs": [
    {
     "data": {
      "text/plain": [
       "['lin_svc_tfidfww2v.pkl']"
      ]
     },
     "execution_count": 114,
     "metadata": {},
     "output_type": "execute_result"
    }
   ],
   "source": [
    "# SVC with Linear kernel \n",
    "#with best alpha and penalty\n",
    "lin_svc_tfidfww2v = linear_model.SGDClassifier(alpha=0.01,penalty='l2',loss='hinge')\n",
    "lin_svc_tfidfww2v.fit(train_tfidfww2v, y_train)\n",
    "\n",
    "joblib.dump(lin_svc_tfidfww2v,\"lin_svc_tfidfww2v.pkl\")"
   ]
  },
  {
   "cell_type": "code",
   "execution_count": 115,
   "metadata": {},
   "outputs": [
    {
     "data": {
      "text/plain": [
       "SGDClassifier(alpha=0.01, average=False, class_weight=None, epsilon=0.1,\n",
       "       eta0=0.0, fit_intercept=True, l1_ratio=0.15,\n",
       "       learning_rate='optimal', loss='hinge', max_iter=None, n_iter=None,\n",
       "       n_jobs=1, penalty='l2', power_t=0.5, random_state=None,\n",
       "       shuffle=True, tol=None, verbose=0, warm_start=False)"
      ]
     },
     "execution_count": 115,
     "metadata": {},
     "output_type": "execute_result"
    }
   ],
   "source": [
    "lin_svc_tfidfww2v = joblib.load(\"lin_svc_tfidfww2v.pkl\")\n",
    "\n",
    "# Fit linear kernel model\n",
    "best_model_tfidfww2v = lin_svc_tfidfww2v.fit(train_tfidfww2v, y_train)\n",
    "joblib.dump(best_model_tfidfww2v,\"best_model_tfidfww2v.pkl\")\n",
    "best_model_tfidfww2v"
   ]
  },
  {
   "cell_type": "code",
   "execution_count": 63,
   "metadata": {},
   "outputs": [],
   "source": [
    "best_model_tfidfww2v = joblib.load(\"best_model_tfidfww2v.pkl\")\n",
    "\n",
    "# Predict target vector\n",
    "predict_test_tfidfww2v = best_model_tfidfww2v.predict(test_tfidfww2v)\n",
    "#best_model.cv_results_ "
   ]
  },
  {
   "cell_type": "code",
   "execution_count": 64,
   "metadata": {},
   "outputs": [
    {
     "name": "stdout",
     "output_type": "stream",
     "text": [
      "Score=  1.0\n",
      "AUC Score=  0.49924935875697246\n"
     ]
    }
   ],
   "source": [
    "print(\"Score= \",best_model_tfidfww2v.score(test_tfidfww2v, predict_test_tfidfww2v))\n",
    "auc_score_lin_tfidfww2v = roc_auc_score(y_test, predict_test_tfidfww2v)\n",
    "print(\"AUC Score= \",auc_score_lin_tfidfww2v)"
   ]
  },
  {
   "cell_type": "code",
   "execution_count": 119,
   "metadata": {},
   "outputs": [
    {
     "data": {
      "text/plain": [
       "array([[ 142,  779],\n",
       "       [  34, 7045]], dtype=int64)"
      ]
     },
     "execution_count": 119,
     "metadata": {},
     "output_type": "execute_result"
    }
   ],
   "source": [
    "# Confusion Matrix on Test Data\n",
    "#y_pred = np.argmax(pred_test, axis=1)\n",
    "cm_tfidfww2v = confusion_matrix(y_test, predict_test_tfidfww2v)\n",
    "cm_tfidfww2v"
   ]
  },
  {
   "cell_type": "code",
   "execution_count": 120,
   "metadata": {},
   "outputs": [
    {
     "data": {
      "image/png": "[encoded data removed]",
      "text/plain": [
       "<Figure size 432x288 with 2 Axes>"
      ]
     },
     "metadata": {},
     "output_type": "display_data"
    }
   ],
   "source": [
    "# plot confusion matrix to describe the performance of classifier.\n",
    "import seaborn as sns\n",
    "class_label = [\"negative\", \"positive\"]\n",
    "df_cm = pd.DataFrame(cm_tfidfww2v, index = class_label, columns = class_label)\n",
    "sns.heatmap(df_cm, annot = True, fmt = \"d\")\n",
    "plt.title(\"Confusiion Matrix\")\n",
    "plt.xlabel(\"Predicted Label\")\n",
    "plt.ylabel(\"True Label\")\n",
    "plt.show()"
   ]
  },
  {
   "cell_type": "code",
   "execution_count": 121,
   "metadata": {},
   "outputs": [
    {
     "data": {
      "text/plain": [
       "CalibratedClassifierCV(base_estimator=SGDClassifier(alpha=0.01, average=False, class_weight=None, epsilon=0.1,\n",
       "       eta0=0.0, fit_intercept=True, l1_ratio=0.15,\n",
       "       learning_rate='optimal', loss='hinge', max_iter=None, n_iter=None,\n",
       "       n_jobs=1, penalty='l2', power_t=0.5, random_state=None,\n",
       "       shuffle=True, tol=None, verbose=0, warm_start=False),\n",
       "            cv=3, method='sigmoid')"
      ]
     },
     "execution_count": 121,
     "metadata": {},
     "output_type": "execute_result"
    }
   ],
   "source": [
    "model_tfidfww2v = CalibratedClassifierCV(lin_svc_tfidfww2v)\n",
    "model_tfidfww2v.fit(train_tfidfww2v, y_train)"
   ]
  },
  {
   "cell_type": "code",
   "execution_count": 122,
   "metadata": {},
   "outputs": [],
   "source": [
    "# Predict target vector\n",
    "predict_test_CalibCV_tfidfww2v = model_tfidfww2v.predict_proba(test_tfidfww2v)"
   ]
  },
  {
   "cell_type": "code",
   "execution_count": 123,
   "metadata": {},
   "outputs": [
    {
     "name": "stderr",
     "output_type": "stream",
     "text": [
      "C:\\Users\\AbhiShek\\Anaconda3\\lib\\site-packages\\sklearn\\utils\\deprecation.py:77: DeprecationWarning: Function plot_roc_curve is deprecated; This will be removed in v0.5.0. Please use scikitplot.metrics.plot_roc instead.\n",
      "  warnings.warn(msg, category=DeprecationWarning)\n"
     ]
    },
    {
     "data": {
      "text/plain": [
       "<matplotlib.axes._subplots.AxesSubplot at 0x1b46d242160>"
      ]
     },
     "execution_count": 123,
     "metadata": {},
     "output_type": "execute_result"
    },
    {
     "data": {
      "image/png": "[encoded data removed]",
      "text/plain": [
       "<Figure size 432x288 with 1 Axes>"
      ]
     },
     "metadata": {},
     "output_type": "display_data"
    }
   ],
   "source": [
    "#Plotting ROC curve over Test Data\n",
    "skplt.metrics.plot_roc_curve(y_test,predict_test_CalibCV_tfidfww2v)"
   ]
  },
  {
   "cell_type": "markdown",
   "metadata": {},
   "source": [
    "## Applying rbf on tfidf-W-W2V"
   ]
  },
  {
   "cell_type": "markdown",
   "metadata": {},
   "source": [
    "## tuning C for rbf on avgW2V"
   ]
  },
  {
   "cell_type": "code",
   "execution_count": 124,
   "metadata": {},
   "outputs": [
    {
     "name": "stdout",
     "output_type": "stream",
     "text": [
      "\n",
      "CV accuracy for C  = 0 is 90%\n",
      "\n",
      "CV accuracy for C  = 1 is 91%\n",
      "\n",
      "CV accuracy for C  = 10 is 91%\n"
     ]
    },
    {
     "data": {
      "text/plain": [
       "['pred_cv_tfidfww2v.pkl']"
      ]
     },
     "execution_count": 124,
     "metadata": {},
     "output_type": "execute_result"
    }
   ],
   "source": [
    "cs = [0.1, 1, 10]\n",
    "for c in cs:\n",
    "    rbf_svc_tfidfww2v= svm.SVC(kernel='rbf', C=c)\n",
    "    rbf_svc_tfidfww2v.fit(train_avgw2v, y_train)\n",
    "    pred_cv_tfidfww2v = rbf_svc_tfidfww2v.predict(cv_tfidfww2v)\n",
    "        \n",
    "    # evaluate CV accuracy\n",
    "    acc = accuracy_score(y_cv, pred_cv_tfidfww2v, normalize=True) * float(100)\n",
    "    print('\\nCV accuracy for C  = %d is %d%%' % (c,acc))\n",
    "\n",
    "joblib.dump(rbf_svc_tfidfww2v,\"rbf_svc_tfidfww2v.pkl\")\n",
    "joblib.dump(pred_cv_tfidfww2v,\"pred_cv_tfidfww2v.pkl\")"
   ]
  },
  {
   "cell_type": "markdown",
   "metadata": {},
   "source": [
    "## tuning gamma for rbf on avgW2V"
   ]
  },
  {
   "cell_type": "code",
   "execution_count": 126,
   "metadata": {},
   "outputs": [
    {
     "name": "stdout",
     "output_type": "stream",
     "text": [
      "\n",
      "CV accuracy for gamma  = 0  is 91%\n",
      "\n",
      "CV accuracy for gamma  = 1  is 89%\n",
      "\n",
      "CV accuracy for gamma  = 10  is 89%\n"
     ]
    },
    {
     "data": {
      "text/plain": [
       "['pred_cv_gm_tfidfww2v.pkl']"
      ]
     },
     "execution_count": 126,
     "metadata": {},
     "output_type": "execute_result"
    }
   ],
   "source": [
    "gammas = [0.1, 1, 10]\n",
    "for gm in gammas:\n",
    "    rbf_svc_gm_tfidfww2v = svm.SVC(kernel='rbf', gamma=gm)\n",
    "    rbf_svc_gm_tfidfww2v.fit(train_tfidfww2v, y_train)\n",
    "    pred_cv_gm_tfidfww2v = rbf_svc_gm_tfidfww2v.predict(cv_tfidfww2v)\n",
    "        \n",
    "    # evaluate CV accuracy\n",
    "    acc = accuracy_score(y_cv, pred_cv_gm_tfidfww2v, normalize=True) * float(100)\n",
    "    print('\\nCV accuracy for gamma  = %d  is %d%%' % (gm,acc))\n",
    "\n",
    "joblib.dump(rbf_svc_gm_avgw2v,\"rbf_svc_gm_tfidfww2v.pkl\")\n",
    "joblib.dump(pred_cv_gm_avgw2v,\"pred_cv_gm_tfidfww2v.pkl\")"
   ]
  },
  {
   "cell_type": "markdown",
   "metadata": {},
   "source": [
    "## SVC with RBF kernel with best parameters"
   ]
  },
  {
   "cell_type": "code",
   "execution_count": 16,
   "metadata": {},
   "outputs": [
    {
     "data": {
      "text/plain": [
       "['rbf_svc_best_tfidfww2v.pkl']"
      ]
     },
     "execution_count": 16,
     "metadata": {},
     "output_type": "execute_result"
    }
   ],
   "source": [
    "# SVC with RBF kernel\n",
    "rbf_svc_best_tfidfww2v = svm.SVC(kernel='rbf', C=10, gamma=0.1,class_weight='balanced')\n",
    "rbf_svc_best_tfidfww2v.fit(train_tfidfww2v, y_train)\n",
    "\n",
    "joblib.dump(rbf_svc_best_tfidfww2v,\"rbf_svc_best_tfidfww2v.pkl\")"
   ]
  },
  {
   "cell_type": "code",
   "execution_count": 17,
   "metadata": {},
   "outputs": [],
   "source": [
    "rbf_svc_best_tfidfww2v = joblib.load(\"rbf_svc_best_tfidfww2v.pkl\")\n",
    "\n",
    "#rbf_svc_best_fit = rbf_svc_best.fit(train_bow, y_train)\n",
    "#joblib.dump(rbf_svc_best_fit,\"rbf_svc_best_fit.pkl\")"
   ]
  },
  {
   "cell_type": "code",
   "execution_count": 18,
   "metadata": {},
   "outputs": [
    {
     "name": "stdout",
     "output_type": "stream",
     "text": [
      "[1 1 1 ... 1 1 1]\n"
     ]
    }
   ],
   "source": [
    "#Predicting over Test data points\n",
    "pred_test_rbf_tfidfww2v = rbf_svc_best_tfidfww2v.predict(test_tfidfww2v)\n",
    "print(pred_test_rbf_tfidfww2v)"
   ]
  },
  {
   "cell_type": "code",
   "execution_count": 19,
   "metadata": {},
   "outputs": [
    {
     "data": {
      "text/plain": [
       "['model_rbf_CalibCV_tfidfww2v.pkl']"
      ]
     },
     "execution_count": 19,
     "metadata": {},
     "output_type": "execute_result"
    }
   ],
   "source": [
    "model_rbf_CalibCV_tfidfww2v = CalibratedClassifierCV(rbf_svc_best_tfidfww2v)\n",
    "model_rbf_CalibCV_tfidfww2v.fit(train_tfidfww2v, y_train)\n",
    "\n",
    "joblib.dump(model_rbf_CalibCV_tfidfww2v,\"model_rbf_CalibCV_tfidfww2v.pkl\")"
   ]
  },
  {
   "cell_type": "code",
   "execution_count": 20,
   "metadata": {},
   "outputs": [],
   "source": [
    "model_rbf_CalibCV_tfidfww2v = joblib.load(\"model_rbf_CalibCV_tfidfww2v.pkl\")\n",
    "\n",
    "# Predict target vector\n",
    "predict_test_rbf_CalibCV_tfidfww2v = model_rbf_CalibCV_tfidfww2v.predict_proba(test_tfidfww2v)"
   ]
  },
  {
   "cell_type": "code",
   "execution_count": 21,
   "metadata": {},
   "outputs": [
    {
     "data": {
      "text/plain": [
       "array([[0.24921219, 0.75078781],\n",
       "       [0.32430499, 0.67569501],\n",
       "       [0.06570459, 0.93429541],\n",
       "       ...,\n",
       "       [0.01825257, 0.98174743],\n",
       "       [0.04319045, 0.95680955],\n",
       "       [0.06765002, 0.93234998]])"
      ]
     },
     "execution_count": 21,
     "metadata": {},
     "output_type": "execute_result"
    }
   ],
   "source": [
    "predict_test_rbf_CalibCV_tfidfww2v"
   ]
  },
  {
   "cell_type": "code",
   "execution_count": null,
   "metadata": {},
   "outputs": [],
   "source": [
    "#defining own threshhold for prediction over probability values\n",
    "def pred(y):\n",
    "    y_pred = []\n",
    "    i=[]\n",
    "    for i in y:\n",
    "        if i.any()>=0.5:\n",
    "            y_pred.append(1)\n",
    "        else:\n",
    "            y_pred.append(0)\n",
    "    return y_pred\n",
    "\n",
    "pred_test_rbf_tfidfww2v = pred(predict_test_rbf_CalibCV_tfidfww2v)"
   ]
  },
  {
   "cell_type": "code",
   "execution_count": 23,
   "metadata": {},
   "outputs": [
    {
     "name": "stdout",
     "output_type": "stream",
     "text": [
      "Score=  1.0\n",
      "AUC Score=  0.6125661239932335\n"
     ]
    }
   ],
   "source": [
    "print(\"Score= \",rbf_svc_best_tfidfww2v.score(test_tfidfww2v, pred_test_rbf_tfidfww2v))\n",
    "auc_score_rbf_tfidfww2v = roc_auc_score(y_test, pred_test_rbf_tfidfww2v)\n",
    "print(\"AUC Score= \",auc_score_rbf_tfidfww2v)"
   ]
  },
  {
   "cell_type": "code",
   "execution_count": 24,
   "metadata": {},
   "outputs": [
    {
     "data": {
      "text/plain": [
       "array([[ 224,  697],\n",
       "       [ 128, 6951]], dtype=int64)"
      ]
     },
     "execution_count": 24,
     "metadata": {},
     "output_type": "execute_result"
    }
   ],
   "source": [
    "# Confusion Matrix on Test Data\n",
    "#y_pred = np.argmax(pred_test, axis=1)\n",
    "cm_tfidfww2v_rbf = confusion_matrix(y_test, pred_test_rbf_tfidfww2v)\n",
    "cm_tfidfww2v_rbf"
   ]
  },
  {
   "cell_type": "code",
   "execution_count": 25,
   "metadata": {},
   "outputs": [
    {
     "data": {
      "image/png": "[encoded data removed]",
      "text/plain": [
       "<Figure size 432x288 with 2 Axes>"
      ]
     },
     "metadata": {},
     "output_type": "display_data"
    }
   ],
   "source": [
    "# plot confusion matrix to describe the performance of classifier.\n",
    "import seaborn as sns\n",
    "class_label = [\"negative\", \"positive\"]\n",
    "df_cm = pd.DataFrame(cm_tfidfww2v_rbf, index = class_label, columns = class_label)\n",
    "sns.heatmap(df_cm, annot = True, fmt = \"d\")\n",
    "plt.title(\"Confusiion Matrix\")\n",
    "plt.xlabel(\"Predicted Label\")\n",
    "plt.ylabel(\"True Label\")\n",
    "plt.show()"
   ]
  },
  {
   "cell_type": "code",
   "execution_count": 26,
   "metadata": {},
   "outputs": [
    {
     "name": "stderr",
     "output_type": "stream",
     "text": [
      "C:\\Users\\AbhiShek\\Anaconda3\\lib\\site-packages\\sklearn\\utils\\deprecation.py:77: DeprecationWarning: Function plot_roc_curve is deprecated; This will be removed in v0.5.0. Please use scikitplot.metrics.plot_roc instead.\n",
      "  warnings.warn(msg, category=DeprecationWarning)\n"
     ]
    },
    {
     "data": {
      "text/plain": [
       "<matplotlib.axes._subplots.AxesSubplot at 0x20f3518f208>"
      ]
     },
     "execution_count": 26,
     "metadata": {},
     "output_type": "execute_result"
    },
    {
     "data": {
      "image/png": "[encoded data removed]",
      "text/plain": [
       "<Figure size 432x288 with 1 Axes>"
      ]
     },
     "metadata": {},
     "output_type": "display_data"
    }
   ],
   "source": [
    "#Plotting ROC curve over Test Data\n",
    "skplt.metrics.plot_roc_curve(y_test,predict_test_rbf_CalibCV_tfidfww2v)"
   ]
  },
  {
   "cell_type": "code",
   "execution_count": 91,
   "metadata": {},
   "outputs": [
    {
     "name": "stdout",
     "output_type": "stream",
     "text": [
      "+--------------------------------------------+--------------------+--------------------+--------+---------------------+\n",
      "|              Paramters/Models              |        BoW         |       TFIDF        | AvgW2V |     TFIDF-W-W2V     |\n",
      "+--------------------------------------------+--------------------+--------------------+--------+---------------------+\n",
      "| (Kernel = Linear) Best Parameters: alpha:  |        0.1         |         1          | 0.001  |         0.01        |\n",
      "|      (Kernel = Linear) Best Penalty:       |         l2         |         l2         |   l1   |          l2         |\n",
      "|       (Kernel = Linear) AUC Score:         | 0.7107706741920982 | 0.6141421791817765 |  0.5   | 0.49924935875697246 |\n",
      "|    (Kernel = RBF) Best Parameters: C:      |         10         |         10         |   10   |          10         |\n",
      "|  (Kernel = RBF) Best Parameters: Gamma:    |         1          |         1          |  0.1   |         0.1         |\n",
      "|         (Kernel = RBF) AUC Score:          |        0.5         |        0.5         |  0.5   |  0.6125661239932335 |\n",
      "+--------------------------------------------+--------------------+--------------------+--------+---------------------+\n"
     ]
    }
   ],
   "source": [
    "x = PrettyTable()\n",
    "x.field_names = [\"Paramters/Models\",\"BoW\", \"TFIDF\", \"AvgW2V\", \"TFIDF-W-W2V\"]\n",
    "#x.field_names = [\"Kernel = Linear\"]\n",
    "\n",
    "x.add_row([\"(Kernel = Linear) Best Parameters: alpha: \", \"0.1\", \"1\", \"0.001\", \"0.01\"])\n",
    "x.add_row([\"(Kernel = Linear) Best Penalty: \", \"l2\", \"l2\",\"l1\",\"l2\"])\n",
    "x.add_row([\"(Kernel = Linear) AUC Score: \",auc_score_lin_bow, auc_score_lin_tfidf, auc_score_lin_avgw2v, auc_score_lin_tfidfww2v])\n",
    "\n",
    "#x.field_names = [\"Kernel = RBF\"]\n",
    "\n",
    "x.add_row([\"(Kernel = RBF) Best Parameters: C: \", \"10\", \"10\", \"10\", \"10\"])\n",
    "x.add_row([\"(Kernel = RBF) Best Parameters: Gamma: \", \"1\", \"1\",\"0.1\",\"0.1\"])\n",
    "x.add_row([\"(Kernel = RBF) AUC Score: \",auc_score_rbf_bow, auc_score_rbf_tfidf, auc_score_rbf_avgw2v, auc_score_rbf_tfidfww2v])\n",
    "\n",
    "print(x)"
   ]
  },
  {
   "cell_type": "code",
   "execution_count": null,
   "metadata": {},
   "outputs": [],
   "source": []
  }
 ],
 "metadata": {
  "kernelspec": {
   "display_name": "Python 3",
   "language": "python",
   "name": "python3"
  },
  "language_info": {
   "codemirror_mode": {
    "name": "ipython",
    "version": 3
   },
   "file_extension": ".py",
   "mimetype": "text/x-python",
   "name": "python",
   "nbconvert_exporter": "python",
   "pygments_lexer": "ipython3",
   "version": "3.6.0"
  }
 },
 "nbformat": 4,
 "nbformat_minor": 2
}
