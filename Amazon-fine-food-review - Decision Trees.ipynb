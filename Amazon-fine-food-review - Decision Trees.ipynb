{
 "cells": [
  {
   "cell_type": "code",
   "execution_count": 2,
   "metadata": {},
   "outputs": [
    {
     "name": "stderr",
     "output_type": "stream",
     "text": [
      "C:\\Users\\AbhiShek\\Anaconda3\\lib\\site-packages\\sklearn\\cross_validation.py:41: DeprecationWarning: This module was deprecated in version 0.18 in favor of the model_selection module into which all the refactored classes and functions are moved. Also note that the interface of the new CV iterators are different from that of this module. This module will be removed in 0.20.\n",
      "  \"This module will be removed in 0.20.\", DeprecationWarning)\n",
      "C:\\Users\\AbhiShek\\Anaconda3\\lib\\site-packages\\sklearn\\learning_curve.py:22: DeprecationWarning: This module was deprecated in version 0.18 in favor of the model_selection module into which all the functions are moved. This module will be removed in 0.20\n",
      "  DeprecationWarning)\n",
      "C:\\Users\\AbhiShek\\Anaconda3\\lib\\site-packages\\gensim\\utils.py:1209: UserWarning: detected Windows; aliasing chunkize to chunkize_serial\n",
      "  warnings.warn(\"detected Windows; aliasing chunkize to chunkize_serial\")\n"
     ]
    }
   ],
   "source": [
    "# ============================== loading libraries ===========================================\n",
    "%matplotlib inline\n",
    "import warnings\n",
    "warnings.filterwarnings(\"ignore\")\n",
    "\n",
    "import pickle\n",
    "import numpy as np\n",
    "import pandas as pd\n",
    "import matplotlib.pyplot as plt\n",
    "from sklearn.cross_validation import train_test_split\n",
    "from sklearn.neighbors import KNeighborsClassifier\n",
    "from sklearn.metrics import accuracy_score\n",
    "from sklearn.cross_validation import cross_val_score\n",
    "from collections import Counter\n",
    "from sklearn.metrics import accuracy_score\n",
    "from sklearn import cross_validation\n",
    "from sklearn.naive_bayes import MultinomialNB\n",
    "from sklearn.metrics import f1_score\n",
    "from sklearn.model_selection import GridSearchCV\n",
    "from sklearn.datasets import *\n",
    "from sklearn.linear_model import LogisticRegression\n",
    "from sklearn.model_selection import RandomizedSearchCV\n",
    "from sklearn.metrics import precision_recall_fscore_support\n",
    "from sklearn.metrics import classification_report\n",
    "from prettytable import PrettyTable\n",
    "import random\n",
    "from scipy.stats import uniform\n",
    "from sklearn.metrics import roc_curve, auc\n",
    "from sklearn.learning_curve import validation_curve\n",
    "from sklearn.metrics import fbeta_score, make_scorer\n",
    "from sklearn.metrics import precision_score, recall_score,roc_auc_score\n",
    "from sklearn.ensemble import ExtraTreesClassifier\n",
    "from sklearn.feature_selection import SelectKBest\n",
    "from sklearn.feature_selection import chi2\n",
    "from sklearn.feature_selection import SelectFromModel\n",
    "from sklearn.preprocessing import StandardScaler\n",
    "from sklearn.calibration import CalibratedClassifierCV\n",
    "import joblib\n",
    "from sklearn.svm import SVC\n",
    "from sklearn import svm\n",
    "from sklearn import linear_model\n",
    "from scipy import stats\n",
    "import scikitplot as skplt\n",
    "\n",
    "import sqlite3\n",
    "import pandas as pd\n",
    "import numpy as np\n",
    "import nltk\n",
    "import string\n",
    "import matplotlib.pyplot as plt\n",
    "import seaborn as sns\n",
    "from sklearn.feature_extraction.text import TfidfTransformer\n",
    "from sklearn.feature_extraction.text import TfidfVectorizer\n",
    "\n",
    "from sklearn.feature_extraction.text import CountVectorizer\n",
    "from sklearn.metrics import confusion_matrix\n",
    "from sklearn import metrics\n",
    "from sklearn.metrics import roc_curve, auc\n",
    "from nltk.stem.porter import PorterStemmer\n",
    "\n",
    "#import nltk\n",
    "#nltk.download('stopwords')\n",
    "\n",
    "import re\n",
    "# Tutorial about Python regular expressions: https://pymotw.com/2/re/\n",
    "import string\n",
    "from nltk.corpus import stopwords\n",
    "from nltk.stem import PorterStemmer\n",
    "from nltk.stem.wordnet import WordNetLemmatizer\n",
    "\n",
    "#from gensim.models import KeyedVectors\n",
    "#model = KeyedVectors.load_word2vec_format(‘GoogleNews-vectors-negative300.bin.gz’,binary=True)\n",
    "\n",
    "#import gensim\n",
    "from gensim.models import Word2Vec\n",
    "from gensim.models import KeyedVectors\n",
    "from sklearn.decomposition import TruncatedSVD\n",
    "from sklearn import tree\n",
    "import graphviz \n",
    "\n",
    "#import os\n",
    "#os.environ[\"PATH\"] += os.pathsep + 'C:/Users/AbhiShek/Anaconda3/Lib/site-packages/graphviz/'\n",
    "\n",
    "# ============================================================================================="
   ]
  },
  {
   "cell_type": "code",
   "execution_count": 3,
   "metadata": {},
   "outputs": [],
   "source": [
    "fileObject = open(\"./train_to_file3.pkl\",'rb') # we open the file for reading \n",
    "X_train = pickle.load(fileObject) # load the object from the file\n",
    "\n",
    "fileObject = open(\"./x_test_to_file3.pkl\",'rb') # we open the file for reading \n",
    "X_test = pickle.load(fileObject) # load the object from the file\n",
    "\n",
    "fileObject = open(\"./y_train_to_file3.pkl\",'rb') # we open the file for reading \n",
    "y_train = pickle.load(fileObject) # load the object from the file\n",
    "\n",
    "fileObject = open(\"./y_test_to_file3.pkl\",'rb') # we open the file for reading \n",
    "y_test = pickle.load(fileObject) # load the object from the file"
   ]
  },
  {
   "cell_type": "code",
   "execution_count": 4,
   "metadata": {},
   "outputs": [
    {
     "name": "stdout",
     "output_type": "stream",
     "text": [
      "(70000, 11)\n",
      "(30000, 11)\n",
      "(70000,)\n",
      "(30000,)\n"
     ]
    }
   ],
   "source": [
    "print(np.shape(X_train))\n",
    "print(np.shape(X_test))\n",
    "print(np.shape(y_train))\n",
    "print(np.shape(y_test))"
   ]
  },
  {
   "cell_type": "markdown",
   "metadata": {},
   "source": [
    "## BoW"
   ]
  },
  {
   "cell_type": "code",
   "execution_count": 5,
   "metadata": {},
   "outputs": [
    {
     "name": "stdout",
     "output_type": "stream",
     "text": [
      "the type of count vectorizer  <class 'scipy.sparse.csr.csr_matrix'>\n",
      "the number of unique words  50158\n",
      "(70000, 50158)\n",
      "(30000, 50158)\n",
      "(70000,)\n",
      "(30000,)\n"
     ]
    }
   ],
   "source": [
    "#Appling BoW to fit and transform\n",
    "count_vect =  CountVectorizer()\n",
    "bow_NB = count_vect.fit(X_train[:,9])\n",
    "train_bow_nstd = count_vect.transform(X_train[:,9])\n",
    "test_bow_nstd = count_vect.transform(X_test[:,9]) \n",
    "\n",
    "print(\"the type of count vectorizer \",type(train_bow_nstd))\n",
    "print(\"the number of unique words \", test_bow_nstd.get_shape()[1])\n",
    "\n",
    "print(train_bow_nstd.shape)\n",
    "print(test_bow_nstd.shape)\n",
    "print(y_train.shape)\n",
    "print(y_test.shape)"
   ]
  },
  {
   "cell_type": "code",
   "execution_count": 6,
   "metadata": {},
   "outputs": [
    {
     "name": "stderr",
     "output_type": "stream",
     "text": [
      "C:\\Users\\AbhiShek\\Anaconda3\\lib\\site-packages\\sklearn\\utils\\validation.py:475: DataConversionWarning: Data with input dtype int64 was converted to float64 by StandardScaler.\n",
      "  warnings.warn(msg, DataConversionWarning)\n",
      "C:\\Users\\AbhiShek\\Anaconda3\\lib\\site-packages\\sklearn\\utils\\validation.py:475: DataConversionWarning: Data with input dtype int64 was converted to float64 by StandardScaler.\n",
      "  warnings.warn(msg, DataConversionWarning)\n",
      "C:\\Users\\AbhiShek\\Anaconda3\\lib\\site-packages\\sklearn\\utils\\validation.py:475: DataConversionWarning: Data with input dtype int64 was converted to float64 by StandardScaler.\n",
      "  warnings.warn(msg, DataConversionWarning)\n"
     ]
    }
   ],
   "source": [
    "# Column Standardization of the BoW non-standard vector\n",
    "std_scal = StandardScaler(with_mean=False)\n",
    "std_scal.fit(train_bow_nstd)\n",
    "train_bow = std_scal.transform(train_bow_nstd)\n",
    "test_bow = std_scal.transform(test_bow_nstd)"
   ]
  },
  {
   "cell_type": "code",
   "execution_count": 7,
   "metadata": {},
   "outputs": [
    {
     "data": {
      "text/plain": [
       "DecisionTreeClassifier(class_weight=None, criterion='gini', max_depth=None,\n",
       "            max_features=None, max_leaf_nodes=None,\n",
       "            min_impurity_decrease=0.0, min_impurity_split=None,\n",
       "            min_samples_leaf=1, min_samples_split=2,\n",
       "            min_weight_fraction_leaf=0.0, presort=False, random_state=None,\n",
       "            splitter='best')"
      ]
     },
     "execution_count": 7,
     "metadata": {},
     "output_type": "execute_result"
    }
   ],
   "source": [
    "clf_dtree = tree.DecisionTreeClassifier()\n",
    "clf_dtree = clf_dtree.fit(train_bow, y_train)\n",
    "clf_dtree"
   ]
  },
  {
   "cell_type": "code",
   "execution_count": 8,
   "metadata": {},
   "outputs": [
    {
     "name": "stdout",
     "output_type": "stream",
     "text": [
      "GridSearchCV(cv=3, error_score='raise',\n",
      "       estimator=DecisionTreeClassifier(class_weight=None, criterion='gini', max_depth=None,\n",
      "            max_features=None, max_leaf_nodes=None,\n",
      "            min_impurity_decrease=0.0, min_impurity_split=None,\n",
      "            min_samples_leaf=1, min_samples_split=2,\n",
      "            min_weight_fraction_leaf=0.0, presort=False, random_state=None,\n",
      "            splitter='best'),\n",
      "       fit_params=None, iid=True, n_jobs=1,\n",
      "       param_grid={'max_depth': (10, 50, 100, 500), 'min_samples_split': (5, 10, 50, 100)},\n",
      "       pre_dispatch='2*n_jobs', refit=True, return_train_score='warn',\n",
      "       scoring='f1', verbose=0)\n",
      "\n",
      "Best score:  0.9401310501841424\n",
      "\n",
      "Optimal value of Hyperparameter, max_depth :  10\n",
      "\n",
      "Optimal value of Hyperparameter, min_samples_split :  100\n"
     ]
    }
   ],
   "source": [
    "parameter = {\n",
    "        'max_depth': (10, 50, 100, 500),\n",
    "        'min_samples_split': (5, 10, 50, 100)\n",
    "    }\n",
    "\n",
    "gsearch_dt = GridSearchCV(estimator = clf_dtree,\n",
    "                          param_grid= parameter,\n",
    "                          cv=3,\n",
    "                          scoring='f1')\n",
    "gsearch_dt.fit(train_bow, y_train)\n",
    "\n",
    "print(gsearch_dt)\n",
    "results = gsearch_dt.cv_results_\n",
    "\n",
    "# summarize the results of the grid search\n",
    "print(\"\\nBest score: \",gsearch_dt.best_score_)\n",
    "NB_OPTIMAL_clf = gsearch_dt.best_estimator_\n",
    "\n",
    "best_max_depth_bow = gsearch_dt.best_estimator_.max_depth\n",
    "print(\"\\nOptimal value of Hyperparameter, max_depth : \",best_max_depth_bow)\n",
    "\n",
    "best_min_samples_split_bow = gsearch_dt.best_estimator_.min_samples_split\n",
    "print(\"\\nOptimal value of Hyperparameter, min_samples_split : \",best_min_samples_split_bow)"
   ]
  },
  {
   "cell_type": "code",
   "execution_count": 11,
   "metadata": {},
   "outputs": [
    {
     "data": {
      "text/plain": [
       "['results.pkl']"
      ]
     },
     "execution_count": 11,
     "metadata": {},
     "output_type": "execute_result"
    }
   ],
   "source": [
    "joblib.dump(results,\"results.pkl\")"
   ]
  },
  {
   "cell_type": "code",
   "execution_count": 12,
   "metadata": {},
   "outputs": [],
   "source": [
    "results = joblib.load(\"results.pkl\")"
   ]
  },
  {
   "cell_type": "code",
   "execution_count": 9,
   "metadata": {},
   "outputs": [
    {
     "data": {
      "text/plain": [
       "{'mean_fit_time': array([ 16.3110857 ,  16.64579741,  13.74764299,  12.34962392,\n",
       "         70.8750759 ,  88.93902961,  75.33119925,  69.67070786,\n",
       "        135.66119162, 125.24920209, 118.05657617, 113.17246819,\n",
       "        160.41656399, 156.24411011, 143.60378257, 115.96239297]),\n",
       " 'std_fit_time': array([0.96940904, 1.01507751, 0.92042447, 0.23798104, 1.0102157 ,\n",
       "        2.22835542, 3.30128648, 3.03134913, 3.05537011, 3.92056701,\n",
       "        1.65869858, 2.22295289, 6.50952195, 4.34062752, 9.9097419 ,\n",
       "        4.74610445]),\n",
       " 'mean_score_time': array([0.13271681, 0.13827046, 0.12509616, 0.12499436, 0.14242188,\n",
       "        0.16300591, 0.15599672, 0.17466346, 0.17833591, 0.17233086,\n",
       "        0.17087579, 0.1633265 , 0.18667348, 0.19000642, 0.21827443,\n",
       "        0.1632483 ]),\n",
       " 'std_score_time': array([1.26570569e-02, 3.21237660e-03, 1.13928551e-04, 1.59774052e-05,\n",
       "        2.52805026e-03, 1.15247754e-02, 1.41400001e-03, 4.02562737e-03,\n",
       "        6.79366455e-03, 4.91713159e-03, 2.16365238e-02, 1.81356792e-02,\n",
       "        1.08686603e-02, 4.97057453e-03, 2.17238962e-02, 9.88158889e-03]),\n",
       " 'param_max_depth': masked_array(data=[10, 10, 10, 10, 50, 50, 50, 50, 100, 100, 100, 100,\n",
       "                    500, 500, 500, 500],\n",
       "              mask=[False, False, False, False, False, False, False, False,\n",
       "                    False, False, False, False, False, False, False, False],\n",
       "        fill_value='?',\n",
       "             dtype=object),\n",
       " 'param_min_samples_split': masked_array(data=[5, 10, 50, 100, 5, 10, 50, 100, 5, 10, 50, 100, 5, 10,\n",
       "                    50, 100],\n",
       "              mask=[False, False, False, False, False, False, False, False,\n",
       "                    False, False, False, False, False, False, False, False],\n",
       "        fill_value='?',\n",
       "             dtype=object),\n",
       " 'params': [{'max_depth': 10, 'min_samples_split': 5},\n",
       "  {'max_depth': 10, 'min_samples_split': 10},\n",
       "  {'max_depth': 10, 'min_samples_split': 50},\n",
       "  {'max_depth': 10, 'min_samples_split': 100},\n",
       "  {'max_depth': 50, 'min_samples_split': 5},\n",
       "  {'max_depth': 50, 'min_samples_split': 10},\n",
       "  {'max_depth': 50, 'min_samples_split': 50},\n",
       "  {'max_depth': 50, 'min_samples_split': 100},\n",
       "  {'max_depth': 100, 'min_samples_split': 5},\n",
       "  {'max_depth': 100, 'min_samples_split': 10},\n",
       "  {'max_depth': 100, 'min_samples_split': 50},\n",
       "  {'max_depth': 100, 'min_samples_split': 100},\n",
       "  {'max_depth': 500, 'min_samples_split': 5},\n",
       "  {'max_depth': 500, 'min_samples_split': 10},\n",
       "  {'max_depth': 500, 'min_samples_split': 50},\n",
       "  {'max_depth': 500, 'min_samples_split': 100}],\n",
       " 'split0_test_score': array([0.94196439, 0.94206479, 0.94176619, 0.94165781, 0.93164919,\n",
       "        0.93104764, 0.93101065, 0.93167672, 0.92846358, 0.92768511,\n",
       "        0.92850978, 0.92695807, 0.92476014, 0.92568104, 0.92612258,\n",
       "        0.92638966]),\n",
       " 'split1_test_score': array([0.93931767, 0.93905991, 0.93975455, 0.94025333, 0.9308098 ,\n",
       "        0.93129297, 0.93348914, 0.93364466, 0.92661497, 0.92726487,\n",
       "        0.92875471, 0.92944167, 0.92493562, 0.925836  , 0.92719404,\n",
       "        0.9285183 ]),\n",
       " 'split2_test_score': array([0.93842215, 0.93885244, 0.9384508 , 0.93848195, 0.92906124,\n",
       "        0.92779014, 0.9288857 , 0.9314143 , 0.92445022, 0.92438026,\n",
       "        0.92432003, 0.92786964, 0.92338885, 0.92253436, 0.92288011,\n",
       "        0.92553805]),\n",
       " 'mean_test_score': array([0.93990144, 0.93999241, 0.93999054, 0.94013105, 0.93050676,\n",
       "        0.9300436 , 0.9311285 , 0.93224522, 0.92650962, 0.92644343,\n",
       "        0.92719486, 0.92808978, 0.92436154, 0.92468381, 0.92539892,\n",
       "        0.92681533]),\n",
       " 'std_test_score': array([0.00150387, 0.00146787, 0.00136375, 0.00129942, 0.00107804,\n",
       "        0.00159656, 0.00188118, 0.00099533, 0.00164015, 0.00146892,\n",
       "        0.00203524, 0.00102581, 0.00069151, 0.00152119, 0.00183398,\n",
       "        0.00125335]),\n",
       " 'rank_test_score': array([ 4,  2,  3,  1,  7,  8,  6,  5, 12, 13, 10,  9, 16, 15, 14, 11]),\n",
       " 'split0_train_score': array([0.94813652, 0.94771114, 0.94652363, 0.94466924, 0.98473228,\n",
       "        0.98078838, 0.96847835, 0.96105546, 0.99282091, 0.98751257,\n",
       "        0.97539058, 0.96722601, 0.99515053, 0.99031347, 0.97697217,\n",
       "        0.96938441]),\n",
       " 'split1_train_score': array([0.94769259, 0.94731439, 0.94567118, 0.94406997, 0.98460838,\n",
       "        0.98075009, 0.96735613, 0.96050379, 0.99316745, 0.98833024,\n",
       "        0.97438008, 0.96730272, 0.99538016, 0.99038005, 0.97578931,\n",
       "        0.96895494]),\n",
       " 'split2_train_score': array([0.94761722, 0.94735494, 0.94614445, 0.94490978, 0.98481052,\n",
       "        0.98110669, 0.96976468, 0.96358858, 0.99221169, 0.98684752,\n",
       "        0.97541083, 0.96935973, 0.99564974, 0.99020574, 0.97799541,\n",
       "        0.97163387]),\n",
       " 'mean_train_score': array([0.94781544, 0.94746015, 0.94611309, 0.94454966, 0.98471706,\n",
       "        0.98088172, 0.96853305, 0.96171594, 0.99273335, 0.98756344,\n",
       "        0.97506049, 0.96796282, 0.99539348, 0.99029976, 0.97691896,\n",
       "        0.96999107]),\n",
       " 'std_train_score': array([2.29109340e-04, 1.78241543e-04, 3.48716753e-04, 3.53121380e-04,\n",
       "        8.32237147e-05, 1.59845763e-04, 9.84043537e-04, 1.34317118e-03,\n",
       "        3.95068817e-04, 6.06386019e-04, 4.81199460e-04, 9.88264607e-04,\n",
       "        2.04021225e-04, 7.18215617e-05, 9.01421895e-04, 1.17478679e-03])}"
      ]
     },
     "execution_count": 9,
     "metadata": {},
     "output_type": "execute_result"
    }
   ],
   "source": [
    "results"
   ]
  },
  {
   "cell_type": "code",
   "execution_count": 65,
   "metadata": {},
   "outputs": [
    {
     "name": "stdout",
     "output_type": "stream",
     "text": [
      "<class 'list'>\n",
      "<class 'pandas.core.frame.DataFrame'>\n"
     ]
    }
   ],
   "source": [
    "X = [10,10,10,10, 50,50,50,50, 100,100,100,100, 500,500,500,500]\n",
    "Y = [5, 10, 50, 100,5, 10, 50, 100,5, 10, 50, 100,5, 10, 50, 100,]\n",
    "Z = results['std_test_score']\n",
    "print(type(X))\n",
    "X_df = pd.DataFrame(X)\n",
    "Y_df = pd.DataFrame(Y)\n",
    "Z_df = pd.DataFrame(Z)\n",
    "print(type(X_df))"
   ]
  },
  {
   "cell_type": "code",
   "execution_count": 68,
   "metadata": {},
   "outputs": [
    {
     "data": {
      "text/html": [
       "<div>\n",
       "<style scoped>\n",
       "    .dataframe tbody tr th:only-of-type {\n",
       "        vertical-align: middle;\n",
       "    }\n",
       "\n",
       "    .dataframe tbody tr th {\n",
       "        vertical-align: top;\n",
       "    }\n",
       "\n",
       "    .dataframe thead th {\n",
       "        text-align: right;\n",
       "    }\n",
       "</style>\n",
       "<table border=\"1\" class=\"dataframe\">\n",
       "  <thead>\n",
       "    <tr style=\"text-align: right;\">\n",
       "      <th></th>\n",
       "      <th>X</th>\n",
       "      <th>Y</th>\n",
       "      <th>Z</th>\n",
       "    </tr>\n",
       "  </thead>\n",
       "  <tbody>\n",
       "    <tr>\n",
       "      <th>0</th>\n",
       "      <td>10</td>\n",
       "      <td>5</td>\n",
       "      <td>0.001504</td>\n",
       "    </tr>\n",
       "    <tr>\n",
       "      <th>1</th>\n",
       "      <td>10</td>\n",
       "      <td>10</td>\n",
       "      <td>0.001468</td>\n",
       "    </tr>\n",
       "    <tr>\n",
       "      <th>2</th>\n",
       "      <td>10</td>\n",
       "      <td>50</td>\n",
       "      <td>0.001364</td>\n",
       "    </tr>\n",
       "    <tr>\n",
       "      <th>3</th>\n",
       "      <td>10</td>\n",
       "      <td>100</td>\n",
       "      <td>0.001299</td>\n",
       "    </tr>\n",
       "    <tr>\n",
       "      <th>4</th>\n",
       "      <td>50</td>\n",
       "      <td>5</td>\n",
       "      <td>0.001078</td>\n",
       "    </tr>\n",
       "    <tr>\n",
       "      <th>5</th>\n",
       "      <td>50</td>\n",
       "      <td>10</td>\n",
       "      <td>0.001597</td>\n",
       "    </tr>\n",
       "    <tr>\n",
       "      <th>6</th>\n",
       "      <td>50</td>\n",
       "      <td>50</td>\n",
       "      <td>0.001881</td>\n",
       "    </tr>\n",
       "    <tr>\n",
       "      <th>7</th>\n",
       "      <td>50</td>\n",
       "      <td>100</td>\n",
       "      <td>0.000995</td>\n",
       "    </tr>\n",
       "    <tr>\n",
       "      <th>8</th>\n",
       "      <td>100</td>\n",
       "      <td>5</td>\n",
       "      <td>0.001640</td>\n",
       "    </tr>\n",
       "    <tr>\n",
       "      <th>9</th>\n",
       "      <td>100</td>\n",
       "      <td>10</td>\n",
       "      <td>0.001469</td>\n",
       "    </tr>\n",
       "    <tr>\n",
       "      <th>10</th>\n",
       "      <td>100</td>\n",
       "      <td>50</td>\n",
       "      <td>0.002035</td>\n",
       "    </tr>\n",
       "    <tr>\n",
       "      <th>11</th>\n",
       "      <td>100</td>\n",
       "      <td>100</td>\n",
       "      <td>0.001026</td>\n",
       "    </tr>\n",
       "    <tr>\n",
       "      <th>12</th>\n",
       "      <td>500</td>\n",
       "      <td>5</td>\n",
       "      <td>0.000692</td>\n",
       "    </tr>\n",
       "    <tr>\n",
       "      <th>13</th>\n",
       "      <td>500</td>\n",
       "      <td>10</td>\n",
       "      <td>0.001521</td>\n",
       "    </tr>\n",
       "    <tr>\n",
       "      <th>14</th>\n",
       "      <td>500</td>\n",
       "      <td>50</td>\n",
       "      <td>0.001834</td>\n",
       "    </tr>\n",
       "    <tr>\n",
       "      <th>15</th>\n",
       "      <td>500</td>\n",
       "      <td>100</td>\n",
       "      <td>0.001253</td>\n",
       "    </tr>\n",
       "  </tbody>\n",
       "</table>\n",
       "</div>"
      ],
      "text/plain": [
       "      X    Y         Z\n",
       "0    10    5  0.001504\n",
       "1    10   10  0.001468\n",
       "2    10   50  0.001364\n",
       "3    10  100  0.001299\n",
       "4    50    5  0.001078\n",
       "5    50   10  0.001597\n",
       "6    50   50  0.001881\n",
       "7    50  100  0.000995\n",
       "8   100    5  0.001640\n",
       "9   100   10  0.001469\n",
       "10  100   50  0.002035\n",
       "11  100  100  0.001026\n",
       "12  500    5  0.000692\n",
       "13  500   10  0.001521\n",
       "14  500   50  0.001834\n",
       "15  500  100  0.001253"
      ]
     },
     "execution_count": 68,
     "metadata": {},
     "output_type": "execute_result"
    }
   ],
   "source": [
    "X_df.reindex(columns=[*X_df.columns.tolist(), 'Y'],fill_value=1)\n",
    "X_df['Y']=Y_df.values\n",
    "X_df.reindex(columns=[*X_df.columns.tolist(), 'Z'],fill_value=1)\n",
    "X_df['Z']=Z_df.values\n",
    "X_df.columns = ['X', 'Y', 'Z']\n",
    "X_df"
   ]
  },
  {
   "cell_type": "code",
   "execution_count": 71,
   "metadata": {},
   "outputs": [
    {
     "data": {
      "text/plain": [
       "Text(0.5, 1.0, 'Test Score')"
      ]
     },
     "execution_count": 71,
     "metadata": {},
     "output_type": "execute_result"
    },
    {
     "data": {
      "image/png": "[encoded data removed]",
      "text/plain": [
       "<Figure size 432x288 with 2 Axes>"
      ]
     },
     "metadata": {},
     "output_type": "display_data"
    }
   ],
   "source": [
    "plot_data = X_df.pivot(\"X\", \"Y\", \"Z\")\n",
    "ax = sns.heatmap(plot_data, annot=True, cmap=\"YlGnBu\")\n",
    "ax.set_title('Test Score')"
   ]
  },
  {
   "cell_type": "code",
   "execution_count": 73,
   "metadata": {
    "scrolled": true
   },
   "outputs": [
    {
     "name": "stdout",
     "output_type": "stream",
     "text": [
      "<class 'list'>\n",
      "<class 'pandas.core.frame.DataFrame'>\n"
     ]
    },
    {
     "data": {
      "text/html": [
       "<div>\n",
       "<style scoped>\n",
       "    .dataframe tbody tr th:only-of-type {\n",
       "        vertical-align: middle;\n",
       "    }\n",
       "\n",
       "    .dataframe tbody tr th {\n",
       "        vertical-align: top;\n",
       "    }\n",
       "\n",
       "    .dataframe thead th {\n",
       "        text-align: right;\n",
       "    }\n",
       "</style>\n",
       "<table border=\"1\" class=\"dataframe\">\n",
       "  <thead>\n",
       "    <tr style=\"text-align: right;\">\n",
       "      <th></th>\n",
       "      <th>X</th>\n",
       "      <th>Y</th>\n",
       "      <th>Z</th>\n",
       "    </tr>\n",
       "  </thead>\n",
       "  <tbody>\n",
       "    <tr>\n",
       "      <th>0</th>\n",
       "      <td>10</td>\n",
       "      <td>5</td>\n",
       "      <td>0.000229</td>\n",
       "    </tr>\n",
       "    <tr>\n",
       "      <th>1</th>\n",
       "      <td>10</td>\n",
       "      <td>10</td>\n",
       "      <td>0.000178</td>\n",
       "    </tr>\n",
       "    <tr>\n",
       "      <th>2</th>\n",
       "      <td>10</td>\n",
       "      <td>50</td>\n",
       "      <td>0.000349</td>\n",
       "    </tr>\n",
       "    <tr>\n",
       "      <th>3</th>\n",
       "      <td>10</td>\n",
       "      <td>100</td>\n",
       "      <td>0.000353</td>\n",
       "    </tr>\n",
       "    <tr>\n",
       "      <th>4</th>\n",
       "      <td>50</td>\n",
       "      <td>5</td>\n",
       "      <td>0.000083</td>\n",
       "    </tr>\n",
       "    <tr>\n",
       "      <th>5</th>\n",
       "      <td>50</td>\n",
       "      <td>10</td>\n",
       "      <td>0.000160</td>\n",
       "    </tr>\n",
       "    <tr>\n",
       "      <th>6</th>\n",
       "      <td>50</td>\n",
       "      <td>50</td>\n",
       "      <td>0.000984</td>\n",
       "    </tr>\n",
       "    <tr>\n",
       "      <th>7</th>\n",
       "      <td>50</td>\n",
       "      <td>100</td>\n",
       "      <td>0.001343</td>\n",
       "    </tr>\n",
       "    <tr>\n",
       "      <th>8</th>\n",
       "      <td>100</td>\n",
       "      <td>5</td>\n",
       "      <td>0.000395</td>\n",
       "    </tr>\n",
       "    <tr>\n",
       "      <th>9</th>\n",
       "      <td>100</td>\n",
       "      <td>10</td>\n",
       "      <td>0.000606</td>\n",
       "    </tr>\n",
       "    <tr>\n",
       "      <th>10</th>\n",
       "      <td>100</td>\n",
       "      <td>50</td>\n",
       "      <td>0.000481</td>\n",
       "    </tr>\n",
       "    <tr>\n",
       "      <th>11</th>\n",
       "      <td>100</td>\n",
       "      <td>100</td>\n",
       "      <td>0.000988</td>\n",
       "    </tr>\n",
       "    <tr>\n",
       "      <th>12</th>\n",
       "      <td>500</td>\n",
       "      <td>5</td>\n",
       "      <td>0.000204</td>\n",
       "    </tr>\n",
       "    <tr>\n",
       "      <th>13</th>\n",
       "      <td>500</td>\n",
       "      <td>10</td>\n",
       "      <td>0.000072</td>\n",
       "    </tr>\n",
       "    <tr>\n",
       "      <th>14</th>\n",
       "      <td>500</td>\n",
       "      <td>50</td>\n",
       "      <td>0.000901</td>\n",
       "    </tr>\n",
       "    <tr>\n",
       "      <th>15</th>\n",
       "      <td>500</td>\n",
       "      <td>100</td>\n",
       "      <td>0.001175</td>\n",
       "    </tr>\n",
       "  </tbody>\n",
       "</table>\n",
       "</div>"
      ],
      "text/plain": [
       "      X    Y         Z\n",
       "0    10    5  0.000229\n",
       "1    10   10  0.000178\n",
       "2    10   50  0.000349\n",
       "3    10  100  0.000353\n",
       "4    50    5  0.000083\n",
       "5    50   10  0.000160\n",
       "6    50   50  0.000984\n",
       "7    50  100  0.001343\n",
       "8   100    5  0.000395\n",
       "9   100   10  0.000606\n",
       "10  100   50  0.000481\n",
       "11  100  100  0.000988\n",
       "12  500    5  0.000204\n",
       "13  500   10  0.000072\n",
       "14  500   50  0.000901\n",
       "15  500  100  0.001175"
      ]
     },
     "execution_count": 73,
     "metadata": {},
     "output_type": "execute_result"
    }
   ],
   "source": [
    "X = [10,10,10,10, 50,50,50,50, 100,100,100,100, 500,500,500,500]\n",
    "Y = [5, 10, 50, 100,5, 10, 50, 100,5, 10, 50, 100,5, 10, 50, 100,]\n",
    "Z = results['std_train_score']\n",
    "print(type(X))\n",
    "X_df = pd.DataFrame(X)\n",
    "Y_df = pd.DataFrame(Y)\n",
    "Z_df = pd.DataFrame(Z)\n",
    "print(type(X_df))\n",
    "X_df.reindex(columns=[*X_df.columns.tolist(), 'Y'],fill_value=1)\n",
    "X_df['Y']=Y_df.values\n",
    "X_df.reindex(columns=[*X_df.columns.tolist(), 'Z'],fill_value=1)\n",
    "X_df['Z']=Z_df.values\n",
    "X_df.columns = ['X', 'Y', 'Z']\n",
    "X_df"
   ]
  },
  {
   "cell_type": "code",
   "execution_count": 74,
   "metadata": {},
   "outputs": [
    {
     "data": {
      "text/plain": [
       "Text(0.5, 1.0, 'Train Score')"
      ]
     },
     "execution_count": 74,
     "metadata": {},
     "output_type": "execute_result"
    },
    {
     "data": {
      "image/png": "[encoded data removed]",
      "text/plain": [
       "<Figure size 432x288 with 2 Axes>"
      ]
     },
     "metadata": {},
     "output_type": "display_data"
    }
   ],
   "source": [
    "plot_data = X_df.pivot(\"X\", \"Y\", \"Z\")\n",
    "ax = sns.heatmap(plot_data, annot=True, cmap=\"YlGnBu\")\n",
    "ax.set_title('Train Score')"
   ]
  },
  {
   "cell_type": "markdown",
   "metadata": {},
   "source": [
    "## Decision Tree on BoW with Best Parameters"
   ]
  },
  {
   "cell_type": "code",
   "execution_count": 35,
   "metadata": {},
   "outputs": [
    {
     "data": {
      "text/plain": [
       "['roc_auc_best.pkl']"
      ]
     },
     "execution_count": 35,
     "metadata": {},
     "output_type": "execute_result"
    }
   ],
   "source": [
    "clf_dtree_best = tree.DecisionTreeClassifier(max_depth=10, min_samples_split=100)\n",
    "clf_dtree_best.fit(train_bow, y_train)\n",
    "\n",
    "y_pred_test = clf_dtree_best.predict(test_bow)\n",
    "\n",
    "false_positive_rate, true_positive_rate, thresholds = roc_curve(y_test, y_pred_test)\n",
    "roc_auc_best = auc(false_positive_rate, true_positive_rate)\n",
    "\n",
    "joblib.dump(clf_dtree_best,\"clf_dtree_best.pkl\")\n",
    "joblib.dump(y_pred_test,\"y_pred_test.pkl\")\n",
    "joblib.dump(roc_auc_best,\"roc_auc_best.pkl\")"
   ]
  },
  {
   "cell_type": "code",
   "execution_count": 77,
   "metadata": {},
   "outputs": [
    {
     "data": {
      "text/plain": [
       "0.5894844147283171"
      ]
     },
     "execution_count": 77,
     "metadata": {},
     "output_type": "execute_result"
    }
   ],
   "source": [
    "clf_dtree_best = joblib.load(\"clf_dtree_best.pkl\")\n",
    "y_pred_test = joblib.load(\"y_pred_test.pkl\")\n",
    "roc_auc_best = joblib.load(\"roc_auc_best.pkl\")\n",
    "roc_auc_best"
   ]
  },
  {
   "cell_type": "code",
   "execution_count": 37,
   "metadata": {},
   "outputs": [
    {
     "data": {
      "text/plain": [
       "array([[  802,  3298],\n",
       "       [  431, 25469]], dtype=int64)"
      ]
     },
     "execution_count": 37,
     "metadata": {},
     "output_type": "execute_result"
    }
   ],
   "source": [
    "# Confusion Matrix on Test Data\n",
    "#y_pred = np.argmax(pred_test, axis=1)\n",
    "cm_bow = confusion_matrix(y_test, y_pred_test)\n",
    "cm_bow"
   ]
  },
  {
   "cell_type": "code",
   "execution_count": 38,
   "metadata": {},
   "outputs": [
    {
     "data": {
      "image/png": "[encoded data removed]",
      "text/plain": [
       "<Figure size 432x288 with 2 Axes>"
      ]
     },
     "metadata": {},
     "output_type": "display_data"
    }
   ],
   "source": [
    "# plot confusion matrix to describe the performance of classifier.\n",
    "import seaborn as sns\n",
    "class_label = [\"negative\", \"positive\"]\n",
    "df_cm = pd.DataFrame(cm_bow, index = class_label, columns = class_label)\n",
    "sns.heatmap(df_cm, annot = True, fmt = \"d\")\n",
    "plt.title(\"Confusiion Matrix\")\n",
    "plt.xlabel(\"Predicted Label\")\n",
    "plt.ylabel(\"True Label\")\n",
    "plt.show()"
   ]
  },
  {
   "cell_type": "code",
   "execution_count": 40,
   "metadata": {},
   "outputs": [],
   "source": [
    "y_pred_train_proba = clf_dtree_best.predict_proba(train_bow)\n",
    "y_pred_test_proba = clf_dtree_best.predict_proba(test_bow)"
   ]
  },
  {
   "cell_type": "code",
   "execution_count": 41,
   "metadata": {},
   "outputs": [
    {
     "name": "stderr",
     "output_type": "stream",
     "text": [
      "C:\\Users\\AbhiShek\\Anaconda3\\lib\\site-packages\\sklearn\\utils\\deprecation.py:77: DeprecationWarning: Function plot_roc_curve is deprecated; This will be removed in v0.5.0. Please use scikitplot.metrics.plot_roc instead.\n",
      "  warnings.warn(msg, category=DeprecationWarning)\n"
     ]
    },
    {
     "data": {
      "text/plain": [
       "<matplotlib.axes._subplots.AxesSubplot at 0x2ec6bc9bb00>"
      ]
     },
     "execution_count": 41,
     "metadata": {},
     "output_type": "execute_result"
    },
    {
     "data": {
      "image/png": "[encoded data removed]",
      "text/plain": [
       "<Figure size 432x288 with 1 Axes>"
      ]
     },
     "metadata": {},
     "output_type": "display_data"
    }
   ],
   "source": [
    "#Plotting ROC curve over Train Data\n",
    "skplt.metrics.plot_roc_curve(y_train,y_pred_train_proba)"
   ]
  },
  {
   "cell_type": "code",
   "execution_count": 42,
   "metadata": {},
   "outputs": [
    {
     "name": "stderr",
     "output_type": "stream",
     "text": [
      "C:\\Users\\AbhiShek\\Anaconda3\\lib\\site-packages\\sklearn\\utils\\deprecation.py:77: DeprecationWarning: Function plot_roc_curve is deprecated; This will be removed in v0.5.0. Please use scikitplot.metrics.plot_roc instead.\n",
      "  warnings.warn(msg, category=DeprecationWarning)\n"
     ]
    },
    {
     "data": {
      "text/plain": [
       "<matplotlib.axes._subplots.AxesSubplot at 0x2ec6bd45f28>"
      ]
     },
     "execution_count": 42,
     "metadata": {},
     "output_type": "execute_result"
    },
    {
     "data": {
      "image/png": "[encoded data removed]",
      "text/plain": [
       "<Figure size 432x288 with 1 Axes>"
      ]
     },
     "metadata": {},
     "output_type": "display_data"
    }
   ],
   "source": [
    "#Plotting ROC curve over Test Data\n",
    "skplt.metrics.plot_roc_curve(y_test,y_pred_test_proba)"
   ]
  },
  {
   "cell_type": "code",
   "execution_count": 49,
   "metadata": {},
   "outputs": [
    {
     "name": "stdout",
     "output_type": "stream",
     "text": [
      "Top 20 important features:\n",
      " \n",
      "0.13675912498792062 -->  not\n",
      "0.07565956141379283 -->  great\n",
      "0.07212151659906803 -->  worst\n",
      "0.06566557770479665 -->  disappointed\n",
      "0.06231627614015801 -->  was\n",
      "0.0468568030225928 -->  money\n",
      "0.04382670380998059 -->  awful\n",
      "0.042428174003224954 -->  terrible\n",
      "0.034679778079664686 -->  horrible\n",
      "0.031638564349793195 -->  waste\n",
      "0.027899457864880444 -->  best\n",
      "0.026820522891220576 -->  disappointing\n",
      "0.025529565497729605 -->  delicious\n",
      "0.02261988297114902 -->  bad\n",
      "0.021128847276721156 -->  and\n",
      "0.02033381360079511 -->  disappointment\n",
      "0.018377359046007857 -->  find\n",
      "0.017325097116191065 -->  good\n",
      "0.017150603179352856 -->  you\n",
      "0.014484344991899347 -->  love\n"
     ]
    }
   ],
   "source": [
    "def most_informative_feature_for_binary_classification(vectorizer, classifier, n=20):\n",
    "    class_labels = classifier.classes_\n",
    "    feature_names = vectorizer.get_feature_names()\n",
    "    topn_class1 = sorted(zip(classifier.feature_importances_, feature_names))[:n]\n",
    "    topn_class2 = sorted(zip(classifier.feature_importances_, feature_names))[-n:]\n",
    "    #print(dict(zip(iris_pd.columns, clf.feature_importances_)))\n",
    "    \n",
    "    print(\"Top 20 important features:\\n \")\n",
    "    for coef, feat in reversed(topn_class2):\n",
    "        print (coef,\"--> \", feat)\n",
    "\n",
    "\n",
    "most_informative_feature_for_binary_classification(count_vect, clf_dtree_best)"
   ]
  },
  {
   "cell_type": "code",
   "execution_count": 50,
   "metadata": {},
   "outputs": [
    {
     "data": {
      "image/svg+xml": [
       "<?xml version=\"1.0\" encoding=\"UTF-8\" standalone=\"no\"?>\r\n",
       "<!DOCTYPE svg PUBLIC \"-//W3C//DTD SVG 1.1//EN\"\r\n",
       " \"http://www.w3.org/Graphics/SVG/1.1/DTD/svg11.dtd\">\r\n",
       "<!-- Generated by graphviz version 2.38.0 (20140413.2041)\r\n",
       " -->\r\n",
       "<!-- Title: Tree Pages: 1 -->\r\n",
       "<svg width=\"1224pt\" height=\"460pt\"\r\n",
       " viewBox=\"0.00 0.00 1223.50 460.00\" xmlns=\"http://www.w3.org/2000/svg\" xmlns:xlink=\"http://www.w3.org/1999/xlink\">\r\n",
       "<g id=\"graph0\" class=\"graph\" transform=\"scale(1 1) rotate(0) translate(4 456)\">\r\n",
       "<title>Tree</title>\r\n",
       "<polygon fill=\"white\" stroke=\"none\" points=\"-4,4 -4,-456 1219.5,-456 1219.5,4 -4,4\"/>\r\n",
       "<!-- 0 -->\r\n",
       "<g id=\"node1\" class=\"node\"><title>0</title>\r\n",
       "<path fill=\"#399de5\" fill-opacity=\"0.866667\" stroke=\"black\" d=\"M630,-452C630,-452 499,-452 499,-452 493,-452 487,-446 487,-440 487,-440 487,-396 487,-396 487,-390 493,-384 499,-384 499,-384 630,-384 630,-384 636,-384 642,-390 642,-396 642,-396 642,-440 642,-440 642,-446 636,-452 630,-452\"/>\r\n",
       "<text text-anchor=\"start\" x=\"532.5\" y=\"-436.8\" font-family=\"Helvetica,sans-Serif\" font-size=\"14.00\">not ≤ 0.57</text>\r\n",
       "<text text-anchor=\"start\" x=\"527\" y=\"-421.8\" font-family=\"Helvetica,sans-Serif\" font-size=\"14.00\">gini = 0.206</text>\r\n",
       "<text text-anchor=\"start\" x=\"508.5\" y=\"-406.8\" font-family=\"Helvetica,sans-Serif\" font-size=\"14.00\">samples = 70000</text>\r\n",
       "<text text-anchor=\"start\" x=\"495\" y=\"-391.8\" font-family=\"Helvetica,sans-Serif\" font-size=\"14.00\">value = [8170, 61830]</text>\r\n",
       "</g>\r\n",
       "<!-- 1 -->\r\n",
       "<g id=\"node2\" class=\"node\"><title>1</title>\r\n",
       "<path fill=\"#399de5\" fill-opacity=\"0.909804\" stroke=\"black\" d=\"M516,-348C516,-348 385,-348 385,-348 379,-348 373,-342 373,-336 373,-336 373,-292 373,-292 373,-286 379,-280 385,-280 385,-280 516,-280 516,-280 522,-280 528,-286 528,-292 528,-292 528,-336 528,-336 528,-342 522,-348 516,-348\"/>\r\n",
       "<text text-anchor=\"start\" x=\"407.5\" y=\"-332.8\" font-family=\"Helvetica,sans-Serif\" font-size=\"14.00\">worst ≤ 6.688</text>\r\n",
       "<text text-anchor=\"start\" x=\"413\" y=\"-317.8\" font-family=\"Helvetica,sans-Serif\" font-size=\"14.00\">gini = 0.149</text>\r\n",
       "<text text-anchor=\"start\" x=\"394.5\" y=\"-302.8\" font-family=\"Helvetica,sans-Serif\" font-size=\"14.00\">samples = 46898</text>\r\n",
       "<text text-anchor=\"start\" x=\"381\" y=\"-287.8\" font-family=\"Helvetica,sans-Serif\" font-size=\"14.00\">value = [3810, 43088]</text>\r\n",
       "</g>\r\n",
       "<!-- 0&#45;&gt;1 -->\r\n",
       "<g id=\"edge1\" class=\"edge\"><title>0&#45;&gt;1</title>\r\n",
       "<path fill=\"none\" stroke=\"black\" d=\"M527.487,-383.884C517.234,-374.709 505.991,-364.65 495.343,-355.123\"/>\r\n",
       "<polygon fill=\"black\" stroke=\"black\" points=\"497.503,-352.359 487.717,-348.299 492.836,-357.576 497.503,-352.359\"/>\r\n",
       "<text text-anchor=\"middle\" x=\"489.104\" y=\"-369.561\" font-family=\"Helvetica,sans-Serif\" font-size=\"14.00\">True</text>\r\n",
       "</g>\r\n",
       "<!-- 86 -->\r\n",
       "<g id=\"node15\" class=\"node\"><title>86</title>\r\n",
       "<path fill=\"#399de5\" fill-opacity=\"0.768627\" stroke=\"black\" d=\"M744,-348C744,-348 613,-348 613,-348 607,-348 601,-342 601,-336 601,-336 601,-292 601,-292 601,-286 607,-280 613,-280 613,-280 744,-280 744,-280 750,-280 756,-286 756,-292 756,-292 756,-336 756,-336 756,-342 750,-348 744,-348\"/>\r\n",
       "<text text-anchor=\"start\" x=\"636\" y=\"-332.8\" font-family=\"Helvetica,sans-Serif\" font-size=\"14.00\">great ≤ 0.854</text>\r\n",
       "<text text-anchor=\"start\" x=\"641\" y=\"-317.8\" font-family=\"Helvetica,sans-Serif\" font-size=\"14.00\">gini = 0.306</text>\r\n",
       "<text text-anchor=\"start\" x=\"622.5\" y=\"-302.8\" font-family=\"Helvetica,sans-Serif\" font-size=\"14.00\">samples = 23102</text>\r\n",
       "<text text-anchor=\"start\" x=\"609\" y=\"-287.8\" font-family=\"Helvetica,sans-Serif\" font-size=\"14.00\">value = [4360, 18742]</text>\r\n",
       "</g>\r\n",
       "<!-- 0&#45;&gt;86 -->\r\n",
       "<g id=\"edge14\" class=\"edge\"><title>0&#45;&gt;86</title>\r\n",
       "<path fill=\"none\" stroke=\"black\" d=\"M601.513,-383.884C611.766,-374.709 623.009,-364.65 633.657,-355.123\"/>\r\n",
       "<polygon fill=\"black\" stroke=\"black\" points=\"636.164,-357.576 641.283,-348.299 631.497,-352.359 636.164,-357.576\"/>\r\n",
       "<text text-anchor=\"middle\" x=\"639.896\" y=\"-369.561\" font-family=\"Helvetica,sans-Serif\" font-size=\"14.00\">False</text>\r\n",
       "</g>\r\n",
       "<!-- 2 -->\r\n",
       "<g id=\"node3\" class=\"node\"><title>2</title>\r\n",
       "<path fill=\"#399de5\" fill-opacity=\"0.913725\" stroke=\"black\" d=\"M304,-244C304,-244 173,-244 173,-244 167,-244 161,-238 161,-232 161,-232 161,-188 161,-188 161,-182 167,-176 173,-176 173,-176 304,-176 304,-176 310,-176 316,-182 316,-188 316,-188 316,-232 316,-232 316,-238 310,-244 304,-244\"/>\r\n",
       "<text text-anchor=\"start\" x=\"171.5\" y=\"-228.8\" font-family=\"Helvetica,sans-Serif\" font-size=\"14.00\">disappointed ≤ 3.287</text>\r\n",
       "<text text-anchor=\"start\" x=\"201\" y=\"-213.8\" font-family=\"Helvetica,sans-Serif\" font-size=\"14.00\">gini = 0.145</text>\r\n",
       "<text text-anchor=\"start\" x=\"182.5\" y=\"-198.8\" font-family=\"Helvetica,sans-Serif\" font-size=\"14.00\">samples = 46746</text>\r\n",
       "<text text-anchor=\"start\" x=\"169\" y=\"-183.8\" font-family=\"Helvetica,sans-Serif\" font-size=\"14.00\">value = [3689, 43057]</text>\r\n",
       "</g>\r\n",
       "<!-- 1&#45;&gt;2 -->\r\n",
       "<g id=\"edge2\" class=\"edge\"><title>1&#45;&gt;2</title>\r\n",
       "<path fill=\"none\" stroke=\"black\" d=\"M381.67,-279.884C360.829,-269.856 337.793,-258.773 316.403,-248.482\"/>\r\n",
       "<polygon fill=\"black\" stroke=\"black\" points=\"317.876,-245.306 307.347,-244.125 314.841,-251.614 317.876,-245.306\"/>\r\n",
       "</g>\r\n",
       "<!-- 71 -->\r\n",
       "<g id=\"node10\" class=\"node\"><title>71</title>\r\n",
       "<path fill=\"#e58139\" fill-opacity=\"0.745098\" stroke=\"black\" d=\"M499.5,-244C499.5,-244 401.5,-244 401.5,-244 395.5,-244 389.5,-238 389.5,-232 389.5,-232 389.5,-188 389.5,-188 389.5,-182 395.5,-176 401.5,-176 401.5,-176 499.5,-176 499.5,-176 505.5,-176 511.5,-182 511.5,-188 511.5,-188 511.5,-232 511.5,-232 511.5,-238 505.5,-244 499.5,-244\"/>\r\n",
       "<text text-anchor=\"start\" x=\"419\" y=\"-228.8\" font-family=\"Helvetica,sans-Serif\" font-size=\"14.00\">in ≤ 1.691</text>\r\n",
       "<text text-anchor=\"start\" x=\"413\" y=\"-213.8\" font-family=\"Helvetica,sans-Serif\" font-size=\"14.00\">gini = 0.325</text>\r\n",
       "<text text-anchor=\"start\" x=\"403\" y=\"-198.8\" font-family=\"Helvetica,sans-Serif\" font-size=\"14.00\">samples = 152</text>\r\n",
       "<text text-anchor=\"start\" x=\"397.5\" y=\"-183.8\" font-family=\"Helvetica,sans-Serif\" font-size=\"14.00\">value = [121, 31]</text>\r\n",
       "</g>\r\n",
       "<!-- 1&#45;&gt;71 -->\r\n",
       "<g id=\"edge9\" class=\"edge\"><title>1&#45;&gt;71</title>\r\n",
       "<path fill=\"none\" stroke=\"black\" d=\"M450.5,-279.884C450.5,-271.778 450.5,-262.982 450.5,-254.472\"/>\r\n",
       "<polygon fill=\"black\" stroke=\"black\" points=\"454,-254.299 450.5,-244.299 447,-254.299 454,-254.299\"/>\r\n",
       "</g>\r\n",
       "<!-- 3 -->\r\n",
       "<g id=\"node4\" class=\"node\"><title>3</title>\r\n",
       "<path fill=\"#399de5\" fill-opacity=\"0.917647\" stroke=\"black\" d=\"M143,-140C143,-140 12,-140 12,-140 6,-140 0,-134 0,-128 0,-128 0,-84 0,-84 0,-78 6,-72 12,-72 12,-72 143,-72 143,-72 149,-72 155,-78 155,-84 155,-84 155,-128 155,-128 155,-134 149,-140 143,-140\"/>\r\n",
       "<text text-anchor=\"start\" x=\"29.5\" y=\"-124.8\" font-family=\"Helvetica,sans-Serif\" font-size=\"14.00\">terrible ≤ 6.023</text>\r\n",
       "<text text-anchor=\"start\" x=\"40\" y=\"-109.8\" font-family=\"Helvetica,sans-Serif\" font-size=\"14.00\">gini = 0.138</text>\r\n",
       "<text text-anchor=\"start\" x=\"21.5\" y=\"-94.8\" font-family=\"Helvetica,sans-Serif\" font-size=\"14.00\">samples = 46088</text>\r\n",
       "<text text-anchor=\"start\" x=\"8\" y=\"-79.8\" font-family=\"Helvetica,sans-Serif\" font-size=\"14.00\">value = [3433, 42655]</text>\r\n",
       "</g>\r\n",
       "<!-- 2&#45;&gt;3 -->\r\n",
       "<g id=\"edge3\" class=\"edge\"><title>2&#45;&gt;3</title>\r\n",
       "<path fill=\"none\" stroke=\"black\" d=\"M186.228,-175.884C170.966,-166.214 154.154,-155.563 138.407,-145.587\"/>\r\n",
       "<polygon fill=\"black\" stroke=\"black\" points=\"140.106,-142.52 129.785,-140.125 136.359,-148.433 140.106,-142.52\"/>\r\n",
       "</g>\r\n",
       "<!-- 42 -->\r\n",
       "<g id=\"node7\" class=\"node\"><title>42</title>\r\n",
       "<path fill=\"#399de5\" fill-opacity=\"0.364706\" stroke=\"black\" d=\"M291.5,-140C291.5,-140 185.5,-140 185.5,-140 179.5,-140 173.5,-134 173.5,-128 173.5,-128 173.5,-84 173.5,-84 173.5,-78 179.5,-72 185.5,-72 185.5,-72 291.5,-72 291.5,-72 297.5,-72 303.5,-78 303.5,-84 303.5,-84 303.5,-128 303.5,-128 303.5,-134 297.5,-140 291.5,-140\"/>\r\n",
       "<text text-anchor=\"start\" x=\"201\" y=\"-124.8\" font-family=\"Helvetica,sans-Serif\" font-size=\"14.00\">you ≤ 0.369</text>\r\n",
       "<text text-anchor=\"start\" x=\"201\" y=\"-109.8\" font-family=\"Helvetica,sans-Serif\" font-size=\"14.00\">gini = 0.475</text>\r\n",
       "<text text-anchor=\"start\" x=\"191\" y=\"-94.8\" font-family=\"Helvetica,sans-Serif\" font-size=\"14.00\">samples = 658</text>\r\n",
       "<text text-anchor=\"start\" x=\"181.5\" y=\"-79.8\" font-family=\"Helvetica,sans-Serif\" font-size=\"14.00\">value = [256, 402]</text>\r\n",
       "</g>\r\n",
       "<!-- 2&#45;&gt;42 -->\r\n",
       "<g id=\"edge6\" class=\"edge\"><title>2&#45;&gt;42</title>\r\n",
       "<path fill=\"none\" stroke=\"black\" d=\"M238.5,-175.884C238.5,-167.778 238.5,-158.982 238.5,-150.472\"/>\r\n",
       "<polygon fill=\"black\" stroke=\"black\" points=\"242,-150.299 238.5,-140.299 235,-150.299 242,-150.299\"/>\r\n",
       "</g>\r\n",
       "<!-- 4 -->\r\n",
       "<g id=\"node5\" class=\"node\"><title>4</title>\r\n",
       "<path fill=\"#c0c0c0\" stroke=\"black\" d=\"M63.5,-36C63.5,-36 33.5,-36 33.5,-36 27.5,-36 21.5,-30 21.5,-24 21.5,-24 21.5,-12 21.5,-12 21.5,-6 27.5,-0 33.5,-0 33.5,-0 63.5,-0 63.5,-0 69.5,-0 75.5,-6 75.5,-12 75.5,-12 75.5,-24 75.5,-24 75.5,-30 69.5,-36 63.5,-36\"/>\r\n",
       "<text text-anchor=\"middle\" x=\"48.5\" y=\"-14.3\" font-family=\"Helvetica,sans-Serif\" font-size=\"14.00\">(...)</text>\r\n",
       "</g>\r\n",
       "<!-- 3&#45;&gt;4 -->\r\n",
       "<g id=\"edge4\" class=\"edge\"><title>3&#45;&gt;4</title>\r\n",
       "<path fill=\"none\" stroke=\"black\" d=\"M66.3708,-71.9961C63.4637,-63.3751 60.3653,-54.1866 57.5788,-45.9234\"/>\r\n",
       "<polygon fill=\"black\" stroke=\"black\" points=\"60.8805,-44.7608 54.3686,-36.4034 54.2474,-46.9975 60.8805,-44.7608\"/>\r\n",
       "</g>\r\n",
       "<!-- 29 -->\r\n",
       "<g id=\"node6\" class=\"node\"><title>29</title>\r\n",
       "<path fill=\"#c0c0c0\" stroke=\"black\" d=\"M135.5,-36C135.5,-36 105.5,-36 105.5,-36 99.5,-36 93.5,-30 93.5,-24 93.5,-24 93.5,-12 93.5,-12 93.5,-6 99.5,-0 105.5,-0 105.5,-0 135.5,-0 135.5,-0 141.5,-0 147.5,-6 147.5,-12 147.5,-12 147.5,-24 147.5,-24 147.5,-30 141.5,-36 135.5,-36\"/>\r\n",
       "<text text-anchor=\"middle\" x=\"120.5\" y=\"-14.3\" font-family=\"Helvetica,sans-Serif\" font-size=\"14.00\">(...)</text>\r\n",
       "</g>\r\n",
       "<!-- 3&#45;&gt;29 -->\r\n",
       "<g id=\"edge5\" class=\"edge\"><title>3&#45;&gt;29</title>\r\n",
       "<path fill=\"none\" stroke=\"black\" d=\"M94.0019,-71.9961C98.4072,-63.1856 103.109,-53.7825 107.31,-45.38\"/>\r\n",
       "<polygon fill=\"black\" stroke=\"black\" points=\"110.457,-46.9129 111.798,-36.4034 104.196,-43.7824 110.457,-46.9129\"/>\r\n",
       "</g>\r\n",
       "<!-- 43 -->\r\n",
       "<g id=\"node8\" class=\"node\"><title>43</title>\r\n",
       "<path fill=\"#c0c0c0\" stroke=\"black\" d=\"M211.5,-36C211.5,-36 181.5,-36 181.5,-36 175.5,-36 169.5,-30 169.5,-24 169.5,-24 169.5,-12 169.5,-12 169.5,-6 175.5,-0 181.5,-0 181.5,-0 211.5,-0 211.5,-0 217.5,-0 223.5,-6 223.5,-12 223.5,-12 223.5,-24 223.5,-24 223.5,-30 217.5,-36 211.5,-36\"/>\r\n",
       "<text text-anchor=\"middle\" x=\"196.5\" y=\"-14.3\" font-family=\"Helvetica,sans-Serif\" font-size=\"14.00\">(...)</text>\r\n",
       "</g>\r\n",
       "<!-- 42&#45;&gt;43 -->\r\n",
       "<g id=\"edge7\" class=\"edge\"><title>42&#45;&gt;43</title>\r\n",
       "<path fill=\"none\" stroke=\"black\" d=\"M222.382,-71.9961C218.125,-63.2804 213.586,-53.9846 209.516,-45.6514\"/>\r\n",
       "<polygon fill=\"black\" stroke=\"black\" points=\"212.533,-43.8531 204.999,-36.4034 206.243,-46.925 212.533,-43.8531\"/>\r\n",
       "</g>\r\n",
       "<!-- 56 -->\r\n",
       "<g id=\"node9\" class=\"node\"><title>56</title>\r\n",
       "<path fill=\"#c0c0c0\" stroke=\"black\" d=\"M283.5,-36C283.5,-36 253.5,-36 253.5,-36 247.5,-36 241.5,-30 241.5,-24 241.5,-24 241.5,-12 241.5,-12 241.5,-6 247.5,-0 253.5,-0 253.5,-0 283.5,-0 283.5,-0 289.5,-0 295.5,-6 295.5,-12 295.5,-12 295.5,-24 295.5,-24 295.5,-30 289.5,-36 283.5,-36\"/>\r\n",
       "<text text-anchor=\"middle\" x=\"268.5\" y=\"-14.3\" font-family=\"Helvetica,sans-Serif\" font-size=\"14.00\">(...)</text>\r\n",
       "</g>\r\n",
       "<!-- 42&#45;&gt;56 -->\r\n",
       "<g id=\"edge8\" class=\"edge\"><title>42&#45;&gt;56</title>\r\n",
       "<path fill=\"none\" stroke=\"black\" d=\"M250.013,-71.9961C253.02,-63.3751 256.226,-54.1866 259.108,-45.9234\"/>\r\n",
       "<polygon fill=\"black\" stroke=\"black\" points=\"262.44,-46.9982 262.429,-36.4034 255.831,-44.6926 262.44,-46.9982\"/>\r\n",
       "</g>\r\n",
       "<!-- 72 -->\r\n",
       "<g id=\"node11\" class=\"node\"><title>72</title>\r\n",
       "<path fill=\"#e58139\" fill-opacity=\"0.882353\" stroke=\"black\" d=\"M431.5,-140C431.5,-140 333.5,-140 333.5,-140 327.5,-140 321.5,-134 321.5,-128 321.5,-128 321.5,-84 321.5,-84 321.5,-78 327.5,-72 333.5,-72 333.5,-72 431.5,-72 431.5,-72 437.5,-72 443.5,-78 443.5,-84 443.5,-84 443.5,-128 443.5,-128 443.5,-134 437.5,-140 431.5,-140\"/>\r\n",
       "<text text-anchor=\"start\" x=\"347.5\" y=\"-124.8\" font-family=\"Helvetica,sans-Serif\" font-size=\"14.00\">off ≤ 2.147</text>\r\n",
       "<text text-anchor=\"start\" x=\"345\" y=\"-109.8\" font-family=\"Helvetica,sans-Serif\" font-size=\"14.00\">gini = 0.189</text>\r\n",
       "<text text-anchor=\"start\" x=\"335\" y=\"-94.8\" font-family=\"Helvetica,sans-Serif\" font-size=\"14.00\">samples = 123</text>\r\n",
       "<text text-anchor=\"start\" x=\"329.5\" y=\"-79.8\" font-family=\"Helvetica,sans-Serif\" font-size=\"14.00\">value = [110, 13]</text>\r\n",
       "</g>\r\n",
       "<!-- 71&#45;&gt;72 -->\r\n",
       "<g id=\"edge10\" class=\"edge\"><title>71&#45;&gt;72</title>\r\n",
       "<path fill=\"none\" stroke=\"black\" d=\"M428.422,-175.884C422.662,-167.243 416.379,-157.819 410.362,-148.793\"/>\r\n",
       "<polygon fill=\"black\" stroke=\"black\" points=\"413.159,-146.678 404.7,-140.299 407.334,-150.561 413.159,-146.678\"/>\r\n",
       "</g>\r\n",
       "<!-- 85 -->\r\n",
       "<g id=\"node14\" class=\"node\"><title>85</title>\r\n",
       "<path fill=\"#399de5\" fill-opacity=\"0.388235\" stroke=\"black\" d=\"M563,-132.5C563,-132.5 474,-132.5 474,-132.5 468,-132.5 462,-126.5 462,-120.5 462,-120.5 462,-91.5 462,-91.5 462,-85.5 468,-79.5 474,-79.5 474,-79.5 563,-79.5 563,-79.5 569,-79.5 575,-85.5 575,-91.5 575,-91.5 575,-120.5 575,-120.5 575,-126.5 569,-132.5 563,-132.5\"/>\r\n",
       "<text text-anchor=\"start\" x=\"481\" y=\"-117.3\" font-family=\"Helvetica,sans-Serif\" font-size=\"14.00\">gini = 0.471</text>\r\n",
       "<text text-anchor=\"start\" x=\"475\" y=\"-102.3\" font-family=\"Helvetica,sans-Serif\" font-size=\"14.00\">samples = 29</text>\r\n",
       "<text text-anchor=\"start\" x=\"470\" y=\"-87.3\" font-family=\"Helvetica,sans-Serif\" font-size=\"14.00\">value = [11, 18]</text>\r\n",
       "</g>\r\n",
       "<!-- 71&#45;&gt;85 -->\r\n",
       "<g id=\"edge13\" class=\"edge\"><title>71&#45;&gt;85</title>\r\n",
       "<path fill=\"none\" stroke=\"black\" d=\"M472.578,-175.884C480.056,-164.666 488.416,-152.126 495.932,-140.852\"/>\r\n",
       "<polygon fill=\"black\" stroke=\"black\" points=\"498.852,-142.782 501.487,-132.52 493.027,-138.899 498.852,-142.782\"/>\r\n",
       "</g>\r\n",
       "<!-- 73 -->\r\n",
       "<g id=\"node12\" class=\"node\"><title>73</title>\r\n",
       "<path fill=\"#c0c0c0\" stroke=\"black\" d=\"M363.5,-36C363.5,-36 333.5,-36 333.5,-36 327.5,-36 321.5,-30 321.5,-24 321.5,-24 321.5,-12 321.5,-12 321.5,-6 327.5,-0 333.5,-0 333.5,-0 363.5,-0 363.5,-0 369.5,-0 375.5,-6 375.5,-12 375.5,-12 375.5,-24 375.5,-24 375.5,-30 369.5,-36 363.5,-36\"/>\r\n",
       "<text text-anchor=\"middle\" x=\"348.5\" y=\"-14.3\" font-family=\"Helvetica,sans-Serif\" font-size=\"14.00\">(...)</text>\r\n",
       "</g>\r\n",
       "<!-- 72&#45;&gt;73 -->\r\n",
       "<g id=\"edge11\" class=\"edge\"><title>72&#45;&gt;73</title>\r\n",
       "<path fill=\"none\" stroke=\"black\" d=\"M369.452,-71.9961C366.044,-63.3751 362.411,-54.1866 359.144,-45.9234\"/>\r\n",
       "<polygon fill=\"black\" stroke=\"black\" points=\"362.312,-44.4162 355.38,-36.4034 355.802,-46.9898 362.312,-44.4162\"/>\r\n",
       "</g>\r\n",
       "<!-- 84 -->\r\n",
       "<g id=\"node13\" class=\"node\"><title>84</title>\r\n",
       "<path fill=\"#c0c0c0\" stroke=\"black\" d=\"M435.5,-36C435.5,-36 405.5,-36 405.5,-36 399.5,-36 393.5,-30 393.5,-24 393.5,-24 393.5,-12 393.5,-12 393.5,-6 399.5,-0 405.5,-0 405.5,-0 435.5,-0 435.5,-0 441.5,-0 447.5,-6 447.5,-12 447.5,-12 447.5,-24 447.5,-24 447.5,-30 441.5,-36 435.5,-36\"/>\r\n",
       "<text text-anchor=\"middle\" x=\"420.5\" y=\"-14.3\" font-family=\"Helvetica,sans-Serif\" font-size=\"14.00\">(...)</text>\r\n",
       "</g>\r\n",
       "<!-- 72&#45;&gt;84 -->\r\n",
       "<g id=\"edge12\" class=\"edge\"><title>72&#45;&gt;84</title>\r\n",
       "<path fill=\"none\" stroke=\"black\" d=\"M397.083,-71.9961C400.934,-63.2804 405.042,-53.9846 408.724,-45.6514\"/>\r\n",
       "<polygon fill=\"black\" stroke=\"black\" points=\"411.97,-46.9649 412.81,-36.4034 405.567,-44.1357 411.97,-46.9649\"/>\r\n",
       "</g>\r\n",
       "<!-- 87 -->\r\n",
       "<g id=\"node16\" class=\"node\"><title>87</title>\r\n",
       "<path fill=\"#399de5\" fill-opacity=\"0.709804\" stroke=\"black\" d=\"M744,-244C744,-244 613,-244 613,-244 607,-244 601,-238 601,-232 601,-232 601,-188 601,-188 601,-182 607,-176 613,-176 613,-176 744,-176 744,-176 750,-176 756,-182 756,-188 756,-188 756,-232 756,-232 756,-238 750,-244 744,-244\"/>\r\n",
       "<text text-anchor=\"start\" x=\"640\" y=\"-228.8\" font-family=\"Helvetica,sans-Serif\" font-size=\"14.00\">was ≤ 0.534</text>\r\n",
       "<text text-anchor=\"start\" x=\"641\" y=\"-213.8\" font-family=\"Helvetica,sans-Serif\" font-size=\"14.00\">gini = 0.349</text>\r\n",
       "<text text-anchor=\"start\" x=\"622.5\" y=\"-198.8\" font-family=\"Helvetica,sans-Serif\" font-size=\"14.00\">samples = 17446</text>\r\n",
       "<text text-anchor=\"start\" x=\"609\" y=\"-183.8\" font-family=\"Helvetica,sans-Serif\" font-size=\"14.00\">value = [3923, 13523]</text>\r\n",
       "</g>\r\n",
       "<!-- 86&#45;&gt;87 -->\r\n",
       "<g id=\"edge15\" class=\"edge\"><title>86&#45;&gt;87</title>\r\n",
       "<path fill=\"none\" stroke=\"black\" d=\"M678.5,-279.884C678.5,-271.778 678.5,-262.982 678.5,-254.472\"/>\r\n",
       "<polygon fill=\"black\" stroke=\"black\" points=\"682,-254.299 678.5,-244.299 675,-254.299 682,-254.299\"/>\r\n",
       "</g>\r\n",
       "<!-- 202 -->\r\n",
       "<g id=\"node23\" class=\"node\"><title>202</title>\r\n",
       "<path fill=\"#399de5\" fill-opacity=\"0.917647\" stroke=\"black\" d=\"M1047.5,-244C1047.5,-244 933.5,-244 933.5,-244 927.5,-244 921.5,-238 921.5,-232 921.5,-232 921.5,-188 921.5,-188 921.5,-182 927.5,-176 933.5,-176 933.5,-176 1047.5,-176 1047.5,-176 1053.5,-176 1059.5,-182 1059.5,-188 1059.5,-188 1059.5,-232 1059.5,-232 1059.5,-238 1053.5,-244 1047.5,-244\"/>\r\n",
       "<text text-anchor=\"start\" x=\"952\" y=\"-228.8\" font-family=\"Helvetica,sans-Serif\" font-size=\"14.00\">was ≤ 1.602</text>\r\n",
       "<text text-anchor=\"start\" x=\"953\" y=\"-213.8\" font-family=\"Helvetica,sans-Serif\" font-size=\"14.00\">gini = 0.143</text>\r\n",
       "<text text-anchor=\"start\" x=\"939\" y=\"-198.8\" font-family=\"Helvetica,sans-Serif\" font-size=\"14.00\">samples = 5656</text>\r\n",
       "<text text-anchor=\"start\" x=\"929.5\" y=\"-183.8\" font-family=\"Helvetica,sans-Serif\" font-size=\"14.00\">value = [437, 5219]</text>\r\n",
       "</g>\r\n",
       "<!-- 86&#45;&gt;202 -->\r\n",
       "<g id=\"edge22\" class=\"edge\"><title>86&#45;&gt;202</title>\r\n",
       "<path fill=\"none\" stroke=\"black\" d=\"M756.024,-287.655C803.469,-272.145 864.008,-252.353 911.687,-236.766\"/>\r\n",
       "<polygon fill=\"black\" stroke=\"black\" points=\"912.933,-240.041 921.35,-233.607 910.758,-233.387 912.933,-240.041\"/>\r\n",
       "</g>\r\n",
       "<!-- 88 -->\r\n",
       "<g id=\"node17\" class=\"node\"><title>88</title>\r\n",
       "<path fill=\"#399de5\" fill-opacity=\"0.780392\" stroke=\"black\" d=\"M727.5,-140C727.5,-140 605.5,-140 605.5,-140 599.5,-140 593.5,-134 593.5,-128 593.5,-128 593.5,-84 593.5,-84 593.5,-78 599.5,-72 605.5,-72 605.5,-72 727.5,-72 727.5,-72 733.5,-72 739.5,-78 739.5,-84 739.5,-84 739.5,-128 739.5,-128 739.5,-134 733.5,-140 727.5,-140\"/>\r\n",
       "<text text-anchor=\"start\" x=\"626.5\" y=\"-124.8\" font-family=\"Helvetica,sans-Serif\" font-size=\"14.00\">best ≤ 1.198</text>\r\n",
       "<text text-anchor=\"start\" x=\"629\" y=\"-109.8\" font-family=\"Helvetica,sans-Serif\" font-size=\"14.00\">gini = 0.294</text>\r\n",
       "<text text-anchor=\"start\" x=\"610.5\" y=\"-94.8\" font-family=\"Helvetica,sans-Serif\" font-size=\"14.00\">samples = 11299</text>\r\n",
       "<text text-anchor=\"start\" x=\"601.5\" y=\"-79.8\" font-family=\"Helvetica,sans-Serif\" font-size=\"14.00\">value = [2026, 9273]</text>\r\n",
       "</g>\r\n",
       "<!-- 87&#45;&gt;88 -->\r\n",
       "<g id=\"edge16\" class=\"edge\"><title>87&#45;&gt;88</title>\r\n",
       "<path fill=\"none\" stroke=\"black\" d=\"M674.604,-175.884C673.65,-167.778 672.616,-158.982 671.614,-150.472\"/>\r\n",
       "<polygon fill=\"black\" stroke=\"black\" points=\"675.062,-149.822 670.418,-140.299 668.11,-150.64 675.062,-149.822\"/>\r\n",
       "</g>\r\n",
       "<!-- 137 -->\r\n",
       "<g id=\"node20\" class=\"node\"><title>137</title>\r\n",
       "<path fill=\"#399de5\" fill-opacity=\"0.552941\" stroke=\"black\" d=\"M891.5,-140C891.5,-140 769.5,-140 769.5,-140 763.5,-140 757.5,-134 757.5,-128 757.5,-128 757.5,-84 757.5,-84 757.5,-78 763.5,-72 769.5,-72 769.5,-72 891.5,-72 891.5,-72 897.5,-72 903.5,-78 903.5,-84 903.5,-84 903.5,-128 903.5,-128 903.5,-134 897.5,-140 891.5,-140\"/>\r\n",
       "<text text-anchor=\"start\" x=\"797\" y=\"-124.8\" font-family=\"Helvetica,sans-Serif\" font-size=\"14.00\">and ≤ 1.01</text>\r\n",
       "<text text-anchor=\"start\" x=\"793\" y=\"-109.8\" font-family=\"Helvetica,sans-Serif\" font-size=\"14.00\">gini = 0.427</text>\r\n",
       "<text text-anchor=\"start\" x=\"779\" y=\"-94.8\" font-family=\"Helvetica,sans-Serif\" font-size=\"14.00\">samples = 6147</text>\r\n",
       "<text text-anchor=\"start\" x=\"765.5\" y=\"-79.8\" font-family=\"Helvetica,sans-Serif\" font-size=\"14.00\">value = [1897, 4250]</text>\r\n",
       "</g>\r\n",
       "<!-- 87&#45;&gt;137 -->\r\n",
       "<g id=\"edge19\" class=\"edge\"><title>87&#45;&gt;137</title>\r\n",
       "<path fill=\"none\" stroke=\"black\" d=\"M727.85,-175.884C742.125,-166.304 757.837,-155.761 772.584,-145.864\"/>\r\n",
       "<polygon fill=\"black\" stroke=\"black\" points=\"774.784,-148.603 781.138,-140.125 770.884,-142.791 774.784,-148.603\"/>\r\n",
       "</g>\r\n",
       "<!-- 89 -->\r\n",
       "<g id=\"node18\" class=\"node\"><title>89</title>\r\n",
       "<path fill=\"#c0c0c0\" stroke=\"black\" d=\"M619.5,-36C619.5,-36 589.5,-36 589.5,-36 583.5,-36 577.5,-30 577.5,-24 577.5,-24 577.5,-12 577.5,-12 577.5,-6 583.5,-0 589.5,-0 589.5,-0 619.5,-0 619.5,-0 625.5,-0 631.5,-6 631.5,-12 631.5,-12 631.5,-24 631.5,-24 631.5,-30 625.5,-36 619.5,-36\"/>\r\n",
       "<text text-anchor=\"middle\" x=\"604.5\" y=\"-14.3\" font-family=\"Helvetica,sans-Serif\" font-size=\"14.00\">(...)</text>\r\n",
       "</g>\r\n",
       "<!-- 88&#45;&gt;89 -->\r\n",
       "<g id=\"edge17\" class=\"edge\"><title>88&#45;&gt;89</title>\r\n",
       "<path fill=\"none\" stroke=\"black\" d=\"M642.706,-71.9961C636.15,-62.9014 629.138,-53.1752 622.934,-44.57\"/>\r\n",
       "<polygon fill=\"black\" stroke=\"black\" points=\"625.734,-42.4683 617.047,-36.4034 620.056,-46.562 625.734,-42.4683\"/>\r\n",
       "</g>\r\n",
       "<!-- 124 -->\r\n",
       "<g id=\"node19\" class=\"node\"><title>124</title>\r\n",
       "<path fill=\"#c0c0c0\" stroke=\"black\" d=\"M691.5,-36C691.5,-36 661.5,-36 661.5,-36 655.5,-36 649.5,-30 649.5,-24 649.5,-24 649.5,-12 649.5,-12 649.5,-6 655.5,-0 661.5,-0 661.5,-0 691.5,-0 691.5,-0 697.5,-0 703.5,-6 703.5,-12 703.5,-12 703.5,-24 703.5,-24 703.5,-30 697.5,-36 691.5,-36\"/>\r\n",
       "<text text-anchor=\"middle\" x=\"676.5\" y=\"-14.3\" font-family=\"Helvetica,sans-Serif\" font-size=\"14.00\">(...)</text>\r\n",
       "</g>\r\n",
       "<!-- 88&#45;&gt;124 -->\r\n",
       "<g id=\"edge18\" class=\"edge\"><title>88&#45;&gt;124</title>\r\n",
       "<path fill=\"none\" stroke=\"black\" d=\"M670.338,-71.9961C671.318,-63.5646 672.362,-54.5902 673.306,-46.4696\"/>\r\n",
       "<polygon fill=\"black\" stroke=\"black\" points=\"676.798,-46.7407 674.476,-36.4034 669.845,-45.9322 676.798,-46.7407\"/>\r\n",
       "</g>\r\n",
       "<!-- 138 -->\r\n",
       "<g id=\"node21\" class=\"node\"><title>138</title>\r\n",
       "<path fill=\"#c0c0c0\" stroke=\"black\" d=\"M781.5,-36C781.5,-36 751.5,-36 751.5,-36 745.5,-36 739.5,-30 739.5,-24 739.5,-24 739.5,-12 739.5,-12 739.5,-6 745.5,-0 751.5,-0 751.5,-0 781.5,-0 781.5,-0 787.5,-0 793.5,-6 793.5,-12 793.5,-12 793.5,-24 793.5,-24 793.5,-30 787.5,-36 781.5,-36\"/>\r\n",
       "<text text-anchor=\"middle\" x=\"766.5\" y=\"-14.3\" font-family=\"Helvetica,sans-Serif\" font-size=\"14.00\">(...)</text>\r\n",
       "</g>\r\n",
       "<!-- 137&#45;&gt;138 -->\r\n",
       "<g id=\"edge20\" class=\"edge\"><title>137&#45;&gt;138</title>\r\n",
       "<path fill=\"none\" stroke=\"black\" d=\"M805.939,-71.9961C799.171,-62.9014 791.933,-53.1752 785.529,-44.57\"/>\r\n",
       "<polygon fill=\"black\" stroke=\"black\" points=\"788.229,-42.3362 779.451,-36.4034 782.614,-46.5153 788.229,-42.3362\"/>\r\n",
       "</g>\r\n",
       "<!-- 181 -->\r\n",
       "<g id=\"node22\" class=\"node\"><title>181</title>\r\n",
       "<path fill=\"#c0c0c0\" stroke=\"black\" d=\"M853.5,-36C853.5,-36 823.5,-36 823.5,-36 817.5,-36 811.5,-30 811.5,-24 811.5,-24 811.5,-12 811.5,-12 811.5,-6 817.5,-0 823.5,-0 823.5,-0 853.5,-0 853.5,-0 859.5,-0 865.5,-6 865.5,-12 865.5,-12 865.5,-24 865.5,-24 865.5,-30 859.5,-36 853.5,-36\"/>\r\n",
       "<text text-anchor=\"middle\" x=\"838.5\" y=\"-14.3\" font-family=\"Helvetica,sans-Serif\" font-size=\"14.00\">(...)</text>\r\n",
       "</g>\r\n",
       "<!-- 137&#45;&gt;181 -->\r\n",
       "<g id=\"edge21\" class=\"edge\"><title>137&#45;&gt;181</title>\r\n",
       "<path fill=\"none\" stroke=\"black\" d=\"M833.57,-71.9961C834.354,-63.5646 835.189,-54.5902 835.945,-46.4696\"/>\r\n",
       "<polygon fill=\"black\" stroke=\"black\" points=\"839.44,-46.6846 836.881,-36.4034 832.47,-46.0362 839.44,-46.6846\"/>\r\n",
       "</g>\r\n",
       "<!-- 203 -->\r\n",
       "<g id=\"node24\" class=\"node\"><title>203</title>\r\n",
       "<path fill=\"#399de5\" fill-opacity=\"0.933333\" stroke=\"black\" d=\"M1047.5,-140C1047.5,-140 933.5,-140 933.5,-140 927.5,-140 921.5,-134 921.5,-128 921.5,-128 921.5,-84 921.5,-84 921.5,-78 927.5,-72 933.5,-72 933.5,-72 1047.5,-72 1047.5,-72 1053.5,-72 1059.5,-78 1059.5,-84 1059.5,-84 1059.5,-128 1059.5,-128 1059.5,-134 1053.5,-140 1047.5,-140\"/>\r\n",
       "<text text-anchor=\"start\" x=\"950\" y=\"-124.8\" font-family=\"Helvetica,sans-Serif\" font-size=\"14.00\">yuck ≤ 9.895</text>\r\n",
       "<text text-anchor=\"start\" x=\"953\" y=\"-109.8\" font-family=\"Helvetica,sans-Serif\" font-size=\"14.00\">gini = 0.117</text>\r\n",
       "<text text-anchor=\"start\" x=\"939\" y=\"-94.8\" font-family=\"Helvetica,sans-Serif\" font-size=\"14.00\">samples = 4834</text>\r\n",
       "<text text-anchor=\"start\" x=\"929.5\" y=\"-79.8\" font-family=\"Helvetica,sans-Serif\" font-size=\"14.00\">value = [301, 4533]</text>\r\n",
       "</g>\r\n",
       "<!-- 202&#45;&gt;203 -->\r\n",
       "<g id=\"edge23\" class=\"edge\"><title>202&#45;&gt;203</title>\r\n",
       "<path fill=\"none\" stroke=\"black\" d=\"M990.5,-175.884C990.5,-167.778 990.5,-158.982 990.5,-150.472\"/>\r\n",
       "<polygon fill=\"black\" stroke=\"black\" points=\"994,-150.299 990.5,-140.299 987,-150.299 994,-150.299\"/>\r\n",
       "</g>\r\n",
       "<!-- 218 -->\r\n",
       "<g id=\"node27\" class=\"node\"><title>218</title>\r\n",
       "<path fill=\"#399de5\" fill-opacity=\"0.800000\" stroke=\"black\" d=\"M1203.5,-140C1203.5,-140 1089.5,-140 1089.5,-140 1083.5,-140 1077.5,-134 1077.5,-128 1077.5,-128 1077.5,-84 1077.5,-84 1077.5,-78 1083.5,-72 1089.5,-72 1089.5,-72 1203.5,-72 1203.5,-72 1209.5,-72 1215.5,-78 1215.5,-84 1215.5,-84 1215.5,-128 1215.5,-128 1215.5,-134 1209.5,-140 1203.5,-140\"/>\r\n",
       "<text text-anchor=\"start\" x=\"1085.5\" y=\"-124.8\" font-family=\"Helvetica,sans-Serif\" font-size=\"14.00\">description ≤ 5.867</text>\r\n",
       "<text text-anchor=\"start\" x=\"1109\" y=\"-109.8\" font-family=\"Helvetica,sans-Serif\" font-size=\"14.00\">gini = 0.276</text>\r\n",
       "<text text-anchor=\"start\" x=\"1099\" y=\"-94.8\" font-family=\"Helvetica,sans-Serif\" font-size=\"14.00\">samples = 822</text>\r\n",
       "<text text-anchor=\"start\" x=\"1089.5\" y=\"-79.8\" font-family=\"Helvetica,sans-Serif\" font-size=\"14.00\">value = [136, 686]</text>\r\n",
       "</g>\r\n",
       "<!-- 202&#45;&gt;218 -->\r\n",
       "<g id=\"edge26\" class=\"edge\"><title>202&#45;&gt;218</title>\r\n",
       "<path fill=\"none\" stroke=\"black\" d=\"M1041.15,-175.884C1055.8,-166.304 1071.92,-155.761 1087.06,-145.864\"/>\r\n",
       "<polygon fill=\"black\" stroke=\"black\" points=\"1089.38,-148.527 1095.84,-140.125 1085.55,-142.668 1089.38,-148.527\"/>\r\n",
       "</g>\r\n",
       "<!-- 204 -->\r\n",
       "<g id=\"node25\" class=\"node\"><title>204</title>\r\n",
       "<path fill=\"#c0c0c0\" stroke=\"black\" d=\"M957.5,-36C957.5,-36 927.5,-36 927.5,-36 921.5,-36 915.5,-30 915.5,-24 915.5,-24 915.5,-12 915.5,-12 915.5,-6 921.5,-0 927.5,-0 927.5,-0 957.5,-0 957.5,-0 963.5,-0 969.5,-6 969.5,-12 969.5,-12 969.5,-24 969.5,-24 969.5,-30 963.5,-36 957.5,-36\"/>\r\n",
       "<text text-anchor=\"middle\" x=\"942.5\" y=\"-14.3\" font-family=\"Helvetica,sans-Serif\" font-size=\"14.00\">(...)</text>\r\n",
       "</g>\r\n",
       "<!-- 203&#45;&gt;204 -->\r\n",
       "<g id=\"edge24\" class=\"edge\"><title>203&#45;&gt;204</title>\r\n",
       "<path fill=\"none\" stroke=\"black\" d=\"M972.079,-71.9961C967.162,-63.1856 961.913,-53.7825 957.224,-45.38\"/>\r\n",
       "<polygon fill=\"black\" stroke=\"black\" points=\"960.143,-43.4296 952.214,-36.4034 954.031,-46.8412 960.143,-43.4296\"/>\r\n",
       "</g>\r\n",
       "<!-- 217 -->\r\n",
       "<g id=\"node26\" class=\"node\"><title>217</title>\r\n",
       "<path fill=\"#c0c0c0\" stroke=\"black\" d=\"M1029.5,-36C1029.5,-36 999.5,-36 999.5,-36 993.5,-36 987.5,-30 987.5,-24 987.5,-24 987.5,-12 987.5,-12 987.5,-6 993.5,-0 999.5,-0 999.5,-0 1029.5,-0 1029.5,-0 1035.5,-0 1041.5,-6 1041.5,-12 1041.5,-12 1041.5,-24 1041.5,-24 1041.5,-30 1035.5,-36 1029.5,-36\"/>\r\n",
       "<text text-anchor=\"middle\" x=\"1014.5\" y=\"-14.3\" font-family=\"Helvetica,sans-Serif\" font-size=\"14.00\">(...)</text>\r\n",
       "</g>\r\n",
       "<!-- 203&#45;&gt;217 -->\r\n",
       "<g id=\"edge25\" class=\"edge\"><title>203&#45;&gt;217</title>\r\n",
       "<path fill=\"none\" stroke=\"black\" d=\"M999.71,-71.9961C1002.09,-63.4699 1004.62,-54.3885 1006.91,-46.1962\"/>\r\n",
       "<polygon fill=\"black\" stroke=\"black\" points=\"1010.33,-46.9762 1009.64,-36.4034 1003.58,-45.0945 1010.33,-46.9762\"/>\r\n",
       "</g>\r\n",
       "<!-- 219 -->\r\n",
       "<g id=\"node28\" class=\"node\"><title>219</title>\r\n",
       "<path fill=\"#c0c0c0\" stroke=\"black\" d=\"M1125.5,-36C1125.5,-36 1095.5,-36 1095.5,-36 1089.5,-36 1083.5,-30 1083.5,-24 1083.5,-24 1083.5,-12 1083.5,-12 1083.5,-6 1089.5,-0 1095.5,-0 1095.5,-0 1125.5,-0 1125.5,-0 1131.5,-0 1137.5,-6 1137.5,-12 1137.5,-12 1137.5,-24 1137.5,-24 1137.5,-30 1131.5,-36 1125.5,-36\"/>\r\n",
       "<text text-anchor=\"middle\" x=\"1110.5\" y=\"-14.3\" font-family=\"Helvetica,sans-Serif\" font-size=\"14.00\">(...)</text>\r\n",
       "</g>\r\n",
       "<!-- 218&#45;&gt;219 -->\r\n",
       "<g id=\"edge27\" class=\"edge\"><title>218&#45;&gt;219</title>\r\n",
       "<path fill=\"none\" stroke=\"black\" d=\"M1132.68,-71.9961C1129.04,-63.2804 1125.14,-53.9846 1121.66,-45.6514\"/>\r\n",
       "<polygon fill=\"black\" stroke=\"black\" points=\"1124.88,-44.2763 1117.79,-36.4034 1118.42,-46.9793 1124.88,-44.2763\"/>\r\n",
       "</g>\r\n",
       "<!-- 232 -->\r\n",
       "<g id=\"node29\" class=\"node\"><title>232</title>\r\n",
       "<path fill=\"#c0c0c0\" stroke=\"black\" d=\"M1197.5,-36C1197.5,-36 1167.5,-36 1167.5,-36 1161.5,-36 1155.5,-30 1155.5,-24 1155.5,-24 1155.5,-12 1155.5,-12 1155.5,-6 1161.5,-0 1167.5,-0 1167.5,-0 1197.5,-0 1197.5,-0 1203.5,-0 1209.5,-6 1209.5,-12 1209.5,-12 1209.5,-24 1209.5,-24 1209.5,-30 1203.5,-36 1197.5,-36\"/>\r\n",
       "<text text-anchor=\"middle\" x=\"1182.5\" y=\"-14.3\" font-family=\"Helvetica,sans-Serif\" font-size=\"14.00\">(...)</text>\r\n",
       "</g>\r\n",
       "<!-- 218&#45;&gt;232 -->\r\n",
       "<g id=\"edge28\" class=\"edge\"><title>218&#45;&gt;232</title>\r\n",
       "<path fill=\"none\" stroke=\"black\" d=\"M1160.32,-71.9961C1163.96,-63.2804 1167.86,-53.9846 1171.34,-45.6514\"/>\r\n",
       "<polygon fill=\"black\" stroke=\"black\" points=\"1174.58,-46.9793 1175.21,-36.4034 1168.12,-44.2763 1174.58,-46.9793\"/>\r\n",
       "</g>\r\n",
       "</g>\r\n",
       "</svg>\r\n"
      ],
      "text/plain": [
       "<graphviz.files.Source at 0x2ec6bebb668>"
      ]
     },
     "execution_count": 50,
     "metadata": {},
     "output_type": "execute_result"
    }
   ],
   "source": [
    "dot_data = tree.export_graphviz(clf_dtree_best, out_file=None, \n",
    "                      feature_names=count_vect.get_feature_names(),  \n",
    "                      filled=True, rounded=True, \n",
    "                      max_depth = 3,          \n",
    "                      special_characters=True)  \n",
    "graph = graphviz.Source(dot_data)  \n",
    "graph "
   ]
  },
  {
   "cell_type": "markdown",
   "metadata": {},
   "source": [
    "## TDIDF"
   ]
  },
  {
   "cell_type": "code",
   "execution_count": 78,
   "metadata": {},
   "outputs": [
    {
     "name": "stdout",
     "output_type": "stream",
     "text": [
      "(70000, 50158)\n",
      "(30000, 50158)\n"
     ]
    }
   ],
   "source": [
    "#tf-idf on train data\n",
    "tf_idf_vect = TfidfVectorizer(ngram_range=(1,1)) #considering only uni-gram as I was getting memory error\n",
    "train_tfidf_nstd = tf_idf_vect.fit_transform(X_train[:,9]) #sparse matrix\n",
    "test_tfidf_nstd = tf_idf_vect.transform(X_test[:,9])\n",
    "print(train_tfidf_nstd.shape)\n",
    "print(test_tfidf_nstd.shape)"
   ]
  },
  {
   "cell_type": "code",
   "execution_count": 79,
   "metadata": {},
   "outputs": [],
   "source": [
    "# Column Standardization of the tfidf non-standard vector\n",
    "std_scal = StandardScaler(with_mean=False)\n",
    "std_scal.fit(train_tfidf_nstd)\n",
    "train_tfidf = std_scal.transform(train_tfidf_nstd)\n",
    "test_tfidf = std_scal.transform(test_tfidf_nstd)"
   ]
  },
  {
   "cell_type": "code",
   "execution_count": 80,
   "metadata": {},
   "outputs": [
    {
     "data": {
      "text/plain": [
       "DecisionTreeClassifier(class_weight=None, criterion='gini', max_depth=None,\n",
       "            max_features=None, max_leaf_nodes=None,\n",
       "            min_impurity_decrease=0.0, min_impurity_split=None,\n",
       "            min_samples_leaf=1, min_samples_split=2,\n",
       "            min_weight_fraction_leaf=0.0, presort=False, random_state=None,\n",
       "            splitter='best')"
      ]
     },
     "execution_count": 80,
     "metadata": {},
     "output_type": "execute_result"
    }
   ],
   "source": [
    "clf_dtree_tfidf = tree.DecisionTreeClassifier()\n",
    "clf_dtree_tfidf = clf_dtree_tfidf.fit(train_tfidf, y_train)\n",
    "clf_dtree_tfidf"
   ]
  },
  {
   "cell_type": "code",
   "execution_count": 82,
   "metadata": {},
   "outputs": [
    {
     "name": "stdout",
     "output_type": "stream",
     "text": [
      "GridSearchCV(cv=3, error_score='raise',\n",
      "       estimator=DecisionTreeClassifier(class_weight=None, criterion='gini', max_depth=None,\n",
      "            max_features=None, max_leaf_nodes=None,\n",
      "            min_impurity_decrease=0.0, min_impurity_split=None,\n",
      "            min_samples_leaf=1, min_samples_split=2,\n",
      "            min_weight_fraction_leaf=0.0, presort=False, random_state=None,\n",
      "            splitter='best'),\n",
      "       fit_params=None, iid=True, n_jobs=1,\n",
      "       param_grid={'max_depth': (10, 50, 100, 500), 'min_samples_split': (5, 10, 50, 100)},\n",
      "       pre_dispatch='2*n_jobs', refit=True, return_train_score='warn',\n",
      "       scoring='f1', verbose=0)\n",
      "\n",
      "Best score:  0.9406953146056071\n",
      "\n",
      "Optimal value of Hyperparameter, max_depth :  10\n",
      "\n",
      "Optimal value of Hyperparameter, min_samples_split :  100\n"
     ]
    }
   ],
   "source": [
    "parameter = {\n",
    "        'max_depth': (10, 50, 100, 500),\n",
    "        'min_samples_split': (5, 10, 50, 100)\n",
    "    }\n",
    "\n",
    "gsearch_dt_tfidf = GridSearchCV(estimator = clf_dtree_tfidf,\n",
    "                          param_grid= parameter,\n",
    "                          cv=3,\n",
    "                          scoring='f1')\n",
    "gsearch_dt_tfidf.fit(train_tfidf, y_train)\n",
    "\n",
    "print(gsearch_dt_tfidf)\n",
    "results_tfidf = gsearch_dt_tfidf.cv_results_\n",
    "\n",
    "# summarize the results of the grid search\n",
    "print(\"\\nBest score: \",gsearch_dt_tfidf.best_score_)\n",
    "NB_OPTIMAL_clf_tfidf = gsearch_dt_tfidf.best_estimator_\n",
    "\n",
    "best_max_depth_tfidf = gsearch_dt_tfidf.best_estimator_.max_depth\n",
    "print(\"\\nOptimal value of Hyperparameter, max_depth : \",best_max_depth_tfidf)\n",
    "\n",
    "best_min_samples_split_tfidf = gsearch_dt_tfidf.best_estimator_.min_samples_split\n",
    "print(\"\\nOptimal value of Hyperparameter, min_samples_split : \",best_min_samples_split_tfidf)"
   ]
  },
  {
   "cell_type": "code",
   "execution_count": 83,
   "metadata": {},
   "outputs": [
    {
     "data": {
      "text/plain": [
       "['results_tfidf.pkl']"
      ]
     },
     "execution_count": 83,
     "metadata": {},
     "output_type": "execute_result"
    }
   ],
   "source": [
    "joblib.dump(results_tfidf,\"results_tfidf.pkl\")"
   ]
  },
  {
   "cell_type": "code",
   "execution_count": 84,
   "metadata": {},
   "outputs": [
    {
     "data": {
      "text/plain": [
       "{'mean_fit_time': array([ 23.21834135,  22.94935322,  21.895353  ,  21.05104415,\n",
       "        101.5016168 , 111.03950222, 109.17370653, 126.04858645,\n",
       "        198.12915691, 182.98127143, 164.11317499, 152.27093101,\n",
       "        236.86794758, 248.61721786, 193.44268179, 197.97029328]),\n",
       " 'std_fit_time': array([ 0.62632641,  0.66681435,  0.47643973,  0.44130969,  0.72555859,\n",
       "        12.72471449, 12.31967425, 14.23149979, 17.76721227, 17.63056785,\n",
       "        12.44513891,  1.89577197,  8.31369432, 16.71417197,  9.30418931,\n",
       "         2.26798842]),\n",
       " 'mean_score_time': array([0.19200667, 0.1943326 , 0.19500383, 0.19233147, 0.21832633,\n",
       "        0.26770425, 0.23200425, 0.24234343, 0.27033631, 0.25466291,\n",
       "        0.23966281, 0.23534139, 0.25633709, 0.25499527, 0.22766511,\n",
       "        0.23599792]),\n",
       " 'std_score_time': array([0.00489834, 0.00329913, 0.00293429, 0.00579326, 0.01388622,\n",
       "        0.0880107 , 0.02031939, 0.01810829, 0.01692974, 0.03493051,\n",
       "        0.00872895, 0.0103956 , 0.02071435, 0.01639093, 0.00419114,\n",
       "        0.01202712]),\n",
       " 'param_max_depth': masked_array(data=[10, 10, 10, 10, 50, 50, 50, 50, 100, 100, 100, 100,\n",
       "                    500, 500, 500, 500],\n",
       "              mask=[False, False, False, False, False, False, False, False,\n",
       "                    False, False, False, False, False, False, False, False],\n",
       "        fill_value='?',\n",
       "             dtype=object),\n",
       " 'param_min_samples_split': masked_array(data=[5, 10, 50, 100, 5, 10, 50, 100, 5, 10, 50, 100, 5, 10,\n",
       "                    50, 100],\n",
       "              mask=[False, False, False, False, False, False, False, False,\n",
       "                    False, False, False, False, False, False, False, False],\n",
       "        fill_value='?',\n",
       "             dtype=object),\n",
       " 'params': [{'max_depth': 10, 'min_samples_split': 5},\n",
       "  {'max_depth': 10, 'min_samples_split': 10},\n",
       "  {'max_depth': 10, 'min_samples_split': 50},\n",
       "  {'max_depth': 10, 'min_samples_split': 100},\n",
       "  {'max_depth': 50, 'min_samples_split': 5},\n",
       "  {'max_depth': 50, 'min_samples_split': 10},\n",
       "  {'max_depth': 50, 'min_samples_split': 50},\n",
       "  {'max_depth': 50, 'min_samples_split': 100},\n",
       "  {'max_depth': 100, 'min_samples_split': 5},\n",
       "  {'max_depth': 100, 'min_samples_split': 10},\n",
       "  {'max_depth': 100, 'min_samples_split': 50},\n",
       "  {'max_depth': 100, 'min_samples_split': 100},\n",
       "  {'max_depth': 500, 'min_samples_split': 5},\n",
       "  {'max_depth': 500, 'min_samples_split': 10},\n",
       "  {'max_depth': 500, 'min_samples_split': 50},\n",
       "  {'max_depth': 500, 'min_samples_split': 100}],\n",
       " 'split0_test_score': array([0.94165643, 0.94136189, 0.9414192 , 0.94143298, 0.93148462,\n",
       "        0.93126524, 0.93214012, 0.93184433, 0.92745466, 0.9267506 ,\n",
       "        0.92871239, 0.92917601, 0.92222571, 0.92328542, 0.92550594,\n",
       "        0.92597617]),\n",
       " 'split1_test_score': array([0.94045554, 0.94070031, 0.94079845, 0.94102671, 0.92853051,\n",
       "        0.92913311, 0.92924167, 0.930614  , 0.92539248, 0.92412498,\n",
       "        0.9246727 , 0.92644049, 0.92144374, 0.92      , 0.92197622,\n",
       "        0.92310293]),\n",
       " 'split2_test_score': array([0.93941847, 0.93959514, 0.93948087, 0.93962622, 0.9268666 ,\n",
       "        0.92568829, 0.92693681, 0.92823608, 0.9218897 , 0.92145081,\n",
       "        0.91976384, 0.92281709, 0.91842271, 0.91633312, 0.91725459,\n",
       "        0.9189294 ]),\n",
       " 'mean_test_score': array([0.94051016, 0.94055246, 0.94056618, 0.94069531, 0.92896061,\n",
       "        0.92869558, 0.92943957, 0.93023149, 0.92491232, 0.92410883,\n",
       "        0.92438304, 0.92614457, 0.92069741, 0.91987289, 0.92157897,\n",
       "        0.92266955]),\n",
       " 'std_test_score': array([0.00091446, 0.00072881, 0.00080819, 0.00077393, 0.00190968,\n",
       "        0.00229771, 0.00212886, 0.00149769, 0.00229713, 0.00216367,\n",
       "        0.00365898, 0.00260445, 0.00163981, 0.0028397 , 0.0033803 ,\n",
       "        0.00289311]),\n",
       " 'rank_test_score': array([ 4,  3,  2,  1,  7,  8,  6,  5, 10, 12, 11,  9, 15, 16, 14, 13]),\n",
       " 'split0_train_score': array([0.9498227 , 0.94957409, 0.94794806, 0.94621211, 0.9848256 ,\n",
       "        0.98110762, 0.96986242, 0.96526834, 0.99292479, 0.98773452,\n",
       "        0.97644322, 0.970347  , 0.99679027, 0.99174218, 0.98041748,\n",
       "        0.97478376]),\n",
       " 'split1_train_score': array([0.9486663 , 0.94828385, 0.94703588, 0.94604212, 0.98469424,\n",
       "        0.98087628, 0.9690427 , 0.96430071, 0.99191804, 0.98755267,\n",
       "        0.97440678, 0.969268  , 0.99714386, 0.99214363, 0.97839747,\n",
       "        0.97285073]),\n",
       " 'split2_train_score': array([0.94948256, 0.94912273, 0.94814352, 0.94648841, 0.98421097,\n",
       "        0.98102754, 0.97001116, 0.96407157, 0.99260548, 0.98826663,\n",
       "        0.9759595 , 0.96968597, 0.99720501, 0.99236307, 0.98003285,\n",
       "        0.97432715]),\n",
       " 'mean_train_score': array([0.94932385, 0.94899355, 0.94770916, 0.94624755, 0.98457694,\n",
       "        0.98100381, 0.96963876, 0.96454687, 0.99248277, 0.98785128,\n",
       "        0.97560317, 0.96976699, 0.99704638, 0.99208296, 0.97961593,\n",
       "        0.97398722]),\n",
       " 'std_train_score': array([4.85254149e-04, 5.34597936e-04, 4.82715086e-04, 1.83911117e-04,\n",
       "        2.64278390e-04, 9.59196336e-05, 4.25829367e-04, 5.18658146e-04,\n",
       "        4.20059384e-04, 3.02940480e-04, 8.68715421e-04, 4.44211841e-04,\n",
       "        1.82807821e-04, 2.57080018e-04, 8.75778768e-04, 8.24952311e-04])}"
      ]
     },
     "execution_count": 84,
     "metadata": {},
     "output_type": "execute_result"
    }
   ],
   "source": [
    "results_tfidf = joblib.load(\"results_tfidf.pkl\")\n",
    "results_tfidf"
   ]
  },
  {
   "cell_type": "code",
   "execution_count": 85,
   "metadata": {},
   "outputs": [
    {
     "name": "stdout",
     "output_type": "stream",
     "text": [
      "<class 'list'>\n",
      "<class 'pandas.core.frame.DataFrame'>\n"
     ]
    },
    {
     "data": {
      "text/html": [
       "<div>\n",
       "<style scoped>\n",
       "    .dataframe tbody tr th:only-of-type {\n",
       "        vertical-align: middle;\n",
       "    }\n",
       "\n",
       "    .dataframe tbody tr th {\n",
       "        vertical-align: top;\n",
       "    }\n",
       "\n",
       "    .dataframe thead th {\n",
       "        text-align: right;\n",
       "    }\n",
       "</style>\n",
       "<table border=\"1\" class=\"dataframe\">\n",
       "  <thead>\n",
       "    <tr style=\"text-align: right;\">\n",
       "      <th></th>\n",
       "      <th>X</th>\n",
       "      <th>Y</th>\n",
       "      <th>Z</th>\n",
       "    </tr>\n",
       "  </thead>\n",
       "  <tbody>\n",
       "    <tr>\n",
       "      <th>0</th>\n",
       "      <td>10</td>\n",
       "      <td>5</td>\n",
       "      <td>0.000229</td>\n",
       "    </tr>\n",
       "    <tr>\n",
       "      <th>1</th>\n",
       "      <td>10</td>\n",
       "      <td>10</td>\n",
       "      <td>0.000178</td>\n",
       "    </tr>\n",
       "    <tr>\n",
       "      <th>2</th>\n",
       "      <td>10</td>\n",
       "      <td>50</td>\n",
       "      <td>0.000349</td>\n",
       "    </tr>\n",
       "    <tr>\n",
       "      <th>3</th>\n",
       "      <td>10</td>\n",
       "      <td>100</td>\n",
       "      <td>0.000353</td>\n",
       "    </tr>\n",
       "    <tr>\n",
       "      <th>4</th>\n",
       "      <td>50</td>\n",
       "      <td>5</td>\n",
       "      <td>0.000083</td>\n",
       "    </tr>\n",
       "    <tr>\n",
       "      <th>5</th>\n",
       "      <td>50</td>\n",
       "      <td>10</td>\n",
       "      <td>0.000160</td>\n",
       "    </tr>\n",
       "    <tr>\n",
       "      <th>6</th>\n",
       "      <td>50</td>\n",
       "      <td>50</td>\n",
       "      <td>0.000984</td>\n",
       "    </tr>\n",
       "    <tr>\n",
       "      <th>7</th>\n",
       "      <td>50</td>\n",
       "      <td>100</td>\n",
       "      <td>0.001343</td>\n",
       "    </tr>\n",
       "    <tr>\n",
       "      <th>8</th>\n",
       "      <td>100</td>\n",
       "      <td>5</td>\n",
       "      <td>0.000395</td>\n",
       "    </tr>\n",
       "    <tr>\n",
       "      <th>9</th>\n",
       "      <td>100</td>\n",
       "      <td>10</td>\n",
       "      <td>0.000606</td>\n",
       "    </tr>\n",
       "    <tr>\n",
       "      <th>10</th>\n",
       "      <td>100</td>\n",
       "      <td>50</td>\n",
       "      <td>0.000481</td>\n",
       "    </tr>\n",
       "    <tr>\n",
       "      <th>11</th>\n",
       "      <td>100</td>\n",
       "      <td>100</td>\n",
       "      <td>0.000988</td>\n",
       "    </tr>\n",
       "    <tr>\n",
       "      <th>12</th>\n",
       "      <td>500</td>\n",
       "      <td>5</td>\n",
       "      <td>0.000204</td>\n",
       "    </tr>\n",
       "    <tr>\n",
       "      <th>13</th>\n",
       "      <td>500</td>\n",
       "      <td>10</td>\n",
       "      <td>0.000072</td>\n",
       "    </tr>\n",
       "    <tr>\n",
       "      <th>14</th>\n",
       "      <td>500</td>\n",
       "      <td>50</td>\n",
       "      <td>0.000901</td>\n",
       "    </tr>\n",
       "    <tr>\n",
       "      <th>15</th>\n",
       "      <td>500</td>\n",
       "      <td>100</td>\n",
       "      <td>0.001175</td>\n",
       "    </tr>\n",
       "  </tbody>\n",
       "</table>\n",
       "</div>"
      ],
      "text/plain": [
       "      X    Y         Z\n",
       "0    10    5  0.000229\n",
       "1    10   10  0.000178\n",
       "2    10   50  0.000349\n",
       "3    10  100  0.000353\n",
       "4    50    5  0.000083\n",
       "5    50   10  0.000160\n",
       "6    50   50  0.000984\n",
       "7    50  100  0.001343\n",
       "8   100    5  0.000395\n",
       "9   100   10  0.000606\n",
       "10  100   50  0.000481\n",
       "11  100  100  0.000988\n",
       "12  500    5  0.000204\n",
       "13  500   10  0.000072\n",
       "14  500   50  0.000901\n",
       "15  500  100  0.001175"
      ]
     },
     "execution_count": 85,
     "metadata": {},
     "output_type": "execute_result"
    }
   ],
   "source": [
    "X = [10,10,10,10, 50,50,50,50, 100,100,100,100, 500,500,500,500]\n",
    "Y = [5, 10, 50, 100,5, 10, 50, 100,5, 10, 50, 100,5, 10, 50, 100,]\n",
    "Z = results['std_train_score']\n",
    "print(type(X))\n",
    "X_df = pd.DataFrame(X)\n",
    "Y_df = pd.DataFrame(Y)\n",
    "Z_df = pd.DataFrame(Z)\n",
    "print(type(X_df))\n",
    "X_df.reindex(columns=[*X_df.columns.tolist(), 'Y'],fill_value=1)\n",
    "X_df['Y']=Y_df.values\n",
    "X_df.reindex(columns=[*X_df.columns.tolist(), 'Z'],fill_value=1)\n",
    "X_df['Z']=Z_df.values\n",
    "X_df.columns = ['X', 'Y', 'Z']\n",
    "X_df"
   ]
  },
  {
   "cell_type": "code",
   "execution_count": 86,
   "metadata": {},
   "outputs": [
    {
     "data": {
      "text/plain": [
       "Text(0.5, 1.0, 'Train Score')"
      ]
     },
     "execution_count": 86,
     "metadata": {},
     "output_type": "execute_result"
    },
    {
     "data": {
      "image/png": "[encoded data removed]",
      "text/plain": [
       "<Figure size 432x288 with 2 Axes>"
      ]
     },
     "metadata": {},
     "output_type": "display_data"
    }
   ],
   "source": [
    "plot_data = X_df.pivot(\"X\", \"Y\", \"Z\")\n",
    "ax = sns.heatmap(plot_data, annot=True, cmap=\"YlGnBu\")\n",
    "ax.set_title('Train Score')"
   ]
  },
  {
   "cell_type": "code",
   "execution_count": 87,
   "metadata": {},
   "outputs": [
    {
     "name": "stdout",
     "output_type": "stream",
     "text": [
      "<class 'list'>\n",
      "<class 'pandas.core.frame.DataFrame'>\n"
     ]
    },
    {
     "data": {
      "text/html": [
       "<div>\n",
       "<style scoped>\n",
       "    .dataframe tbody tr th:only-of-type {\n",
       "        vertical-align: middle;\n",
       "    }\n",
       "\n",
       "    .dataframe tbody tr th {\n",
       "        vertical-align: top;\n",
       "    }\n",
       "\n",
       "    .dataframe thead th {\n",
       "        text-align: right;\n",
       "    }\n",
       "</style>\n",
       "<table border=\"1\" class=\"dataframe\">\n",
       "  <thead>\n",
       "    <tr style=\"text-align: right;\">\n",
       "      <th></th>\n",
       "      <th>X</th>\n",
       "      <th>Y</th>\n",
       "      <th>Z</th>\n",
       "    </tr>\n",
       "  </thead>\n",
       "  <tbody>\n",
       "    <tr>\n",
       "      <th>0</th>\n",
       "      <td>10</td>\n",
       "      <td>5</td>\n",
       "      <td>0.001504</td>\n",
       "    </tr>\n",
       "    <tr>\n",
       "      <th>1</th>\n",
       "      <td>10</td>\n",
       "      <td>10</td>\n",
       "      <td>0.001468</td>\n",
       "    </tr>\n",
       "    <tr>\n",
       "      <th>2</th>\n",
       "      <td>10</td>\n",
       "      <td>50</td>\n",
       "      <td>0.001364</td>\n",
       "    </tr>\n",
       "    <tr>\n",
       "      <th>3</th>\n",
       "      <td>10</td>\n",
       "      <td>100</td>\n",
       "      <td>0.001299</td>\n",
       "    </tr>\n",
       "    <tr>\n",
       "      <th>4</th>\n",
       "      <td>50</td>\n",
       "      <td>5</td>\n",
       "      <td>0.001078</td>\n",
       "    </tr>\n",
       "    <tr>\n",
       "      <th>5</th>\n",
       "      <td>50</td>\n",
       "      <td>10</td>\n",
       "      <td>0.001597</td>\n",
       "    </tr>\n",
       "    <tr>\n",
       "      <th>6</th>\n",
       "      <td>50</td>\n",
       "      <td>50</td>\n",
       "      <td>0.001881</td>\n",
       "    </tr>\n",
       "    <tr>\n",
       "      <th>7</th>\n",
       "      <td>50</td>\n",
       "      <td>100</td>\n",
       "      <td>0.000995</td>\n",
       "    </tr>\n",
       "    <tr>\n",
       "      <th>8</th>\n",
       "      <td>100</td>\n",
       "      <td>5</td>\n",
       "      <td>0.001640</td>\n",
       "    </tr>\n",
       "    <tr>\n",
       "      <th>9</th>\n",
       "      <td>100</td>\n",
       "      <td>10</td>\n",
       "      <td>0.001469</td>\n",
       "    </tr>\n",
       "    <tr>\n",
       "      <th>10</th>\n",
       "      <td>100</td>\n",
       "      <td>50</td>\n",
       "      <td>0.002035</td>\n",
       "    </tr>\n",
       "    <tr>\n",
       "      <th>11</th>\n",
       "      <td>100</td>\n",
       "      <td>100</td>\n",
       "      <td>0.001026</td>\n",
       "    </tr>\n",
       "    <tr>\n",
       "      <th>12</th>\n",
       "      <td>500</td>\n",
       "      <td>5</td>\n",
       "      <td>0.000692</td>\n",
       "    </tr>\n",
       "    <tr>\n",
       "      <th>13</th>\n",
       "      <td>500</td>\n",
       "      <td>10</td>\n",
       "      <td>0.001521</td>\n",
       "    </tr>\n",
       "    <tr>\n",
       "      <th>14</th>\n",
       "      <td>500</td>\n",
       "      <td>50</td>\n",
       "      <td>0.001834</td>\n",
       "    </tr>\n",
       "    <tr>\n",
       "      <th>15</th>\n",
       "      <td>500</td>\n",
       "      <td>100</td>\n",
       "      <td>0.001253</td>\n",
       "    </tr>\n",
       "  </tbody>\n",
       "</table>\n",
       "</div>"
      ],
      "text/plain": [
       "      X    Y         Z\n",
       "0    10    5  0.001504\n",
       "1    10   10  0.001468\n",
       "2    10   50  0.001364\n",
       "3    10  100  0.001299\n",
       "4    50    5  0.001078\n",
       "5    50   10  0.001597\n",
       "6    50   50  0.001881\n",
       "7    50  100  0.000995\n",
       "8   100    5  0.001640\n",
       "9   100   10  0.001469\n",
       "10  100   50  0.002035\n",
       "11  100  100  0.001026\n",
       "12  500    5  0.000692\n",
       "13  500   10  0.001521\n",
       "14  500   50  0.001834\n",
       "15  500  100  0.001253"
      ]
     },
     "execution_count": 87,
     "metadata": {},
     "output_type": "execute_result"
    }
   ],
   "source": [
    "X = [10,10,10,10, 50,50,50,50, 100,100,100,100, 500,500,500,500]\n",
    "Y = [5, 10, 50, 100,5, 10, 50, 100,5, 10, 50, 100,5, 10, 50, 100,]\n",
    "Z = results['std_test_score']\n",
    "print(type(X))\n",
    "X_df = pd.DataFrame(X)\n",
    "Y_df = pd.DataFrame(Y)\n",
    "Z_df = pd.DataFrame(Z)\n",
    "print(type(X_df))\n",
    "X_df.reindex(columns=[*X_df.columns.tolist(), 'Y'],fill_value=1)\n",
    "X_df['Y']=Y_df.values\n",
    "X_df.reindex(columns=[*X_df.columns.tolist(), 'Z'],fill_value=1)\n",
    "X_df['Z']=Z_df.values\n",
    "X_df.columns = ['X', 'Y', 'Z']\n",
    "X_df"
   ]
  },
  {
   "cell_type": "code",
   "execution_count": 88,
   "metadata": {},
   "outputs": [
    {
     "data": {
      "text/plain": [
       "Text(0.5, 1.0, 'Test Score')"
      ]
     },
     "execution_count": 88,
     "metadata": {},
     "output_type": "execute_result"
    },
    {
     "data": {
      "image/png": "[encoded data removed]",
      "text/plain": [
       "<Figure size 432x288 with 2 Axes>"
      ]
     },
     "metadata": {},
     "output_type": "display_data"
    }
   ],
   "source": [
    "plot_data = X_df.pivot(\"X\", \"Y\", \"Z\")\n",
    "ax = sns.heatmap(plot_data, annot=True, cmap=\"YlGnBu\")\n",
    "ax.set_title('Test Score')"
   ]
  },
  {
   "cell_type": "markdown",
   "metadata": {},
   "source": [
    "## Decision Tree on TFIDF with Best Parameters"
   ]
  },
  {
   "cell_type": "code",
   "execution_count": 10,
   "metadata": {},
   "outputs": [
    {
     "data": {
      "text/plain": [
       "['roc_auc_tfidf_best.pkl']"
      ]
     },
     "execution_count": 10,
     "metadata": {},
     "output_type": "execute_result"
    }
   ],
   "source": [
    "clf_dtree_tfidf_best = tree.DecisionTreeClassifier(max_depth=10, min_samples_split=5)\n",
    "clf_dtree_tfidf_best.fit(train_tfidf, y_train)\n",
    "\n",
    "y_pred_test_tfidf = clf_dtree_tfidf_best.predict(test_tfidf)\n",
    "\n",
    "false_positive_rate, true_positive_rate, thresholds = roc_curve(y_test, y_pred_test_tfidf)\n",
    "roc_auc_tfidf_best = auc(false_positive_rate, true_positive_rate)\n",
    "\n",
    "joblib.dump(clf_dtree_tfidf_best,\"clf_dtree_tfidf_best.pkl\")\n",
    "joblib.dump(y_pred_test_tfidf,\"y_pred_test_tfidf.pkl\")\n",
    "joblib.dump(roc_auc_tfidf_best,\"roc_auc_tfidf_best.pkl\")"
   ]
  },
  {
   "cell_type": "code",
   "execution_count": 16,
   "metadata": {},
   "outputs": [
    {
     "data": {
      "text/plain": [
       "0.580360203408984"
      ]
     },
     "execution_count": 16,
     "metadata": {},
     "output_type": "execute_result"
    }
   ],
   "source": [
    "clf_dtree_tfidf_best = joblib.load(\"clf_dtree_tfidf_best.pkl\")\n",
    "y_pred_test_tfidf = joblib.load(\"y_pred_test_tfidf.pkl\")\n",
    "roc_auc_tfidf_best = joblib.load(\"roc_auc_tfidf_best.pkl\")\n",
    "roc_auc_tfidf_best"
   ]
  },
  {
   "cell_type": "code",
   "execution_count": 17,
   "metadata": {},
   "outputs": [
    {
     "data": {
      "text/plain": [
       "array([[  718,  3382],\n",
       "       [  373, 25527]], dtype=int64)"
      ]
     },
     "execution_count": 17,
     "metadata": {},
     "output_type": "execute_result"
    }
   ],
   "source": [
    "# Confusion Matrix on Test Data\n",
    "#y_pred = np.argmax(pred_test, axis=1)\n",
    "cm_tfidf = confusion_matrix(y_test, y_pred_test_tfidf)\n",
    "cm_tfidf"
   ]
  },
  {
   "cell_type": "code",
   "execution_count": 18,
   "metadata": {},
   "outputs": [
    {
     "data": {
      "image/png": "[encoded data removed]",
      "text/plain": [
       "<Figure size 432x288 with 2 Axes>"
      ]
     },
     "metadata": {},
     "output_type": "display_data"
    }
   ],
   "source": [
    "# plot confusion matrix to describe the performance of classifier.\n",
    "import seaborn as sns\n",
    "class_label = [\"negative\", \"positive\"]\n",
    "df_cm = pd.DataFrame(cm_tfidf, index = class_label, columns = class_label)\n",
    "sns.heatmap(df_cm, annot = True, fmt = \"d\")\n",
    "plt.title(\"Confusiion Matrix\")\n",
    "plt.xlabel(\"Predicted Label\")\n",
    "plt.ylabel(\"True Label\")\n",
    "plt.show()"
   ]
  },
  {
   "cell_type": "code",
   "execution_count": 20,
   "metadata": {},
   "outputs": [],
   "source": [
    "y_pred_train_proba_tfidf = clf_dtree_tfidf_best.predict_proba(train_tfidf)\n",
    "y_pred_test_proba_tfidf = clf_dtree_tfidf_best.predict_proba(test_tfidf)"
   ]
  },
  {
   "cell_type": "code",
   "execution_count": 21,
   "metadata": {},
   "outputs": [
    {
     "name": "stderr",
     "output_type": "stream",
     "text": [
      "C:\\Users\\AbhiShek\\Anaconda3\\lib\\site-packages\\sklearn\\utils\\deprecation.py:77: DeprecationWarning: Function plot_roc_curve is deprecated; This will be removed in v0.5.0. Please use scikitplot.metrics.plot_roc instead.\n",
      "  warnings.warn(msg, category=DeprecationWarning)\n"
     ]
    },
    {
     "data": {
      "text/plain": [
       "<matplotlib.axes._subplots.AxesSubplot at 0x238cff96f60>"
      ]
     },
     "execution_count": 21,
     "metadata": {},
     "output_type": "execute_result"
    },
    {
     "data": {
      "image/png": "[encoded data removed]",
      "text/plain": [
       "<Figure size 432x288 with 1 Axes>"
      ]
     },
     "metadata": {},
     "output_type": "display_data"
    }
   ],
   "source": [
    "#Plotting ROC curve over Train Data\n",
    "skplt.metrics.plot_roc_curve(y_train,y_pred_train_proba_tfidf)"
   ]
  },
  {
   "cell_type": "code",
   "execution_count": 22,
   "metadata": {},
   "outputs": [
    {
     "name": "stderr",
     "output_type": "stream",
     "text": [
      "C:\\Users\\AbhiShek\\Anaconda3\\lib\\site-packages\\sklearn\\utils\\deprecation.py:77: DeprecationWarning: Function plot_roc_curve is deprecated; This will be removed in v0.5.0. Please use scikitplot.metrics.plot_roc instead.\n",
      "  warnings.warn(msg, category=DeprecationWarning)\n"
     ]
    },
    {
     "data": {
      "text/plain": [
       "<matplotlib.axes._subplots.AxesSubplot at 0x238cffdca90>"
      ]
     },
     "execution_count": 22,
     "metadata": {},
     "output_type": "execute_result"
    },
    {
     "data": {
      "image/png": "[encoded data removed]",
      "text/plain": [
       "<Figure size 432x288 with 1 Axes>"
      ]
     },
     "metadata": {},
     "output_type": "display_data"
    }
   ],
   "source": [
    "#Plotting ROC curve over Test Data\n",
    "skplt.metrics.plot_roc_curve(y_test,y_pred_test_proba_tfidf)"
   ]
  },
  {
   "cell_type": "code",
   "execution_count": 24,
   "metadata": {},
   "outputs": [
    {
     "name": "stdout",
     "output_type": "stream",
     "text": [
      "Top 20 important features:\n",
      " \n",
      "0.14057903019407447 -->  not\n",
      "0.06801588980901073 -->  was\n",
      "0.06736153811238069 -->  great\n",
      "0.06716416874074672 -->  worst\n",
      "0.05425180173271436 -->  disappointed\n",
      "0.04404892349196213 -->  awful\n",
      "0.0394325782602613 -->  terrible\n",
      "0.03430715220625825 -->  money\n",
      "0.02895438236575219 -->  best\n",
      "0.0288257685212685 -->  horrible\n",
      "0.027650118010705358 -->  waste\n",
      "0.025572538557227752 -->  delicious\n",
      "0.022483611636000985 -->  bad\n",
      "0.021530291947656512 -->  disappointment\n",
      "0.018453866245291606 -->  disappointing\n",
      "0.016281934544395527 -->  did\n",
      "0.016266072762773025 -->  you\n",
      "0.013295538243558292 -->  find\n",
      "0.011720581691207339 -->  love\n",
      "0.01111688871246896 -->  would\n"
     ]
    }
   ],
   "source": [
    "def most_informative_feature_for_binary_classification(vectorizer, classifier, n=20):\n",
    "    class_labels = classifier.classes_\n",
    "    feature_names = vectorizer.get_feature_names()\n",
    "    topn_class1 = sorted(zip(classifier.feature_importances_, feature_names))[:n]\n",
    "    topn_class2 = sorted(zip(classifier.feature_importances_, feature_names))[-n:]\n",
    "    #print(dict(zip(iris_pd.columns, clf.feature_importances_)))\n",
    "    \n",
    "    print(\"Top 20 important features:\\n \")\n",
    "    for coef, feat in reversed(topn_class2):\n",
    "        print (coef,\"--> \", feat)\n",
    "\n",
    "\n",
    "most_informative_feature_for_binary_classification(tf_idf_vect, clf_dtree_tfidf_best)"
   ]
  },
  {
   "cell_type": "code",
   "execution_count": 70,
   "metadata": {},
   "outputs": [
    {
     "data": {
      "image/svg+xml": [
       "<?xml version=\"1.0\" encoding=\"UTF-8\" standalone=\"no\"?>\r\n",
       "<!DOCTYPE svg PUBLIC \"-//W3C//DTD SVG 1.1//EN\"\r\n",
       " \"http://www.w3.org/Graphics/SVG/1.1/DTD/svg11.dtd\">\r\n",
       "<!-- Generated by graphviz version 2.38.0 (20140413.2041)\r\n",
       " -->\r\n",
       "<!-- Title: Tree Pages: 1 -->\r\n",
       "<svg width=\"1235pt\" height=\"460pt\"\r\n",
       " viewBox=\"0.00 0.00 1235.00 460.00\" xmlns=\"http://www.w3.org/2000/svg\" xmlns:xlink=\"http://www.w3.org/1999/xlink\">\r\n",
       "<g id=\"graph0\" class=\"graph\" transform=\"scale(1 1) rotate(0) translate(4 456)\">\r\n",
       "<title>Tree</title>\r\n",
       "<polygon fill=\"white\" stroke=\"none\" points=\"-4,4 -4,-456 1231,-456 1231,4 -4,4\"/>\r\n",
       "<!-- 0 -->\r\n",
       "<g id=\"node1\" class=\"node\"><title>0</title>\r\n",
       "<path fill=\"#399de5\" fill-opacity=\"0.866667\" stroke=\"black\" d=\"M639.5,-452C639.5,-452 508.5,-452 508.5,-452 502.5,-452 496.5,-446 496.5,-440 496.5,-440 496.5,-396 496.5,-396 496.5,-390 502.5,-384 508.5,-384 508.5,-384 639.5,-384 639.5,-384 645.5,-384 651.5,-390 651.5,-396 651.5,-396 651.5,-440 651.5,-440 651.5,-446 645.5,-452 639.5,-452\"/>\r\n",
       "<text text-anchor=\"start\" x=\"538\" y=\"-436.8\" font-family=\"Helvetica,sans-Serif\" font-size=\"14.00\">not ≤ 0.646</text>\r\n",
       "<text text-anchor=\"start\" x=\"536.5\" y=\"-421.8\" font-family=\"Helvetica,sans-Serif\" font-size=\"14.00\">gini = 0.206</text>\r\n",
       "<text text-anchor=\"start\" x=\"518\" y=\"-406.8\" font-family=\"Helvetica,sans-Serif\" font-size=\"14.00\">samples = 70000</text>\r\n",
       "<text text-anchor=\"start\" x=\"504.5\" y=\"-391.8\" font-family=\"Helvetica,sans-Serif\" font-size=\"14.00\">value = [8170, 61830]</text>\r\n",
       "</g>\r\n",
       "<!-- 1 -->\r\n",
       "<g id=\"node2\" class=\"node\"><title>1</title>\r\n",
       "<path fill=\"#399de5\" fill-opacity=\"0.909804\" stroke=\"black\" d=\"M528.5,-348C528.5,-348 397.5,-348 397.5,-348 391.5,-348 385.5,-342 385.5,-336 385.5,-336 385.5,-292 385.5,-292 385.5,-286 391.5,-280 397.5,-280 397.5,-280 528.5,-280 528.5,-280 534.5,-280 540.5,-286 540.5,-292 540.5,-292 540.5,-336 540.5,-336 540.5,-342 534.5,-348 528.5,-348\"/>\r\n",
       "<text text-anchor=\"start\" x=\"420\" y=\"-332.8\" font-family=\"Helvetica,sans-Serif\" font-size=\"14.00\">worst ≤ 6.294</text>\r\n",
       "<text text-anchor=\"start\" x=\"429.5\" y=\"-317.8\" font-family=\"Helvetica,sans-Serif\" font-size=\"14.00\">gini = 0.15</text>\r\n",
       "<text text-anchor=\"start\" x=\"407\" y=\"-302.8\" font-family=\"Helvetica,sans-Serif\" font-size=\"14.00\">samples = 48145</text>\r\n",
       "<text text-anchor=\"start\" x=\"393.5\" y=\"-287.8\" font-family=\"Helvetica,sans-Serif\" font-size=\"14.00\">value = [3924, 44221]</text>\r\n",
       "</g>\r\n",
       "<!-- 0&#45;&gt;1 -->\r\n",
       "<g id=\"edge1\" class=\"edge\"><title>0&#45;&gt;1</title>\r\n",
       "<path fill=\"none\" stroke=\"black\" d=\"M537.961,-383.884C527.977,-374.709 517.031,-364.65 506.663,-355.123\"/>\r\n",
       "<polygon fill=\"black\" stroke=\"black\" points=\"508.969,-352.488 499.238,-348.299 504.233,-357.643 508.969,-352.488\"/>\r\n",
       "<text text-anchor=\"middle\" x=\"500.293\" y=\"-369.577\" font-family=\"Helvetica,sans-Serif\" font-size=\"14.00\">True</text>\r\n",
       "</g>\r\n",
       "<!-- 174 -->\r\n",
       "<g id=\"node17\" class=\"node\"><title>174</title>\r\n",
       "<path fill=\"#399de5\" fill-opacity=\"0.760784\" stroke=\"black\" d=\"M750.5,-348C750.5,-348 619.5,-348 619.5,-348 613.5,-348 607.5,-342 607.5,-336 607.5,-336 607.5,-292 607.5,-292 607.5,-286 613.5,-280 619.5,-280 619.5,-280 750.5,-280 750.5,-280 756.5,-280 762.5,-286 762.5,-292 762.5,-292 762.5,-336 762.5,-336 762.5,-342 756.5,-348 750.5,-348\"/>\r\n",
       "<text text-anchor=\"start\" x=\"642.5\" y=\"-332.8\" font-family=\"Helvetica,sans-Serif\" font-size=\"14.00\">great ≤ 0.274</text>\r\n",
       "<text text-anchor=\"start\" x=\"647.5\" y=\"-317.8\" font-family=\"Helvetica,sans-Serif\" font-size=\"14.00\">gini = 0.313</text>\r\n",
       "<text text-anchor=\"start\" x=\"629\" y=\"-302.8\" font-family=\"Helvetica,sans-Serif\" font-size=\"14.00\">samples = 21855</text>\r\n",
       "<text text-anchor=\"start\" x=\"615.5\" y=\"-287.8\" font-family=\"Helvetica,sans-Serif\" font-size=\"14.00\">value = [4246, 17609]</text>\r\n",
       "</g>\r\n",
       "<!-- 0&#45;&gt;174 -->\r\n",
       "<g id=\"edge16\" class=\"edge\"><title>0&#45;&gt;174</title>\r\n",
       "<path fill=\"none\" stroke=\"black\" d=\"M610.039,-383.884C620.023,-374.709 630.969,-364.65 641.337,-355.123\"/>\r\n",
       "<polygon fill=\"black\" stroke=\"black\" points=\"643.767,-357.643 648.762,-348.299 639.031,-352.488 643.767,-357.643\"/>\r\n",
       "<text text-anchor=\"middle\" x=\"647.707\" y=\"-369.577\" font-family=\"Helvetica,sans-Serif\" font-size=\"14.00\">False</text>\r\n",
       "</g>\r\n",
       "<!-- 2 -->\r\n",
       "<g id=\"node3\" class=\"node\"><title>2</title>\r\n",
       "<path fill=\"#399de5\" fill-opacity=\"0.913725\" stroke=\"black\" d=\"M322.5,-244C322.5,-244 191.5,-244 191.5,-244 185.5,-244 179.5,-238 179.5,-232 179.5,-232 179.5,-188 179.5,-188 179.5,-182 185.5,-176 191.5,-176 191.5,-176 322.5,-176 322.5,-176 328.5,-176 334.5,-182 334.5,-188 334.5,-188 334.5,-232 334.5,-232 334.5,-238 328.5,-244 322.5,-244\"/>\r\n",
       "<text text-anchor=\"start\" x=\"190\" y=\"-228.8\" font-family=\"Helvetica,sans-Serif\" font-size=\"14.00\">disappointed ≤ 2.239</text>\r\n",
       "<text text-anchor=\"start\" x=\"219.5\" y=\"-213.8\" font-family=\"Helvetica,sans-Serif\" font-size=\"14.00\">gini = 0.146</text>\r\n",
       "<text text-anchor=\"start\" x=\"201\" y=\"-198.8\" font-family=\"Helvetica,sans-Serif\" font-size=\"14.00\">samples = 48008</text>\r\n",
       "<text text-anchor=\"start\" x=\"187.5\" y=\"-183.8\" font-family=\"Helvetica,sans-Serif\" font-size=\"14.00\">value = [3807, 44201]</text>\r\n",
       "</g>\r\n",
       "<!-- 1&#45;&gt;2 -->\r\n",
       "<g id=\"edge2\" class=\"edge\"><title>1&#45;&gt;2</title>\r\n",
       "<path fill=\"none\" stroke=\"black\" d=\"M396.118,-279.884C375.957,-269.901 353.683,-258.872 332.977,-248.619\"/>\r\n",
       "<polygon fill=\"black\" stroke=\"black\" points=\"334.414,-245.426 323.899,-244.125 331.308,-251.699 334.414,-245.426\"/>\r\n",
       "</g>\r\n",
       "<!-- 153 -->\r\n",
       "<g id=\"node10\" class=\"node\"><title>153</title>\r\n",
       "<path fill=\"#e58139\" fill-opacity=\"0.827451\" stroke=\"black\" d=\"M512,-244C512,-244 414,-244 414,-244 408,-244 402,-238 402,-232 402,-232 402,-188 402,-188 402,-182 408,-176 414,-176 414,-176 512,-176 512,-176 518,-176 524,-182 524,-188 524,-188 524,-232 524,-232 524,-238 518,-244 512,-244\"/>\r\n",
       "<text text-anchor=\"start\" x=\"428\" y=\"-228.8\" font-family=\"Helvetica,sans-Serif\" font-size=\"14.00\">off ≤ 0.696</text>\r\n",
       "<text text-anchor=\"start\" x=\"425.5\" y=\"-213.8\" font-family=\"Helvetica,sans-Serif\" font-size=\"14.00\">gini = 0.249</text>\r\n",
       "<text text-anchor=\"start\" x=\"415.5\" y=\"-198.8\" font-family=\"Helvetica,sans-Serif\" font-size=\"14.00\">samples = 137</text>\r\n",
       "<text text-anchor=\"start\" x=\"410\" y=\"-183.8\" font-family=\"Helvetica,sans-Serif\" font-size=\"14.00\">value = [117, 20]</text>\r\n",
       "</g>\r\n",
       "<!-- 1&#45;&gt;153 -->\r\n",
       "<g id=\"edge9\" class=\"edge\"><title>1&#45;&gt;153</title>\r\n",
       "<path fill=\"none\" stroke=\"black\" d=\"M463,-279.884C463,-271.778 463,-262.982 463,-254.472\"/>\r\n",
       "<polygon fill=\"black\" stroke=\"black\" points=\"466.5,-254.299 463,-244.299 459.5,-254.299 466.5,-254.299\"/>\r\n",
       "</g>\r\n",
       "<!-- 3 -->\r\n",
       "<g id=\"node4\" class=\"node\"><title>3</title>\r\n",
       "<path fill=\"#399de5\" fill-opacity=\"0.917647\" stroke=\"black\" d=\"M161.5,-140C161.5,-140 30.5,-140 30.5,-140 24.5,-140 18.5,-134 18.5,-128 18.5,-128 18.5,-84 18.5,-84 18.5,-78 24.5,-72 30.5,-72 30.5,-72 161.5,-72 161.5,-72 167.5,-72 173.5,-78 173.5,-84 173.5,-84 173.5,-128 173.5,-128 173.5,-134 167.5,-140 161.5,-140\"/>\r\n",
       "<text text-anchor=\"start\" x=\"48\" y=\"-124.8\" font-family=\"Helvetica,sans-Serif\" font-size=\"14.00\">terrible ≤ 4.825</text>\r\n",
       "<text text-anchor=\"start\" x=\"58.5\" y=\"-109.8\" font-family=\"Helvetica,sans-Serif\" font-size=\"14.00\">gini = 0.138</text>\r\n",
       "<text text-anchor=\"start\" x=\"40\" y=\"-94.8\" font-family=\"Helvetica,sans-Serif\" font-size=\"14.00\">samples = 47333</text>\r\n",
       "<text text-anchor=\"start\" x=\"26.5\" y=\"-79.8\" font-family=\"Helvetica,sans-Serif\" font-size=\"14.00\">value = [3543, 43790]</text>\r\n",
       "</g>\r\n",
       "<!-- 2&#45;&gt;3 -->\r\n",
       "<g id=\"edge3\" class=\"edge\"><title>2&#45;&gt;3</title>\r\n",
       "<path fill=\"none\" stroke=\"black\" d=\"M204.728,-175.884C189.466,-166.214 172.654,-155.563 156.907,-145.587\"/>\r\n",
       "<polygon fill=\"black\" stroke=\"black\" points=\"158.606,-142.52 148.285,-140.125 154.859,-148.433 158.606,-142.52\"/>\r\n",
       "</g>\r\n",
       "<!-- 88 -->\r\n",
       "<g id=\"node7\" class=\"node\"><title>88</title>\r\n",
       "<path fill=\"#399de5\" fill-opacity=\"0.356863\" stroke=\"black\" d=\"M310,-140C310,-140 204,-140 204,-140 198,-140 192,-134 192,-128 192,-128 192,-84 192,-84 192,-78 198,-72 204,-72 204,-72 310,-72 310,-72 316,-72 322,-78 322,-84 322,-84 322,-128 322,-128 322,-134 316,-140 310,-140\"/>\r\n",
       "<text text-anchor=\"start\" x=\"219.5\" y=\"-124.8\" font-family=\"Helvetica,sans-Serif\" font-size=\"14.00\">you ≤ 0.775</text>\r\n",
       "<text text-anchor=\"start\" x=\"219.5\" y=\"-109.8\" font-family=\"Helvetica,sans-Serif\" font-size=\"14.00\">gini = 0.476</text>\r\n",
       "<text text-anchor=\"start\" x=\"209.5\" y=\"-94.8\" font-family=\"Helvetica,sans-Serif\" font-size=\"14.00\">samples = 675</text>\r\n",
       "<text text-anchor=\"start\" x=\"200\" y=\"-79.8\" font-family=\"Helvetica,sans-Serif\" font-size=\"14.00\">value = [264, 411]</text>\r\n",
       "</g>\r\n",
       "<!-- 2&#45;&gt;88 -->\r\n",
       "<g id=\"edge6\" class=\"edge\"><title>2&#45;&gt;88</title>\r\n",
       "<path fill=\"none\" stroke=\"black\" d=\"M257,-175.884C257,-167.778 257,-158.982 257,-150.472\"/>\r\n",
       "<polygon fill=\"black\" stroke=\"black\" points=\"260.5,-150.299 257,-140.299 253.5,-150.299 260.5,-150.299\"/>\r\n",
       "</g>\r\n",
       "<!-- 4 -->\r\n",
       "<g id=\"node5\" class=\"node\"><title>4</title>\r\n",
       "<path fill=\"#c0c0c0\" stroke=\"black\" d=\"M42,-36C42,-36 12,-36 12,-36 6,-36 0,-30 0,-24 0,-24 0,-12 0,-12 0,-6 6,-0 12,-0 12,-0 42,-0 42,-0 48,-0 54,-6 54,-12 54,-12 54,-24 54,-24 54,-30 48,-36 42,-36\"/>\r\n",
       "<text text-anchor=\"middle\" x=\"27\" y=\"-14.3\" font-family=\"Helvetica,sans-Serif\" font-size=\"14.00\">(...)</text>\r\n",
       "</g>\r\n",
       "<!-- 3&#45;&gt;4 -->\r\n",
       "<g id=\"edge4\" class=\"edge\"><title>3&#45;&gt;4</title>\r\n",
       "<path fill=\"none\" stroke=\"black\" d=\"M69.5201,-71.9961C62.1472,-62.8067 54.257,-52.9725 47.3,-44.3014\"/>\r\n",
       "<polygon fill=\"black\" stroke=\"black\" points=\"49.9512,-42.0129 40.9632,-36.4034 44.4913,-46.3936 49.9512,-42.0129\"/>\r\n",
       "</g>\r\n",
       "<!-- 67 -->\r\n",
       "<g id=\"node6\" class=\"node\"><title>67</title>\r\n",
       "<path fill=\"#c0c0c0\" stroke=\"black\" d=\"M114,-36C114,-36 84,-36 84,-36 78,-36 72,-30 72,-24 72,-24 72,-12 72,-12 72,-6 78,-0 84,-0 84,-0 114,-0 114,-0 120,-0 126,-6 126,-12 126,-12 126,-24 126,-24 126,-30 120,-36 114,-36\"/>\r\n",
       "<text text-anchor=\"middle\" x=\"99\" y=\"-14.3\" font-family=\"Helvetica,sans-Serif\" font-size=\"14.00\">(...)</text>\r\n",
       "</g>\r\n",
       "<!-- 3&#45;&gt;67 -->\r\n",
       "<g id=\"edge5\" class=\"edge\"><title>3&#45;&gt;67</title>\r\n",
       "<path fill=\"none\" stroke=\"black\" d=\"M97.1513,-71.9961C97.4454,-63.5646 97.7585,-54.5902 98.0418,-46.4696\"/>\r\n",
       "<polygon fill=\"black\" stroke=\"black\" points=\"101.542,-46.5194 98.3929,-36.4034 94.5463,-46.2753 101.542,-46.5194\"/>\r\n",
       "</g>\r\n",
       "<!-- 89 -->\r\n",
       "<g id=\"node8\" class=\"node\"><title>89</title>\r\n",
       "<path fill=\"#c0c0c0\" stroke=\"black\" d=\"M220,-36C220,-36 190,-36 190,-36 184,-36 178,-30 178,-24 178,-24 178,-12 178,-12 178,-6 184,-0 190,-0 190,-0 220,-0 220,-0 226,-0 232,-6 232,-12 232,-12 232,-24 232,-24 232,-30 226,-36 220,-36\"/>\r\n",
       "<text text-anchor=\"middle\" x=\"205\" y=\"-14.3\" font-family=\"Helvetica,sans-Serif\" font-size=\"14.00\">(...)</text>\r\n",
       "</g>\r\n",
       "<!-- 88&#45;&gt;89 -->\r\n",
       "<g id=\"edge7\" class=\"edge\"><title>88&#45;&gt;89</title>\r\n",
       "<path fill=\"none\" stroke=\"black\" d=\"M237.044,-71.9961C231.66,-63.0909 225.909,-53.5802 220.787,-45.1093\"/>\r\n",
       "<polygon fill=\"black\" stroke=\"black\" points=\"223.692,-43.1497 215.523,-36.4034 217.702,-46.7717 223.692,-43.1497\"/>\r\n",
       "</g>\r\n",
       "<!-- 124 -->\r\n",
       "<g id=\"node9\" class=\"node\"><title>124</title>\r\n",
       "<path fill=\"#c0c0c0\" stroke=\"black\" d=\"M292,-36C292,-36 262,-36 262,-36 256,-36 250,-30 250,-24 250,-24 250,-12 250,-12 250,-6 256,-0 262,-0 262,-0 292,-0 292,-0 298,-0 304,-6 304,-12 304,-12 304,-24 304,-24 304,-30 298,-36 292,-36\"/>\r\n",
       "<text text-anchor=\"middle\" x=\"277\" y=\"-14.3\" font-family=\"Helvetica,sans-Serif\" font-size=\"14.00\">(...)</text>\r\n",
       "</g>\r\n",
       "<!-- 88&#45;&gt;124 -->\r\n",
       "<g id=\"edge8\" class=\"edge\"><title>88&#45;&gt;124</title>\r\n",
       "<path fill=\"none\" stroke=\"black\" d=\"M264.675,-71.9961C266.658,-63.4699 268.77,-54.3885 270.675,-46.1962\"/>\r\n",
       "<polygon fill=\"black\" stroke=\"black\" points=\"274.097,-46.9363 272.953,-36.4034 267.278,-45.3506 274.097,-46.9363\"/>\r\n",
       "</g>\r\n",
       "<!-- 154 -->\r\n",
       "<g id=\"node11\" class=\"node\"><title>154</title>\r\n",
       "<path fill=\"#e58139\" fill-opacity=\"0.878431\" stroke=\"black\" d=\"M450,-140C450,-140 352,-140 352,-140 346,-140 340,-134 340,-128 340,-128 340,-84 340,-84 340,-78 346,-72 352,-72 352,-72 450,-72 450,-72 456,-72 462,-78 462,-84 462,-84 462,-128 462,-128 462,-134 456,-140 450,-140\"/>\r\n",
       "<text text-anchor=\"start\" x=\"361\" y=\"-124.8\" font-family=\"Helvetica,sans-Serif\" font-size=\"14.00\">treat ≤ 1.294</text>\r\n",
       "<text text-anchor=\"start\" x=\"363.5\" y=\"-109.8\" font-family=\"Helvetica,sans-Serif\" font-size=\"14.00\">gini = 0.193</text>\r\n",
       "<text text-anchor=\"start\" x=\"353.5\" y=\"-94.8\" font-family=\"Helvetica,sans-Serif\" font-size=\"14.00\">samples = 129</text>\r\n",
       "<text text-anchor=\"start\" x=\"348\" y=\"-79.8\" font-family=\"Helvetica,sans-Serif\" font-size=\"14.00\">value = [115, 14]</text>\r\n",
       "</g>\r\n",
       "<!-- 153&#45;&gt;154 -->\r\n",
       "<g id=\"edge10\" class=\"edge\"><title>153&#45;&gt;154</title>\r\n",
       "<path fill=\"none\" stroke=\"black\" d=\"M442.87,-175.884C437.673,-167.332 432.008,-158.013 426.573,-149.072\"/>\r\n",
       "<polygon fill=\"black\" stroke=\"black\" points=\"429.426,-147.027 421.241,-140.299 423.444,-150.663 429.426,-147.027\"/>\r\n",
       "</g>\r\n",
       "<!-- 171 -->\r\n",
       "<g id=\"node14\" class=\"node\"><title>171</title>\r\n",
       "<path fill=\"#399de5\" fill-opacity=\"0.666667\" stroke=\"black\" d=\"M565.5,-140C565.5,-140 492.5,-140 492.5,-140 486.5,-140 480.5,-134 480.5,-128 480.5,-128 480.5,-84 480.5,-84 480.5,-78 486.5,-72 492.5,-72 492.5,-72 565.5,-72 565.5,-72 571.5,-72 577.5,-78 577.5,-84 577.5,-84 577.5,-128 577.5,-128 577.5,-134 571.5,-140 565.5,-140\"/>\r\n",
       "<text text-anchor=\"start\" x=\"491.5\" y=\"-124.8\" font-family=\"Helvetica,sans-Serif\" font-size=\"14.00\">you ≤ 1.133</text>\r\n",
       "<text text-anchor=\"start\" x=\"491.5\" y=\"-109.8\" font-family=\"Helvetica,sans-Serif\" font-size=\"14.00\">gini = 0.375</text>\r\n",
       "<text text-anchor=\"start\" x=\"489.5\" y=\"-94.8\" font-family=\"Helvetica,sans-Serif\" font-size=\"14.00\">samples = 8</text>\r\n",
       "<text text-anchor=\"start\" x=\"488.5\" y=\"-79.8\" font-family=\"Helvetica,sans-Serif\" font-size=\"14.00\">value = [2, 6]</text>\r\n",
       "</g>\r\n",
       "<!-- 153&#45;&gt;171 -->\r\n",
       "<g id=\"edge13\" class=\"edge\"><title>153&#45;&gt;171</title>\r\n",
       "<path fill=\"none\" stroke=\"black\" d=\"M484.428,-175.884C490.019,-167.243 496.117,-157.819 501.958,-148.793\"/>\r\n",
       "<polygon fill=\"black\" stroke=\"black\" points=\"504.959,-150.596 507.453,-140.299 499.082,-146.794 504.959,-150.596\"/>\r\n",
       "</g>\r\n",
       "<!-- 155 -->\r\n",
       "<g id=\"node12\" class=\"node\"><title>155</title>\r\n",
       "<path fill=\"#c0c0c0\" stroke=\"black\" d=\"M381,-36C381,-36 351,-36 351,-36 345,-36 339,-30 339,-24 339,-24 339,-12 339,-12 339,-6 345,-0 351,-0 351,-0 381,-0 381,-0 387,-0 393,-6 393,-12 393,-12 393,-24 393,-24 393,-30 387,-36 381,-36\"/>\r\n",
       "<text text-anchor=\"middle\" x=\"366\" y=\"-14.3\" font-family=\"Helvetica,sans-Serif\" font-size=\"14.00\">(...)</text>\r\n",
       "</g>\r\n",
       "<!-- 154&#45;&gt;155 -->\r\n",
       "<g id=\"edge11\" class=\"edge\"><title>154&#45;&gt;155</title>\r\n",
       "<path fill=\"none\" stroke=\"black\" d=\"M387.568,-71.9961C384.06,-63.3751 380.32,-54.1866 376.957,-45.9234\"/>\r\n",
       "<polygon fill=\"black\" stroke=\"black\" points=\"380.094,-44.3463 373.083,-36.4034 373.611,-46.9851 380.094,-44.3463\"/>\r\n",
       "</g>\r\n",
       "<!-- 170 -->\r\n",
       "<g id=\"node13\" class=\"node\"><title>170</title>\r\n",
       "<path fill=\"#c0c0c0\" stroke=\"black\" d=\"M453,-36C453,-36 423,-36 423,-36 417,-36 411,-30 411,-24 411,-24 411,-12 411,-12 411,-6 417,-0 423,-0 423,-0 453,-0 453,-0 459,-0 465,-6 465,-12 465,-12 465,-24 465,-24 465,-30 459,-36 453,-36\"/>\r\n",
       "<text text-anchor=\"middle\" x=\"438\" y=\"-14.3\" font-family=\"Helvetica,sans-Serif\" font-size=\"14.00\">(...)</text>\r\n",
       "</g>\r\n",
       "<!-- 154&#45;&gt;170 -->\r\n",
       "<g id=\"edge12\" class=\"edge\"><title>154&#45;&gt;170</title>\r\n",
       "<path fill=\"none\" stroke=\"black\" d=\"M415.199,-71.9961C418.949,-63.2804 422.948,-53.9846 426.534,-45.6514\"/>\r\n",
       "<polygon fill=\"black\" stroke=\"black\" points=\"429.775,-46.9726 430.512,-36.4034 423.345,-44.2061 429.775,-46.9726\"/>\r\n",
       "</g>\r\n",
       "<!-- 172 -->\r\n",
       "<g id=\"node15\" class=\"node\"><title>172</title>\r\n",
       "<path fill=\"#c0c0c0\" stroke=\"black\" d=\"M534,-36C534,-36 504,-36 504,-36 498,-36 492,-30 492,-24 492,-24 492,-12 492,-12 492,-6 498,-0 504,-0 504,-0 534,-0 534,-0 540,-0 546,-6 546,-12 546,-12 546,-24 546,-24 546,-30 540,-36 534,-36\"/>\r\n",
       "<text text-anchor=\"middle\" x=\"519\" y=\"-14.3\" font-family=\"Helvetica,sans-Serif\" font-size=\"14.00\">(...)</text>\r\n",
       "</g>\r\n",
       "<!-- 171&#45;&gt;172 -->\r\n",
       "<g id=\"edge14\" class=\"edge\"><title>171&#45;&gt;172</title>\r\n",
       "<path fill=\"none\" stroke=\"black\" d=\"M525.162,-71.9961C524.182,-63.5646 523.138,-54.5902 522.194,-46.4696\"/>\r\n",
       "<polygon fill=\"black\" stroke=\"black\" points=\"525.655,-45.9322 521.024,-36.4034 518.702,-46.7407 525.655,-45.9322\"/>\r\n",
       "</g>\r\n",
       "<!-- 173 -->\r\n",
       "<g id=\"node16\" class=\"node\"><title>173</title>\r\n",
       "<path fill=\"#c0c0c0\" stroke=\"black\" d=\"M606,-36C606,-36 576,-36 576,-36 570,-36 564,-30 564,-24 564,-24 564,-12 564,-12 564,-6 570,-0 576,-0 576,-0 606,-0 606,-0 612,-0 618,-6 618,-12 618,-12 618,-24 618,-24 618,-30 612,-36 606,-36\"/>\r\n",
       "<text text-anchor=\"middle\" x=\"591\" y=\"-14.3\" font-family=\"Helvetica,sans-Serif\" font-size=\"14.00\">(...)</text>\r\n",
       "</g>\r\n",
       "<!-- 171&#45;&gt;173 -->\r\n",
       "<g id=\"edge15\" class=\"edge\"><title>171&#45;&gt;173</title>\r\n",
       "<path fill=\"none\" stroke=\"black\" d=\"M552.794,-71.9961C559.35,-62.9014 566.362,-53.1752 572.566,-44.57\"/>\r\n",
       "<polygon fill=\"black\" stroke=\"black\" points=\"575.444,-46.562 578.453,-36.4034 569.766,-42.4683 575.444,-46.562\"/>\r\n",
       "</g>\r\n",
       "<!-- 175 -->\r\n",
       "<g id=\"node18\" class=\"node\"><title>175</title>\r\n",
       "<path fill=\"#399de5\" fill-opacity=\"0.698039\" stroke=\"black\" d=\"M750.5,-244C750.5,-244 619.5,-244 619.5,-244 613.5,-244 607.5,-238 607.5,-232 607.5,-232 607.5,-188 607.5,-188 607.5,-182 613.5,-176 619.5,-176 619.5,-176 750.5,-176 750.5,-176 756.5,-176 762.5,-182 762.5,-188 762.5,-188 762.5,-232 762.5,-232 762.5,-238 756.5,-244 750.5,-244\"/>\r\n",
       "<text text-anchor=\"start\" x=\"646.5\" y=\"-228.8\" font-family=\"Helvetica,sans-Serif\" font-size=\"14.00\">was ≤ 0.902</text>\r\n",
       "<text text-anchor=\"start\" x=\"647.5\" y=\"-213.8\" font-family=\"Helvetica,sans-Serif\" font-size=\"14.00\">gini = 0.356</text>\r\n",
       "<text text-anchor=\"start\" x=\"629\" y=\"-198.8\" font-family=\"Helvetica,sans-Serif\" font-size=\"14.00\">samples = 16590</text>\r\n",
       "<text text-anchor=\"start\" x=\"615.5\" y=\"-183.8\" font-family=\"Helvetica,sans-Serif\" font-size=\"14.00\">value = [3842, 12748]</text>\r\n",
       "</g>\r\n",
       "<!-- 174&#45;&gt;175 -->\r\n",
       "<g id=\"edge17\" class=\"edge\"><title>174&#45;&gt;175</title>\r\n",
       "<path fill=\"none\" stroke=\"black\" d=\"M685,-279.884C685,-271.778 685,-262.982 685,-254.472\"/>\r\n",
       "<polygon fill=\"black\" stroke=\"black\" points=\"688.5,-254.299 685,-244.299 681.5,-254.299 688.5,-254.299\"/>\r\n",
       "</g>\r\n",
       "<!-- 372 -->\r\n",
       "<g id=\"node25\" class=\"node\"><title>372</title>\r\n",
       "<path fill=\"#399de5\" fill-opacity=\"0.917647\" stroke=\"black\" d=\"M1050,-244C1050,-244 936,-244 936,-244 930,-244 924,-238 924,-232 924,-232 924,-188 924,-188 924,-182 930,-176 936,-176 936,-176 1050,-176 1050,-176 1056,-176 1062,-182 1062,-188 1062,-188 1062,-232 1062,-232 1062,-238 1056,-244 1050,-244\"/>\r\n",
       "<text text-anchor=\"start\" x=\"945\" y=\"-228.8\" font-family=\"Helvetica,sans-Serif\" font-size=\"14.00\">terrible ≤ 5.085</text>\r\n",
       "<text text-anchor=\"start\" x=\"955.5\" y=\"-213.8\" font-family=\"Helvetica,sans-Serif\" font-size=\"14.00\">gini = 0.142</text>\r\n",
       "<text text-anchor=\"start\" x=\"941.5\" y=\"-198.8\" font-family=\"Helvetica,sans-Serif\" font-size=\"14.00\">samples = 5265</text>\r\n",
       "<text text-anchor=\"start\" x=\"932\" y=\"-183.8\" font-family=\"Helvetica,sans-Serif\" font-size=\"14.00\">value = [404, 4861]</text>\r\n",
       "</g>\r\n",
       "<!-- 174&#45;&gt;372 -->\r\n",
       "<g id=\"edge24\" class=\"edge\"><title>174&#45;&gt;372</title>\r\n",
       "<path fill=\"none\" stroke=\"black\" d=\"M762.721,-287.261C809.057,-271.916 867.717,-252.49 914.235,-237.084\"/>\r\n",
       "<polygon fill=\"black\" stroke=\"black\" points=\"915.576,-240.327 923.969,-233.861 913.375,-233.682 915.576,-240.327\"/>\r\n",
       "</g>\r\n",
       "<!-- 176 -->\r\n",
       "<g id=\"node19\" class=\"node\"><title>176</title>\r\n",
       "<path fill=\"#399de5\" fill-opacity=\"0.768627\" stroke=\"black\" d=\"M730,-140C730,-140 608,-140 608,-140 602,-140 596,-134 596,-128 596,-128 596,-84 596,-84 596,-78 602,-72 608,-72 608,-72 730,-72 730,-72 736,-72 742,-78 742,-84 742,-84 742,-128 742,-128 742,-134 736,-140 730,-140\"/>\r\n",
       "<text text-anchor=\"start\" x=\"629\" y=\"-124.8\" font-family=\"Helvetica,sans-Serif\" font-size=\"14.00\">best ≤ 0.397</text>\r\n",
       "<text text-anchor=\"start\" x=\"631.5\" y=\"-109.8\" font-family=\"Helvetica,sans-Serif\" font-size=\"14.00\">gini = 0.306</text>\r\n",
       "<text text-anchor=\"start\" x=\"613\" y=\"-94.8\" font-family=\"Helvetica,sans-Serif\" font-size=\"14.00\">samples = 12179</text>\r\n",
       "<text text-anchor=\"start\" x=\"604\" y=\"-79.8\" font-family=\"Helvetica,sans-Serif\" font-size=\"14.00\">value = [2298, 9881]</text>\r\n",
       "</g>\r\n",
       "<!-- 175&#45;&gt;176 -->\r\n",
       "<g id=\"edge18\" class=\"edge\"><title>175&#45;&gt;176</title>\r\n",
       "<path fill=\"none\" stroke=\"black\" d=\"M679.805,-175.884C678.52,-167.689 677.124,-158.789 675.775,-150.192\"/>\r\n",
       "<polygon fill=\"black\" stroke=\"black\" points=\"679.231,-149.636 674.223,-140.299 672.315,-150.721 679.231,-149.636\"/>\r\n",
       "</g>\r\n",
       "<!-- 273 -->\r\n",
       "<g id=\"node22\" class=\"node\"><title>273</title>\r\n",
       "<path fill=\"#399de5\" fill-opacity=\"0.462745\" stroke=\"black\" d=\"M894,-140C894,-140 772,-140 772,-140 766,-140 760,-134 760,-128 760,-128 760,-84 760,-84 760,-78 766,-72 772,-72 772,-72 894,-72 894,-72 900,-72 906,-78 906,-84 906,-84 906,-128 906,-128 906,-134 900,-140 894,-140\"/>\r\n",
       "<text text-anchor=\"start\" x=\"797\" y=\"-124.8\" font-family=\"Helvetica,sans-Serif\" font-size=\"14.00\">not ≤ 2.934</text>\r\n",
       "<text text-anchor=\"start\" x=\"795.5\" y=\"-109.8\" font-family=\"Helvetica,sans-Serif\" font-size=\"14.00\">gini = 0.455</text>\r\n",
       "<text text-anchor=\"start\" x=\"781.5\" y=\"-94.8\" font-family=\"Helvetica,sans-Serif\" font-size=\"14.00\">samples = 4411</text>\r\n",
       "<text text-anchor=\"start\" x=\"768\" y=\"-79.8\" font-family=\"Helvetica,sans-Serif\" font-size=\"14.00\">value = [1544, 2867]</text>\r\n",
       "</g>\r\n",
       "<!-- 175&#45;&gt;273 -->\r\n",
       "<g id=\"edge21\" class=\"edge\"><title>175&#45;&gt;273</title>\r\n",
       "<path fill=\"none\" stroke=\"black\" d=\"M733.051,-175.884C746.951,-166.304 762.249,-155.761 776.608,-145.864\"/>\r\n",
       "<polygon fill=\"black\" stroke=\"black\" points=\"778.689,-148.681 784.937,-140.125 774.717,-142.918 778.689,-148.681\"/>\r\n",
       "</g>\r\n",
       "<!-- 177 -->\r\n",
       "<g id=\"node20\" class=\"node\"><title>177</title>\r\n",
       "<path fill=\"#c0c0c0\" stroke=\"black\" d=\"M682,-36C682,-36 652,-36 652,-36 646,-36 640,-30 640,-24 640,-24 640,-12 640,-12 640,-6 646,-0 652,-0 652,-0 682,-0 682,-0 688,-0 694,-6 694,-12 694,-12 694,-24 694,-24 694,-30 688,-36 682,-36\"/>\r\n",
       "<text text-anchor=\"middle\" x=\"667\" y=\"-14.3\" font-family=\"Helvetica,sans-Serif\" font-size=\"14.00\">(...)</text>\r\n",
       "</g>\r\n",
       "<!-- 176&#45;&gt;177 -->\r\n",
       "<g id=\"edge19\" class=\"edge\"><title>176&#45;&gt;177</title>\r\n",
       "<path fill=\"none\" stroke=\"black\" d=\"M668.232,-71.9961C668.036,-63.5646 667.828,-54.5902 667.639,-46.4696\"/>\r\n",
       "<polygon fill=\"black\" stroke=\"black\" points=\"671.136,-46.3193 667.405,-36.4034 664.138,-46.4821 671.136,-46.3193\"/>\r\n",
       "</g>\r\n",
       "<!-- 256 -->\r\n",
       "<g id=\"node21\" class=\"node\"><title>256</title>\r\n",
       "<path fill=\"#c0c0c0\" stroke=\"black\" d=\"M754,-36C754,-36 724,-36 724,-36 718,-36 712,-30 712,-24 712,-24 712,-12 712,-12 712,-6 718,-0 724,-0 724,-0 754,-0 754,-0 760,-0 766,-6 766,-12 766,-12 766,-24 766,-24 766,-30 760,-36 754,-36\"/>\r\n",
       "<text text-anchor=\"middle\" x=\"739\" y=\"-14.3\" font-family=\"Helvetica,sans-Serif\" font-size=\"14.00\">(...)</text>\r\n",
       "</g>\r\n",
       "<!-- 176&#45;&gt;256 -->\r\n",
       "<g id=\"edge20\" class=\"edge\"><title>176&#45;&gt;256</title>\r\n",
       "<path fill=\"none\" stroke=\"black\" d=\"M695.864,-71.9961C703.343,-62.8067 711.348,-52.9725 718.406,-44.3014\"/>\r\n",
       "<polygon fill=\"black\" stroke=\"black\" points=\"721.236,-46.3685 724.834,-36.4034 715.807,-41.9496 721.236,-46.3685\"/>\r\n",
       "</g>\r\n",
       "<!-- 274 -->\r\n",
       "<g id=\"node23\" class=\"node\"><title>274</title>\r\n",
       "<path fill=\"#c0c0c0\" stroke=\"black\" d=\"M836,-36C836,-36 806,-36 806,-36 800,-36 794,-30 794,-24 794,-24 794,-12 794,-12 794,-6 800,-0 806,-0 806,-0 836,-0 836,-0 842,-0 848,-6 848,-12 848,-12 848,-24 848,-24 848,-30 842,-36 836,-36\"/>\r\n",
       "<text text-anchor=\"middle\" x=\"821\" y=\"-14.3\" font-family=\"Helvetica,sans-Serif\" font-size=\"14.00\">(...)</text>\r\n",
       "</g>\r\n",
       "<!-- 273&#45;&gt;274 -->\r\n",
       "<g id=\"edge22\" class=\"edge\"><title>273&#45;&gt;274</title>\r\n",
       "<path fill=\"none\" stroke=\"black\" d=\"M828.395,-71.9961C827.218,-63.5646 825.966,-54.5902 824.833,-46.4696\"/>\r\n",
       "<polygon fill=\"black\" stroke=\"black\" points=\"828.277,-45.8237 823.428,-36.4034 821.344,-46.7911 828.277,-45.8237\"/>\r\n",
       "</g>\r\n",
       "<!-- 343 -->\r\n",
       "<g id=\"node24\" class=\"node\"><title>343</title>\r\n",
       "<path fill=\"#c0c0c0\" stroke=\"black\" d=\"M908,-36C908,-36 878,-36 878,-36 872,-36 866,-30 866,-24 866,-24 866,-12 866,-12 866,-6 872,-0 878,-0 878,-0 908,-0 908,-0 914,-0 920,-6 920,-12 920,-12 920,-24 920,-24 920,-30 914,-36 908,-36\"/>\r\n",
       "<text text-anchor=\"middle\" x=\"893\" y=\"-14.3\" font-family=\"Helvetica,sans-Serif\" font-size=\"14.00\">(...)</text>\r\n",
       "</g>\r\n",
       "<!-- 273&#45;&gt;343 -->\r\n",
       "<g id=\"edge23\" class=\"edge\"><title>273&#45;&gt;343</title>\r\n",
       "<path fill=\"none\" stroke=\"black\" d=\"M856.026,-71.9961C862.305,-62.9962 869.016,-53.3778 874.973,-44.8393\"/>\r\n",
       "<polygon fill=\"black\" stroke=\"black\" points=\"878.007,-46.6073 880.858,-36.4034 872.266,-42.602 878.007,-46.6073\"/>\r\n",
       "</g>\r\n",
       "<!-- 373 -->\r\n",
       "<g id=\"node26\" class=\"node\"><title>373</title>\r\n",
       "<path fill=\"#399de5\" fill-opacity=\"0.921569\" stroke=\"black\" d=\"M1050,-140C1050,-140 936,-140 936,-140 930,-140 924,-134 924,-128 924,-128 924,-84 924,-84 924,-78 930,-72 936,-72 936,-72 1050,-72 1050,-72 1056,-72 1062,-78 1062,-84 1062,-84 1062,-128 1062,-128 1062,-134 1056,-140 1050,-140\"/>\r\n",
       "<text text-anchor=\"start\" x=\"954.5\" y=\"-124.8\" font-family=\"Helvetica,sans-Serif\" font-size=\"14.00\">was ≤ 1.372</text>\r\n",
       "<text text-anchor=\"start\" x=\"955.5\" y=\"-109.8\" font-family=\"Helvetica,sans-Serif\" font-size=\"14.00\">gini = 0.136</text>\r\n",
       "<text text-anchor=\"start\" x=\"941.5\" y=\"-94.8\" font-family=\"Helvetica,sans-Serif\" font-size=\"14.00\">samples = 5230</text>\r\n",
       "<text text-anchor=\"start\" x=\"932\" y=\"-79.8\" font-family=\"Helvetica,sans-Serif\" font-size=\"14.00\">value = [384, 4846]</text>\r\n",
       "</g>\r\n",
       "<!-- 372&#45;&gt;373 -->\r\n",
       "<g id=\"edge25\" class=\"edge\"><title>372&#45;&gt;373</title>\r\n",
       "<path fill=\"none\" stroke=\"black\" d=\"M993,-175.884C993,-167.778 993,-158.982 993,-150.472\"/>\r\n",
       "<polygon fill=\"black\" stroke=\"black\" points=\"996.5,-150.299 993,-140.299 989.5,-150.299 996.5,-150.299\"/>\r\n",
       "</g>\r\n",
       "<!-- 422 -->\r\n",
       "<g id=\"node29\" class=\"node\"><title>422</title>\r\n",
       "<path fill=\"#e58139\" fill-opacity=\"0.250980\" stroke=\"black\" d=\"M1181.5,-140C1181.5,-140 1092.5,-140 1092.5,-140 1086.5,-140 1080.5,-134 1080.5,-128 1080.5,-128 1080.5,-84 1080.5,-84 1080.5,-78 1086.5,-72 1092.5,-72 1092.5,-72 1181.5,-72 1181.5,-72 1187.5,-72 1193.5,-78 1193.5,-84 1193.5,-84 1193.5,-128 1193.5,-128 1193.5,-134 1187.5,-140 1181.5,-140\"/>\r\n",
       "<text text-anchor=\"start\" x=\"1100.5\" y=\"-124.8\" font-family=\"Helvetica,sans-Serif\" font-size=\"14.00\">too ≤ 0.953</text>\r\n",
       "<text text-anchor=\"start\" x=\"1103.5\" y=\"-109.8\" font-family=\"Helvetica,sans-Serif\" font-size=\"14.00\">gini = 0.49</text>\r\n",
       "<text text-anchor=\"start\" x=\"1093.5\" y=\"-94.8\" font-family=\"Helvetica,sans-Serif\" font-size=\"14.00\">samples = 35</text>\r\n",
       "<text text-anchor=\"start\" x=\"1088.5\" y=\"-79.8\" font-family=\"Helvetica,sans-Serif\" font-size=\"14.00\">value = [20, 15]</text>\r\n",
       "</g>\r\n",
       "<!-- 372&#45;&gt;422 -->\r\n",
       "<g id=\"edge28\" class=\"edge\"><title>372&#45;&gt;422</title>\r\n",
       "<path fill=\"none\" stroke=\"black\" d=\"M1039.75,-175.884C1053.08,-166.442 1067.73,-156.064 1081.53,-146.292\"/>\r\n",
       "<polygon fill=\"black\" stroke=\"black\" points=\"1083.85,-148.936 1089.99,-140.299 1079.81,-143.223 1083.85,-148.936\"/>\r\n",
       "</g>\r\n",
       "<!-- 374 -->\r\n",
       "<g id=\"node27\" class=\"node\"><title>374</title>\r\n",
       "<path fill=\"#c0c0c0\" stroke=\"black\" d=\"M993,-36C993,-36 963,-36 963,-36 957,-36 951,-30 951,-24 951,-24 951,-12 951,-12 951,-6 957,-0 963,-0 963,-0 993,-0 993,-0 999,-0 1005,-6 1005,-12 1005,-12 1005,-24 1005,-24 1005,-30 999,-36 993,-36\"/>\r\n",
       "<text text-anchor=\"middle\" x=\"978\" y=\"-14.3\" font-family=\"Helvetica,sans-Serif\" font-size=\"14.00\">(...)</text>\r\n",
       "</g>\r\n",
       "<!-- 373&#45;&gt;374 -->\r\n",
       "<g id=\"edge26\" class=\"edge\"><title>373&#45;&gt;374</title>\r\n",
       "<path fill=\"none\" stroke=\"black\" d=\"M987.244,-71.9961C985.773,-63.5646 984.208,-54.5902 982.791,-46.4696\"/>\r\n",
       "<polygon fill=\"black\" stroke=\"black\" points=\"986.202,-45.6532 981.035,-36.4034 979.306,-46.8561 986.202,-45.6532\"/>\r\n",
       "</g>\r\n",
       "<!-- 397 -->\r\n",
       "<g id=\"node28\" class=\"node\"><title>397</title>\r\n",
       "<path fill=\"#c0c0c0\" stroke=\"black\" d=\"M1065,-36C1065,-36 1035,-36 1035,-36 1029,-36 1023,-30 1023,-24 1023,-24 1023,-12 1023,-12 1023,-6 1029,-0 1035,-0 1035,-0 1065,-0 1065,-0 1071,-0 1077,-6 1077,-12 1077,-12 1077,-24 1077,-24 1077,-30 1071,-36 1065,-36\"/>\r\n",
       "<text text-anchor=\"middle\" x=\"1050\" y=\"-14.3\" font-family=\"Helvetica,sans-Serif\" font-size=\"14.00\">(...)</text>\r\n",
       "</g>\r\n",
       "<!-- 373&#45;&gt;397 -->\r\n",
       "<g id=\"edge27\" class=\"edge\"><title>373&#45;&gt;397</title>\r\n",
       "<path fill=\"none\" stroke=\"black\" d=\"M1014.87,-71.9961C1020.84,-62.9962 1027.21,-53.3778 1032.87,-44.8393\"/>\r\n",
       "<polygon fill=\"black\" stroke=\"black\" points=\"1035.86,-46.6724 1038.47,-36.4034 1030.02,-42.8052 1035.86,-46.6724\"/>\r\n",
       "</g>\r\n",
       "<!-- 423 -->\r\n",
       "<g id=\"node30\" class=\"node\"><title>423</title>\r\n",
       "<path fill=\"#c0c0c0\" stroke=\"black\" d=\"M1143,-36C1143,-36 1113,-36 1113,-36 1107,-36 1101,-30 1101,-24 1101,-24 1101,-12 1101,-12 1101,-6 1107,-0 1113,-0 1113,-0 1143,-0 1143,-0 1149,-0 1155,-6 1155,-12 1155,-12 1155,-24 1155,-24 1155,-30 1149,-36 1143,-36\"/>\r\n",
       "<text text-anchor=\"middle\" x=\"1128\" y=\"-14.3\" font-family=\"Helvetica,sans-Serif\" font-size=\"14.00\">(...)</text>\r\n",
       "</g>\r\n",
       "<!-- 422&#45;&gt;423 -->\r\n",
       "<g id=\"edge29\" class=\"edge\"><title>422&#45;&gt;423</title>\r\n",
       "<path fill=\"none\" stroke=\"black\" d=\"M1133.55,-71.9961C1132.66,-63.5646 1131.72,-54.5902 1130.87,-46.4696\"/>\r\n",
       "<polygon fill=\"black\" stroke=\"black\" points=\"1134.34,-45.9847 1129.82,-36.4034 1127.38,-46.7134 1134.34,-45.9847\"/>\r\n",
       "</g>\r\n",
       "<!-- 432 -->\r\n",
       "<g id=\"node31\" class=\"node\"><title>432</title>\r\n",
       "<path fill=\"#c0c0c0\" stroke=\"black\" d=\"M1215,-36C1215,-36 1185,-36 1185,-36 1179,-36 1173,-30 1173,-24 1173,-24 1173,-12 1173,-12 1173,-6 1179,-0 1185,-0 1185,-0 1215,-0 1215,-0 1221,-0 1227,-6 1227,-12 1227,-12 1227,-24 1227,-24 1227,-30 1221,-36 1215,-36\"/>\r\n",
       "<text text-anchor=\"middle\" x=\"1200\" y=\"-14.3\" font-family=\"Helvetica,sans-Serif\" font-size=\"14.00\">(...)</text>\r\n",
       "</g>\r\n",
       "<!-- 422&#45;&gt;432 -->\r\n",
       "<g id=\"edge30\" class=\"edge\"><title>422&#45;&gt;432</title>\r\n",
       "<path fill=\"none\" stroke=\"black\" d=\"M1161.18,-71.9961C1167.84,-62.9014 1174.96,-53.1752 1181.27,-44.57\"/>\r\n",
       "<polygon fill=\"black\" stroke=\"black\" points=\"1184.16,-46.5388 1187.25,-36.4034 1178.52,-42.4021 1184.16,-46.5388\"/>\r\n",
       "</g>\r\n",
       "</g>\r\n",
       "</svg>\r\n"
      ],
      "text/plain": [
       "<graphviz.files.Source at 0x2388666cb70>"
      ]
     },
     "execution_count": 70,
     "metadata": {},
     "output_type": "execute_result"
    }
   ],
   "source": [
    "dot_data = tree.export_graphviz(clf_dtree_tfidf_best, out_file=None, \n",
    "                      feature_names=count_vect.get_feature_names(),  \n",
    "                      filled=True, rounded=True, \n",
    "                      max_depth = 3,          \n",
    "                      special_characters=True)  \n",
    "graph = graphviz.Source(dot_data)  \n",
    "graph "
   ]
  },
  {
   "cell_type": "markdown",
   "metadata": {},
   "source": [
    "## avgW2W"
   ]
  },
  {
   "cell_type": "code",
   "execution_count": 91,
   "metadata": {},
   "outputs": [],
   "source": [
    "fileObject = open(\"./final_to_file3.pkl\",'rb') # we open the file for reading \n",
    "final = pickle.load(fileObject) # load the object from the file"
   ]
  },
  {
   "cell_type": "code",
   "execution_count": 92,
   "metadata": {},
   "outputs": [
    {
     "name": "stdout",
     "output_type": "stream",
     "text": [
      "<class 'list'>\n",
      "witti littl book make son laugh loud recit car drive along alway sing refrain hes learn whale india droop love new word book introduc silli classic book will bet son still abl recit memori colleg\n",
      "*****************************************************************\n",
      "['witti', 'littl', 'book', 'make', 'son', 'laugh', 'loud', 'recit', 'car', 'drive', 'along', 'alway', 'sing', 'refrain', 'hes', 'learn', 'whale', 'india', 'droop', 'love', 'new', 'word', 'book', 'introduc', 'silli', 'classic', 'book', 'will', 'bet', 'son', 'still', 'abl', 'recit', 'memori', 'colleg']\n"
     ]
    }
   ],
   "source": [
    "#w2v\n",
    "# Train your own Word2Vec model using your own text corpus\n",
    "i=0\n",
    "list_of_sent=[]\n",
    "for sent in final['CleanedText'].values:\n",
    "    list_of_sent.append(sent.split())\n",
    "    \n",
    "print(type(list_of_sent))\n",
    "print(final['CleanedText'].values[0])\n",
    "print(\"*****************************************************************\")\n",
    "print(list_of_sent[0])"
   ]
  },
  {
   "cell_type": "code",
   "execution_count": 93,
   "metadata": {},
   "outputs": [],
   "source": [
    "w2v_model=Word2Vec(list_of_sent,min_count=5,size=50, workers=4)\n",
    "w2v_words = list(w2v_model.wv.vocab)"
   ]
  },
  {
   "cell_type": "code",
   "execution_count": 94,
   "metadata": {},
   "outputs": [
    {
     "name": "stdout",
     "output_type": "stream",
     "text": [
      "100000\n",
      "<class 'list'>\n"
     ]
    }
   ],
   "source": [
    "# average Word2Vec\n",
    "# compute average word2vec for each review.\n",
    "sent_vectors = []; # the avg-w2v for each sentence/review is stored in this list\n",
    "for sent in list_of_sent: # for each review/sentence\n",
    "    sent_vec = np.zeros(50) # as word vectors are of zero length\n",
    "    cnt_words =0; # num of words with a valid vector in the sentence/review\n",
    "    for word in sent: # for each word in a review/sentence\n",
    "        if word in w2v_words:\n",
    "            vec = w2v_model.wv[word]\n",
    "            sent_vec += vec\n",
    "            cnt_words += 1\n",
    "    if cnt_words != 0:\n",
    "        sent_vec /= cnt_words\n",
    "    sent_vectors.append(sent_vec)\n",
    "print(len(sent_vectors))\n",
    "#print(len(sent_vectors[0]))\n",
    "print(type(sent_vectors))"
   ]
  },
  {
   "cell_type": "code",
   "execution_count": 95,
   "metadata": {},
   "outputs": [],
   "source": [
    "# create design matrix X and target vector y\n",
    "X = np.array(sent_vectors[::]) # end index is exclusive\n",
    "y = np.array(final['Score']) # showing you two ways of indexing a pandas df"
   ]
  },
  {
   "cell_type": "code",
   "execution_count": 96,
   "metadata": {},
   "outputs": [
    {
     "name": "stdout",
     "output_type": "stream",
     "text": [
      "(70000, 50)\n",
      "(30000, 50)\n",
      "(70000,)\n",
      "(30000,)\n"
     ]
    }
   ],
   "source": [
    "X_train_nstd = X[0:70000:1]\n",
    "X_test_nstd = X[70000:100000:1]\n",
    "\n",
    "y_train_nstd = y[0:70000:1]\n",
    "y_test_nstd =y[70000:100000:1]\n",
    "\n",
    "print(X_train_nstd.shape)\n",
    "print(X_test_nstd.shape)\n",
    "print(y_train_nstd.shape)\n",
    "print(y_test_nstd.shape)"
   ]
  },
  {
   "cell_type": "code",
   "execution_count": 97,
   "metadata": {},
   "outputs": [],
   "source": [
    "# Column Standardization of the tfidf non-standard vector\n",
    "std_scal = StandardScaler(with_mean=False)\n",
    "std_scal.fit(X_train_nstd)\n",
    "train_avgw2v = std_scal.transform(X_train_nstd)\n",
    "test_avgw2v = std_scal.transform(X_test_nstd)"
   ]
  },
  {
   "cell_type": "markdown",
   "metadata": {},
   "source": [
    "## tfidf-W-W2V"
   ]
  },
  {
   "cell_type": "code",
   "execution_count": 98,
   "metadata": {},
   "outputs": [],
   "source": [
    "# S = [\"abc def pqr\", \"def def def abc\", \"pqr pqr def\"]\n",
    "model = TfidfVectorizer()\n",
    "tf_idf_matrix = model.fit_transform(final['CleanedText'].values)\n",
    "# we are converting a dictionary with word as a key, and the idf as a value\n",
    "dictionary = dict(zip(model.get_feature_names(), list(model.idf_)))"
   ]
  },
  {
   "cell_type": "code",
   "execution_count": 99,
   "metadata": {},
   "outputs": [],
   "source": [
    "# TF-IDF weighted Word2Vec\n",
    "tfidf_feat = model.get_feature_names() # tfidf words/col-names\n",
    "# final_tf_idf is the sparse matrix with row= sentence, col=word and cell_val = tfidf\n",
    "\n",
    "tfidf_sent_vectors = []; # the tfidf-w2v for each sentence/review is stored in this list\n",
    "row=0;\n",
    "for sent in (list_of_sent): # for each review/sentence \n",
    "    sent_vec = np.zeros(50) # as word vectors are of zero length\n",
    "    weight_sum =0; # num of words with a valid vector in the sentence/review\n",
    "    for word in sent: # for each word in a review/sentence\n",
    "        if word in w2v_words:\n",
    "            vec = w2v_model.wv[word]\n",
    "#             tf_idf = tf_idf_matrix[row, tfidf_feat.index(word)]\n",
    "            # to reduce the computation we are \n",
    "            # dictionary[word] = idf value of word in whole courpus\n",
    "            # sent.count(word) = tf valeus of word in this review\n",
    "            tf_idf = dictionary[word]*(sent.count(word)/len(sent))\n",
    "            sent_vec += (vec * tf_idf)\n",
    "            weight_sum += tf_idf\n",
    "    if weight_sum != 0:\n",
    "        sent_vec /= weight_sum\n",
    "    tfidf_sent_vectors.append(sent_vec)\n",
    "    row += 1"
   ]
  },
  {
   "cell_type": "code",
   "execution_count": 100,
   "metadata": {},
   "outputs": [
    {
     "name": "stdout",
     "output_type": "stream",
     "text": [
      "100000\n",
      "(100000, 50)\n",
      "<class 'list'>\n"
     ]
    }
   ],
   "source": [
    "print(len(tfidf_sent_vectors))\n",
    "print(np.shape(tfidf_sent_vectors))\n",
    "print(type(tfidf_sent_vectors))"
   ]
  },
  {
   "cell_type": "code",
   "execution_count": 101,
   "metadata": {},
   "outputs": [],
   "source": [
    "# create design matrix X and target vector y\n",
    "X = np.array(tfidf_sent_vectors[::]) # end index is exclusive\n",
    "y = np.array(final['Score']) # showing you two ways of indexing a pandas df"
   ]
  },
  {
   "cell_type": "code",
   "execution_count": 102,
   "metadata": {},
   "outputs": [
    {
     "name": "stdout",
     "output_type": "stream",
     "text": [
      "(70000, 50)\n",
      "(30000, 50)\n",
      "(70000,)\n",
      "(30000,)\n"
     ]
    }
   ],
   "source": [
    "#taking 40K data into consideration\n",
    "X_train_nstd = X[0:70000:1]\n",
    "X_test_nstd = X[70000:100000:1]\n",
    "\n",
    "y_train_nstd = y[0:70000:1]\n",
    "y_test_nstd =y[70000:100000:1]\n",
    "\n",
    "print(X_train_nstd.shape)\n",
    "print(X_test_nstd.shape)\n",
    "print(y_train_nstd.shape)\n",
    "print(y_test_nstd.shape)"
   ]
  },
  {
   "cell_type": "code",
   "execution_count": 103,
   "metadata": {},
   "outputs": [],
   "source": [
    "# Column Standardization of the tfidf non-standard vector\n",
    "std_scal = StandardScaler(with_mean=False)\n",
    "std_scal.fit(X_train_nstd)\n",
    "train_tfidfww2v = std_scal.transform(X_train_nstd)\n",
    "test_tfidfww2v = std_scal.transform(X_test_nstd)"
   ]
  },
  {
   "cell_type": "markdown",
   "metadata": {},
   "source": [
    "## Decision tree on avgw2v"
   ]
  },
  {
   "cell_type": "code",
   "execution_count": 104,
   "metadata": {},
   "outputs": [
    {
     "data": {
      "text/plain": [
       "DecisionTreeClassifier(class_weight=None, criterion='gini', max_depth=None,\n",
       "            max_features=None, max_leaf_nodes=None,\n",
       "            min_impurity_decrease=0.0, min_impurity_split=None,\n",
       "            min_samples_leaf=1, min_samples_split=2,\n",
       "            min_weight_fraction_leaf=0.0, presort=False, random_state=None,\n",
       "            splitter='best')"
      ]
     },
     "execution_count": 104,
     "metadata": {},
     "output_type": "execute_result"
    }
   ],
   "source": [
    "clf_dtree_avgw2v = tree.DecisionTreeClassifier()\n",
    "clf_dtree_avgw2v = clf_dtree_avgw2v.fit(train_avgw2v, y_train)\n",
    "clf_dtree_avgw2v"
   ]
  },
  {
   "cell_type": "code",
   "execution_count": 105,
   "metadata": {},
   "outputs": [
    {
     "name": "stdout",
     "output_type": "stream",
     "text": [
      "GridSearchCV(cv=3, error_score='raise',\n",
      "       estimator=DecisionTreeClassifier(class_weight=None, criterion='gini', max_depth=None,\n",
      "            max_features=None, max_leaf_nodes=None,\n",
      "            min_impurity_decrease=0.0, min_impurity_split=None,\n",
      "            min_samples_leaf=1, min_samples_split=2,\n",
      "            min_weight_fraction_leaf=0.0, presort=False, random_state=None,\n",
      "            splitter='best'),\n",
      "       fit_params=None, iid=True, n_jobs=1,\n",
      "       param_grid={'max_depth': (10, 50, 100, 500), 'min_samples_split': (5, 10, 50, 100)},\n",
      "       pre_dispatch='2*n_jobs', refit=True, return_train_score='warn',\n",
      "       scoring='f1', verbose=0)\n",
      "\n",
      "Best score:  0.9339276150267604\n",
      "\n",
      "Optimal value of Hyperparameter, max_depth :  10\n",
      "\n",
      "Optimal value of Hyperparameter, min_samples_split :  100\n"
     ]
    }
   ],
   "source": [
    "parameter = {\n",
    "        'max_depth': (10, 50, 100, 500),\n",
    "        'min_samples_split': (5, 10, 50, 100)\n",
    "    }\n",
    "\n",
    "gsearch_dt_avgw2v = GridSearchCV(estimator = clf_dtree_avgw2v,\n",
    "                          param_grid= parameter,\n",
    "                          cv=3,\n",
    "                          scoring='f1')\n",
    "gsearch_dt_avgw2v.fit(train_avgw2v, y_train)\n",
    "\n",
    "print(gsearch_dt_avgw2v)\n",
    "results_avgw2v = gsearch_dt_avgw2v.cv_results_\n",
    "\n",
    "# summarize the results of the grid search\n",
    "print(\"\\nBest score: \",gsearch_dt_avgw2v.best_score_)\n",
    "NB_OPTIMAL_clf_avgw2v = gsearch_dt_avgw2v.best_estimator_\n",
    "\n",
    "best_max_depth_avgw2v = gsearch_dt_avgw2v.best_estimator_.max_depth\n",
    "print(\"\\nOptimal value of Hyperparameter, max_depth : \",best_max_depth_avgw2v)\n",
    "\n",
    "best_min_samples_split_avgw2v = gsearch_dt_avgw2v.best_estimator_.min_samples_split\n",
    "print(\"\\nOptimal value of Hyperparameter, min_samples_split : \",best_min_samples_split_avgw2v)"
   ]
  },
  {
   "cell_type": "code",
   "execution_count": 106,
   "metadata": {},
   "outputs": [
    {
     "data": {
      "text/plain": [
       "['results_avgw2v.pkl']"
      ]
     },
     "execution_count": 106,
     "metadata": {},
     "output_type": "execute_result"
    }
   ],
   "source": [
    "joblib.dump(results_avgw2v,\"results_avgw2v.pkl\")"
   ]
  },
  {
   "cell_type": "code",
   "execution_count": 107,
   "metadata": {},
   "outputs": [
    {
     "data": {
      "text/plain": [
       "{'mean_fit_time': array([ 9.67353535,  9.64587641,  9.60054286,  9.66454252, 15.72911191,\n",
       "        15.92145435, 15.54411936, 15.25178615, 15.72878416, 15.68577886,\n",
       "        15.42479499, 15.09579301, 15.71378469, 15.79211775, 15.38444805,\n",
       "        15.23078354]),\n",
       " 'std_fit_time': array([0.0521318 , 0.01124283, 0.02904043, 0.09989732, 0.02941685,\n",
       "        0.2005213 , 0.05197705, 0.02513229, 0.09296609, 0.04558629,\n",
       "        0.06668414, 0.02271469, 0.01791504, 0.1870347 , 0.08803648,\n",
       "        0.20450028]),\n",
       " 'mean_score_time': array([0.03633261, 0.03665423, 0.03766783, 0.03633356, 0.04400015,\n",
       "        0.04200157, 0.04099997, 0.04067755, 0.04233281, 0.04266715,\n",
       "        0.04166071, 0.04132549, 0.04232748, 0.04300618, 0.04200149,\n",
       "        0.04133272]),\n",
       " 'std_score_time': array([4.71034627e-04, 9.37212143e-04, 2.35600671e-03, 4.86936587e-04,\n",
       "        1.41411111e-03, 1.36730278e-06, 8.10467325e-07, 4.68070019e-04,\n",
       "        4.71595499e-04, 4.72890535e-04, 4.65492410e-04, 1.23963243e-03,\n",
       "        4.75154943e-04, 9.87256378e-06, 1.78416128e-06, 4.74356437e-04]),\n",
       " 'param_max_depth': masked_array(data=[10, 10, 10, 10, 50, 50, 50, 50, 100, 100, 100, 100,\n",
       "                    500, 500, 500, 500],\n",
       "              mask=[False, False, False, False, False, False, False, False,\n",
       "                    False, False, False, False, False, False, False, False],\n",
       "        fill_value='?',\n",
       "             dtype=object),\n",
       " 'param_min_samples_split': masked_array(data=[5, 10, 50, 100, 5, 10, 50, 100, 5, 10, 50, 100, 5, 10,\n",
       "                    50, 100],\n",
       "              mask=[False, False, False, False, False, False, False, False,\n",
       "                    False, False, False, False, False, False, False, False],\n",
       "        fill_value='?',\n",
       "             dtype=object),\n",
       " 'params': [{'max_depth': 10, 'min_samples_split': 5},\n",
       "  {'max_depth': 10, 'min_samples_split': 10},\n",
       "  {'max_depth': 10, 'min_samples_split': 50},\n",
       "  {'max_depth': 10, 'min_samples_split': 100},\n",
       "  {'max_depth': 50, 'min_samples_split': 5},\n",
       "  {'max_depth': 50, 'min_samples_split': 10},\n",
       "  {'max_depth': 50, 'min_samples_split': 50},\n",
       "  {'max_depth': 50, 'min_samples_split': 100},\n",
       "  {'max_depth': 100, 'min_samples_split': 5},\n",
       "  {'max_depth': 100, 'min_samples_split': 10},\n",
       "  {'max_depth': 100, 'min_samples_split': 50},\n",
       "  {'max_depth': 100, 'min_samples_split': 100},\n",
       "  {'max_depth': 500, 'min_samples_split': 5},\n",
       "  {'max_depth': 500, 'min_samples_split': 10},\n",
       "  {'max_depth': 500, 'min_samples_split': 50},\n",
       "  {'max_depth': 500, 'min_samples_split': 100}],\n",
       " 'split0_test_score': array([0.93267792, 0.93174256, 0.93367492, 0.93416972, 0.90804372,\n",
       "        0.90859214, 0.91940861, 0.92761996, 0.90838293, 0.90847557,\n",
       "        0.91924805, 0.92721149, 0.90693399, 0.90757085, 0.91904566,\n",
       "        0.92740819]),\n",
       " 'split1_test_score': array([0.93233011, 0.93265306, 0.93268228, 0.93386243, 0.91075827,\n",
       "        0.91287196, 0.92373859, 0.92774525, 0.91130664, 0.9137545 ,\n",
       "        0.923528  , 0.92808871, 0.911693  , 0.91334096, 0.92339863,\n",
       "        0.92763972]),\n",
       " 'split2_test_score': array([0.92760127, 0.92725796, 0.92961234, 0.93375068, 0.90506064,\n",
       "        0.90658356, 0.91814534, 0.92610205, 0.90513921, 0.90558814,\n",
       "        0.91846303, 0.92643389, 0.90564092, 0.90548339, 0.91824994,\n",
       "        0.92630278]),\n",
       " 'mean_test_score': array([0.93086979, 0.93055121, 0.93198987, 0.93392762, 0.90795422,\n",
       "        0.90934921, 0.92043083, 0.92715576, 0.90827626, 0.90927273,\n",
       "        0.92041301, 0.92724469, 0.90808929, 0.90879838, 0.92023139,\n",
       "        0.9271169 ]),\n",
       " 'std_test_score': array([0.00231553, 0.00235813, 0.0017293 , 0.00017718, 0.00232689,\n",
       "        0.00262243, 0.0023951 , 0.00074683, 0.00251895, 0.0033812 ,\n",
       "        0.0022258 , 0.00067598, 0.00260229, 0.00332318, 0.00226299,\n",
       "        0.00058337]),\n",
       " 'rank_test_score': array([ 3,  4,  2,  1, 16, 11,  8,  6, 14, 12,  9,  5, 15, 13, 10,  7]),\n",
       " 'split0_train_score': array([0.95940077, 0.95841669, 0.95318042, 0.9493514 , 0.99498305,\n",
       "        0.98625776, 0.96077913, 0.95257237, 0.99491005, 0.98638059,\n",
       "        0.96078314, 0.95265864, 0.99498354, 0.98618687, 0.96087761,\n",
       "        0.95257016]),\n",
       " 'split1_train_score': array([0.95917567, 0.95883605, 0.95357618, 0.95016556, 0.9948354 ,\n",
       "        0.98725999, 0.96256015, 0.95441033, 0.99490831, 0.98730857,\n",
       "        0.96255398, 0.95430386, 0.99498171, 0.98723384, 0.9626546 ,\n",
       "        0.95440975]),\n",
       " 'split2_train_score': array([0.96072508, 0.95976868, 0.95434966, 0.95039804, 0.99517402,\n",
       "        0.98684018, 0.96224737, 0.9542059 , 0.9950891 , 0.98679282,\n",
       "        0.96227866, 0.95419458, 0.99508946, 0.98664364, 0.96233375,\n",
       "        0.95417783]),\n",
       " 'mean_train_score': array([0.95976717, 0.95900714, 0.95370209, 0.94997167, 0.99499749,\n",
       "        0.98678598, 0.96186222, 0.95372953, 0.99496915, 0.98682733,\n",
       "        0.96187192, 0.95371902, 0.99501824, 0.98668811, 0.96195532,\n",
       "        0.95371925]),\n",
       " 'std_train_score': array([6.83545186e-04, 5.65052015e-04, 4.85570589e-04, 4.48746577e-04,\n",
       "        1.38614894e-04, 4.10948156e-04, 7.76430386e-04, 8.22484357e-04,\n",
       "        8.48190304e-05, 3.79629328e-04, 7.78051224e-04, 7.51133050e-04,\n",
       "        5.03666307e-05, 4.28576749e-04, 7.73231570e-04, 8.18027600e-04])}"
      ]
     },
     "execution_count": 107,
     "metadata": {},
     "output_type": "execute_result"
    }
   ],
   "source": [
    "results_avgw2v = joblib.load(\"results_avgw2v.pkl\")\n",
    "results_avgw2v"
   ]
  },
  {
   "cell_type": "code",
   "execution_count": 108,
   "metadata": {},
   "outputs": [
    {
     "name": "stdout",
     "output_type": "stream",
     "text": [
      "<class 'list'>\n",
      "<class 'pandas.core.frame.DataFrame'>\n"
     ]
    },
    {
     "data": {
      "text/html": [
       "<div>\n",
       "<style scoped>\n",
       "    .dataframe tbody tr th:only-of-type {\n",
       "        vertical-align: middle;\n",
       "    }\n",
       "\n",
       "    .dataframe tbody tr th {\n",
       "        vertical-align: top;\n",
       "    }\n",
       "\n",
       "    .dataframe thead th {\n",
       "        text-align: right;\n",
       "    }\n",
       "</style>\n",
       "<table border=\"1\" class=\"dataframe\">\n",
       "  <thead>\n",
       "    <tr style=\"text-align: right;\">\n",
       "      <th></th>\n",
       "      <th>X</th>\n",
       "      <th>Y</th>\n",
       "      <th>Z</th>\n",
       "    </tr>\n",
       "  </thead>\n",
       "  <tbody>\n",
       "    <tr>\n",
       "      <th>0</th>\n",
       "      <td>10</td>\n",
       "      <td>5</td>\n",
       "      <td>0.000229</td>\n",
       "    </tr>\n",
       "    <tr>\n",
       "      <th>1</th>\n",
       "      <td>10</td>\n",
       "      <td>10</td>\n",
       "      <td>0.000178</td>\n",
       "    </tr>\n",
       "    <tr>\n",
       "      <th>2</th>\n",
       "      <td>10</td>\n",
       "      <td>50</td>\n",
       "      <td>0.000349</td>\n",
       "    </tr>\n",
       "    <tr>\n",
       "      <th>3</th>\n",
       "      <td>10</td>\n",
       "      <td>100</td>\n",
       "      <td>0.000353</td>\n",
       "    </tr>\n",
       "    <tr>\n",
       "      <th>4</th>\n",
       "      <td>50</td>\n",
       "      <td>5</td>\n",
       "      <td>0.000083</td>\n",
       "    </tr>\n",
       "    <tr>\n",
       "      <th>5</th>\n",
       "      <td>50</td>\n",
       "      <td>10</td>\n",
       "      <td>0.000160</td>\n",
       "    </tr>\n",
       "    <tr>\n",
       "      <th>6</th>\n",
       "      <td>50</td>\n",
       "      <td>50</td>\n",
       "      <td>0.000984</td>\n",
       "    </tr>\n",
       "    <tr>\n",
       "      <th>7</th>\n",
       "      <td>50</td>\n",
       "      <td>100</td>\n",
       "      <td>0.001343</td>\n",
       "    </tr>\n",
       "    <tr>\n",
       "      <th>8</th>\n",
       "      <td>100</td>\n",
       "      <td>5</td>\n",
       "      <td>0.000395</td>\n",
       "    </tr>\n",
       "    <tr>\n",
       "      <th>9</th>\n",
       "      <td>100</td>\n",
       "      <td>10</td>\n",
       "      <td>0.000606</td>\n",
       "    </tr>\n",
       "    <tr>\n",
       "      <th>10</th>\n",
       "      <td>100</td>\n",
       "      <td>50</td>\n",
       "      <td>0.000481</td>\n",
       "    </tr>\n",
       "    <tr>\n",
       "      <th>11</th>\n",
       "      <td>100</td>\n",
       "      <td>100</td>\n",
       "      <td>0.000988</td>\n",
       "    </tr>\n",
       "    <tr>\n",
       "      <th>12</th>\n",
       "      <td>500</td>\n",
       "      <td>5</td>\n",
       "      <td>0.000204</td>\n",
       "    </tr>\n",
       "    <tr>\n",
       "      <th>13</th>\n",
       "      <td>500</td>\n",
       "      <td>10</td>\n",
       "      <td>0.000072</td>\n",
       "    </tr>\n",
       "    <tr>\n",
       "      <th>14</th>\n",
       "      <td>500</td>\n",
       "      <td>50</td>\n",
       "      <td>0.000901</td>\n",
       "    </tr>\n",
       "    <tr>\n",
       "      <th>15</th>\n",
       "      <td>500</td>\n",
       "      <td>100</td>\n",
       "      <td>0.001175</td>\n",
       "    </tr>\n",
       "  </tbody>\n",
       "</table>\n",
       "</div>"
      ],
      "text/plain": [
       "      X    Y         Z\n",
       "0    10    5  0.000229\n",
       "1    10   10  0.000178\n",
       "2    10   50  0.000349\n",
       "3    10  100  0.000353\n",
       "4    50    5  0.000083\n",
       "5    50   10  0.000160\n",
       "6    50   50  0.000984\n",
       "7    50  100  0.001343\n",
       "8   100    5  0.000395\n",
       "9   100   10  0.000606\n",
       "10  100   50  0.000481\n",
       "11  100  100  0.000988\n",
       "12  500    5  0.000204\n",
       "13  500   10  0.000072\n",
       "14  500   50  0.000901\n",
       "15  500  100  0.001175"
      ]
     },
     "execution_count": 108,
     "metadata": {},
     "output_type": "execute_result"
    }
   ],
   "source": [
    "X = [10,10,10,10, 50,50,50,50, 100,100,100,100, 500,500,500,500]\n",
    "Y = [5, 10, 50, 100,5, 10, 50, 100,5, 10, 50, 100,5, 10, 50, 100,]\n",
    "Z = results['std_train_score']\n",
    "print(type(X))\n",
    "X_df = pd.DataFrame(X)\n",
    "Y_df = pd.DataFrame(Y)\n",
    "Z_df = pd.DataFrame(Z)\n",
    "print(type(X_df))\n",
    "X_df.reindex(columns=[*X_df.columns.tolist(), 'Y'],fill_value=1)\n",
    "X_df['Y']=Y_df.values\n",
    "X_df.reindex(columns=[*X_df.columns.tolist(), 'Z'],fill_value=1)\n",
    "X_df['Z']=Z_df.values\n",
    "X_df.columns = ['X', 'Y', 'Z']\n",
    "X_df"
   ]
  },
  {
   "cell_type": "code",
   "execution_count": 110,
   "metadata": {},
   "outputs": [
    {
     "data": {
      "text/plain": [
       "Text(0.5, 1.0, 'Train Score')"
      ]
     },
     "execution_count": 110,
     "metadata": {},
     "output_type": "execute_result"
    },
    {
     "data": {
      "image/png": "[encoded data removed]",
      "text/plain": [
       "<Figure size 432x288 with 2 Axes>"
      ]
     },
     "metadata": {},
     "output_type": "display_data"
    }
   ],
   "source": [
    "plot_data = X_df.pivot(\"X\", \"Y\", \"Z\")\n",
    "ax = sns.heatmap(plot_data, annot=True)\n",
    "ax.set_title('Train Score')"
   ]
  },
  {
   "cell_type": "code",
   "execution_count": 111,
   "metadata": {},
   "outputs": [
    {
     "name": "stdout",
     "output_type": "stream",
     "text": [
      "<class 'list'>\n",
      "<class 'pandas.core.frame.DataFrame'>\n"
     ]
    },
    {
     "data": {
      "text/html": [
       "<div>\n",
       "<style scoped>\n",
       "    .dataframe tbody tr th:only-of-type {\n",
       "        vertical-align: middle;\n",
       "    }\n",
       "\n",
       "    .dataframe tbody tr th {\n",
       "        vertical-align: top;\n",
       "    }\n",
       "\n",
       "    .dataframe thead th {\n",
       "        text-align: right;\n",
       "    }\n",
       "</style>\n",
       "<table border=\"1\" class=\"dataframe\">\n",
       "  <thead>\n",
       "    <tr style=\"text-align: right;\">\n",
       "      <th></th>\n",
       "      <th>X</th>\n",
       "      <th>Y</th>\n",
       "      <th>Z</th>\n",
       "    </tr>\n",
       "  </thead>\n",
       "  <tbody>\n",
       "    <tr>\n",
       "      <th>0</th>\n",
       "      <td>10</td>\n",
       "      <td>5</td>\n",
       "      <td>0.000229</td>\n",
       "    </tr>\n",
       "    <tr>\n",
       "      <th>1</th>\n",
       "      <td>10</td>\n",
       "      <td>10</td>\n",
       "      <td>0.000178</td>\n",
       "    </tr>\n",
       "    <tr>\n",
       "      <th>2</th>\n",
       "      <td>10</td>\n",
       "      <td>50</td>\n",
       "      <td>0.000349</td>\n",
       "    </tr>\n",
       "    <tr>\n",
       "      <th>3</th>\n",
       "      <td>10</td>\n",
       "      <td>100</td>\n",
       "      <td>0.000353</td>\n",
       "    </tr>\n",
       "    <tr>\n",
       "      <th>4</th>\n",
       "      <td>50</td>\n",
       "      <td>5</td>\n",
       "      <td>0.000083</td>\n",
       "    </tr>\n",
       "    <tr>\n",
       "      <th>5</th>\n",
       "      <td>50</td>\n",
       "      <td>10</td>\n",
       "      <td>0.000160</td>\n",
       "    </tr>\n",
       "    <tr>\n",
       "      <th>6</th>\n",
       "      <td>50</td>\n",
       "      <td>50</td>\n",
       "      <td>0.000984</td>\n",
       "    </tr>\n",
       "    <tr>\n",
       "      <th>7</th>\n",
       "      <td>50</td>\n",
       "      <td>100</td>\n",
       "      <td>0.001343</td>\n",
       "    </tr>\n",
       "    <tr>\n",
       "      <th>8</th>\n",
       "      <td>100</td>\n",
       "      <td>5</td>\n",
       "      <td>0.000395</td>\n",
       "    </tr>\n",
       "    <tr>\n",
       "      <th>9</th>\n",
       "      <td>100</td>\n",
       "      <td>10</td>\n",
       "      <td>0.000606</td>\n",
       "    </tr>\n",
       "    <tr>\n",
       "      <th>10</th>\n",
       "      <td>100</td>\n",
       "      <td>50</td>\n",
       "      <td>0.000481</td>\n",
       "    </tr>\n",
       "    <tr>\n",
       "      <th>11</th>\n",
       "      <td>100</td>\n",
       "      <td>100</td>\n",
       "      <td>0.000988</td>\n",
       "    </tr>\n",
       "    <tr>\n",
       "      <th>12</th>\n",
       "      <td>500</td>\n",
       "      <td>5</td>\n",
       "      <td>0.000204</td>\n",
       "    </tr>\n",
       "    <tr>\n",
       "      <th>13</th>\n",
       "      <td>500</td>\n",
       "      <td>10</td>\n",
       "      <td>0.000072</td>\n",
       "    </tr>\n",
       "    <tr>\n",
       "      <th>14</th>\n",
       "      <td>500</td>\n",
       "      <td>50</td>\n",
       "      <td>0.000901</td>\n",
       "    </tr>\n",
       "    <tr>\n",
       "      <th>15</th>\n",
       "      <td>500</td>\n",
       "      <td>100</td>\n",
       "      <td>0.001175</td>\n",
       "    </tr>\n",
       "  </tbody>\n",
       "</table>\n",
       "</div>"
      ],
      "text/plain": [
       "      X    Y         Z\n",
       "0    10    5  0.000229\n",
       "1    10   10  0.000178\n",
       "2    10   50  0.000349\n",
       "3    10  100  0.000353\n",
       "4    50    5  0.000083\n",
       "5    50   10  0.000160\n",
       "6    50   50  0.000984\n",
       "7    50  100  0.001343\n",
       "8   100    5  0.000395\n",
       "9   100   10  0.000606\n",
       "10  100   50  0.000481\n",
       "11  100  100  0.000988\n",
       "12  500    5  0.000204\n",
       "13  500   10  0.000072\n",
       "14  500   50  0.000901\n",
       "15  500  100  0.001175"
      ]
     },
     "execution_count": 111,
     "metadata": {},
     "output_type": "execute_result"
    }
   ],
   "source": [
    "X = [10,10,10,10, 50,50,50,50, 100,100,100,100, 500,500,500,500]\n",
    "Y = [5, 10, 50, 100,5, 10, 50, 100,5, 10, 50, 100,5, 10, 50, 100,]\n",
    "Z = results['std_train_score']\n",
    "print(type(X))\n",
    "X_df = pd.DataFrame(X)\n",
    "Y_df = pd.DataFrame(Y)\n",
    "Z_df = pd.DataFrame(Z)\n",
    "print(type(X_df))\n",
    "X_df.reindex(columns=[*X_df.columns.tolist(), 'Y'],fill_value=1)\n",
    "X_df['Y']=Y_df.values\n",
    "X_df.reindex(columns=[*X_df.columns.tolist(), 'Z'],fill_value=1)\n",
    "X_df['Z']=Z_df.values\n",
    "X_df.columns = ['X', 'Y', 'Z']\n",
    "X_df"
   ]
  },
  {
   "cell_type": "code",
   "execution_count": 112,
   "metadata": {},
   "outputs": [
    {
     "data": {
      "text/plain": [
       "Text(0.5, 1.0, 'Test Score')"
      ]
     },
     "execution_count": 112,
     "metadata": {},
     "output_type": "execute_result"
    },
    {
     "data": {
      "image/png": "[encoded data removed]",
      "text/plain": [
       "<Figure size 432x288 with 2 Axes>"
      ]
     },
     "metadata": {},
     "output_type": "display_data"
    }
   ],
   "source": [
    "plot_data = X_df.pivot(\"X\", \"Y\", \"Z\")\n",
    "ax = sns.heatmap(plot_data, annot=True, cmap=\"YlGnBu\")\n",
    "ax.set_title('Test Score')"
   ]
  },
  {
   "cell_type": "markdown",
   "metadata": {},
   "source": [
    "## Decision tree n avgW2V with best parameters"
   ]
  },
  {
   "cell_type": "code",
   "execution_count": 49,
   "metadata": {},
   "outputs": [
    {
     "data": {
      "text/plain": [
       "['roc_auc_avgw2v_best.pkl']"
      ]
     },
     "execution_count": 49,
     "metadata": {},
     "output_type": "execute_result"
    }
   ],
   "source": [
    "clf_dtree_avgw2v_best = tree.DecisionTreeClassifier(max_depth=10, min_samples_split=100)\n",
    "clf_dtree_avgw2v_best.fit(train_avgw2v, y_train)\n",
    "\n",
    "y_pred_test_avgw2v = clf_dtree_avgw2v_best.predict(test_avgw2v)\n",
    "\n",
    "false_positive_rate, true_positive_rate, thresholds = roc_curve(y_test, y_pred_test_avgw2v)\n",
    "roc_auc_avgw2v_best = auc(false_positive_rate, true_positive_rate)\n",
    "\n",
    "joblib.dump(clf_dtree_avgw2v_best,\"clf_dtree_avgw2v_best.pkl\")\n",
    "joblib.dump(y_pred_test_avgw2v,\"y_pred_test_avgw2v.pkl\")\n",
    "joblib.dump(roc_auc_avgw2v_best,\"roc_auc_avgw2v_best.pkl\")"
   ]
  },
  {
   "cell_type": "code",
   "execution_count": 50,
   "metadata": {},
   "outputs": [
    {
     "data": {
      "text/plain": [
       "0.623541764761277"
      ]
     },
     "execution_count": 50,
     "metadata": {},
     "output_type": "execute_result"
    }
   ],
   "source": [
    "clf_dtree_avgw2v_best = joblib.load(\"clf_dtree_avgw2v_best.pkl\")\n",
    "y_pred_test_avgw2v = joblib.load(\"y_pred_test_avgw2v.pkl\")\n",
    "roc_auc_avgw2v_best = joblib.load(\"roc_auc_avgw2v_best.pkl\")\n",
    "roc_auc_avgw2v_best"
   ]
  },
  {
   "cell_type": "code",
   "execution_count": 51,
   "metadata": {},
   "outputs": [
    {
     "data": {
      "text/plain": [
       "array([[ 1181,  2919],\n",
       "       [ 1061, 24839]], dtype=int64)"
      ]
     },
     "execution_count": 51,
     "metadata": {},
     "output_type": "execute_result"
    }
   ],
   "source": [
    "# Confusion Matrix on Test Data\n",
    "#y_pred = np.argmax(pred_test, axis=1)\n",
    "cm_avgw2v = confusion_matrix(y_test, y_pred_test_avgw2v)\n",
    "cm_avgw2v"
   ]
  },
  {
   "cell_type": "code",
   "execution_count": 52,
   "metadata": {},
   "outputs": [
    {
     "data": {
      "image/png": "[encoded data removed]",
      "text/plain": [
       "<Figure size 432x288 with 2 Axes>"
      ]
     },
     "metadata": {},
     "output_type": "display_data"
    }
   ],
   "source": [
    "# plot confusion matrix to describe the performance of classifier.\n",
    "import seaborn as sns\n",
    "class_label = [\"negative\", \"positive\"]\n",
    "df_cm = pd.DataFrame(cm_avgw2v, index = class_label, columns = class_label)\n",
    "sns.heatmap(df_cm, annot = True, fmt = \"d\")\n",
    "plt.title(\"Confusiion Matrix\")\n",
    "plt.xlabel(\"Predicted Label\")\n",
    "plt.ylabel(\"True Label\")\n",
    "plt.show()"
   ]
  },
  {
   "cell_type": "code",
   "execution_count": 53,
   "metadata": {},
   "outputs": [],
   "source": [
    "y_pred_train_proba_avgw2v = clf_dtree_avgw2v_best.predict_proba(train_avgw2v)\n",
    "y_pred_test_proba_avgw2v = clf_dtree_avgw2v_best.predict_proba(test_avgw2v)"
   ]
  },
  {
   "cell_type": "code",
   "execution_count": 54,
   "metadata": {},
   "outputs": [
    {
     "name": "stderr",
     "output_type": "stream",
     "text": [
      "C:\\Users\\AbhiShek\\Anaconda3\\lib\\site-packages\\sklearn\\utils\\deprecation.py:77: DeprecationWarning: Function plot_roc_curve is deprecated; This will be removed in v0.5.0. Please use scikitplot.metrics.plot_roc instead.\n",
      "  warnings.warn(msg, category=DeprecationWarning)\n"
     ]
    },
    {
     "data": {
      "text/plain": [
       "<matplotlib.axes._subplots.AxesSubplot at 0x238803db048>"
      ]
     },
     "execution_count": 54,
     "metadata": {},
     "output_type": "execute_result"
    },
    {
     "data": {
      "image/png": "[encoded data removed]",
      "text/plain": [
       "<Figure size 432x288 with 1 Axes>"
      ]
     },
     "metadata": {},
     "output_type": "display_data"
    }
   ],
   "source": [
    "#Plotting ROC curve over Train Data\n",
    "skplt.metrics.plot_roc_curve(y_train,y_pred_train_proba_avgw2v)"
   ]
  },
  {
   "cell_type": "code",
   "execution_count": 55,
   "metadata": {},
   "outputs": [
    {
     "name": "stderr",
     "output_type": "stream",
     "text": [
      "C:\\Users\\AbhiShek\\Anaconda3\\lib\\site-packages\\sklearn\\utils\\deprecation.py:77: DeprecationWarning: Function plot_roc_curve is deprecated; This will be removed in v0.5.0. Please use scikitplot.metrics.plot_roc instead.\n",
      "  warnings.warn(msg, category=DeprecationWarning)\n"
     ]
    },
    {
     "data": {
      "text/plain": [
       "<matplotlib.axes._subplots.AxesSubplot at 0x238863bbe80>"
      ]
     },
     "execution_count": 55,
     "metadata": {},
     "output_type": "execute_result"
    },
    {
     "data": {
      "image/png": "[encoded data removed]",
      "text/plain": [
       "<Figure size 432x288 with 1 Axes>"
      ]
     },
     "metadata": {},
     "output_type": "display_data"
    }
   ],
   "source": [
    "#Plotting ROC curve over Test Data\n",
    "skplt.metrics.plot_roc_curve(y_test,y_pred_test_proba_avgw2v)"
   ]
  },
  {
   "cell_type": "markdown",
   "metadata": {},
   "source": [
    "## Decision tree on avgW2V"
   ]
  },
  {
   "cell_type": "code",
   "execution_count": 114,
   "metadata": {},
   "outputs": [
    {
     "data": {
      "text/plain": [
       "DecisionTreeClassifier(class_weight=None, criterion='gini', max_depth=None,\n",
       "            max_features=None, max_leaf_nodes=None,\n",
       "            min_impurity_decrease=0.0, min_impurity_split=None,\n",
       "            min_samples_leaf=1, min_samples_split=2,\n",
       "            min_weight_fraction_leaf=0.0, presort=False, random_state=None,\n",
       "            splitter='best')"
      ]
     },
     "execution_count": 114,
     "metadata": {},
     "output_type": "execute_result"
    }
   ],
   "source": [
    "clf_dtree_tfidfww2v = tree.DecisionTreeClassifier()\n",
    "clf_dtree_tfidfww2v = clf_dtree_tfidfww2v.fit(train_tfidfww2v, y_train)\n",
    "clf_dtree_tfidfww2v"
   ]
  },
  {
   "cell_type": "code",
   "execution_count": 115,
   "metadata": {},
   "outputs": [
    {
     "name": "stdout",
     "output_type": "stream",
     "text": [
      "GridSearchCV(cv=3, error_score='raise',\n",
      "       estimator=DecisionTreeClassifier(class_weight=None, criterion='gini', max_depth=None,\n",
      "            max_features=None, max_leaf_nodes=None,\n",
      "            min_impurity_decrease=0.0, min_impurity_split=None,\n",
      "            min_samples_leaf=1, min_samples_split=2,\n",
      "            min_weight_fraction_leaf=0.0, presort=False, random_state=None,\n",
      "            splitter='best'),\n",
      "       fit_params=None, iid=True, n_jobs=1,\n",
      "       param_grid={'max_depth': (10, 50, 100, 500), 'min_samples_split': (5, 10, 50, 100)},\n",
      "       pre_dispatch='2*n_jobs', refit=True, return_train_score='warn',\n",
      "       scoring='f1', verbose=0)\n",
      "\n",
      "Best score:  0.9325425934731919\n",
      "\n",
      "Optimal value of Hyperparameter, max_depth :  10\n",
      "\n",
      "Optimal value of Hyperparameter, min_samples_split :  100\n"
     ]
    }
   ],
   "source": [
    "parameter = {\n",
    "        'max_depth': (10, 50, 100, 500),\n",
    "        'min_samples_split': (5, 10, 50, 100)\n",
    "    }\n",
    "\n",
    "gsearch_dt_tfidfww2v = GridSearchCV(estimator = clf_dtree_tfidfww2v,\n",
    "                          param_grid= parameter,\n",
    "                          cv=3,\n",
    "                          scoring='f1')\n",
    "gsearch_dt_tfidfww2v.fit(train_tfidfww2v, y_train)\n",
    "\n",
    "print(gsearch_dt_tfidfww2v)\n",
    "results_tfidfww2v = gsearch_dt_tfidfww2v.cv_results_\n",
    "\n",
    "# summarize the results of the grid search\n",
    "print(\"\\nBest score: \",gsearch_dt_tfidfww2v.best_score_)\n",
    "NB_OPTIMAL_clf_tfidfww2v = gsearch_dt_tfidfww2v.best_estimator_\n",
    "\n",
    "best_max_depth_tfidfww2v = gsearch_dt_tfidfww2v.best_estimator_.max_depth\n",
    "print(\"\\nOptimal value of Hyperparameter, max_depth : \",best_max_depth_avgw2v)\n",
    "\n",
    "best_min_samples_split_tfidfww2v = gsearch_dt_tfidfww2v.best_estimator_.min_samples_split\n",
    "print(\"\\nOptimal value of Hyperparameter, min_samples_split : \",best_min_samples_split_tfidfww2v)"
   ]
  },
  {
   "cell_type": "code",
   "execution_count": 116,
   "metadata": {},
   "outputs": [
    {
     "data": {
      "text/plain": [
       "['results_tfidfww2v.pkl']"
      ]
     },
     "execution_count": 116,
     "metadata": {},
     "output_type": "execute_result"
    }
   ],
   "source": [
    "joblib.dump(results_tfidfww2v,\"results_tfidfww2v.pkl\")"
   ]
  },
  {
   "cell_type": "code",
   "execution_count": 117,
   "metadata": {},
   "outputs": [
    {
     "data": {
      "text/plain": [
       "{'mean_fit_time': array([11.4971749 , 10.17852147, 11.56268986, 10.60651414, 18.02674754,\n",
       "        20.75989413, 22.00454299, 19.30385288, 20.54829375, 19.843069  ,\n",
       "        19.61579458, 18.9970003 , 20.56338533, 19.86815532, 19.46697593,\n",
       "        19.08710965]),\n",
       " 'std_fit_time': array([0.95208276, 0.25577852, 0.23045816, 0.84617185, 0.42394321,\n",
       "        0.39921845, 1.54595274, 0.26827836, 0.36000856, 0.62303393,\n",
       "        0.34115417, 0.30680656, 1.15234423, 0.42790657, 0.33383946,\n",
       "        0.50872494]),\n",
       " 'mean_score_time': array([0.04000092, 0.03933922, 0.04466605, 0.03700034, 0.04567258,\n",
       "        0.05366858, 0.06066028, 0.05200203, 0.05100083, 0.05066737,\n",
       "        0.05233264, 0.04901385, 0.04966966, 0.05266627, 0.04967101,\n",
       "        0.05032818]),\n",
       " 'std_score_time': array([0.00216333, 0.00170099, 0.00880744, 0.00081585, 0.00249328,\n",
       "        0.00590545, 0.01083399, 0.00141422, 0.0021602 , 0.00124632,\n",
       "        0.00758384, 0.00354946, 0.00170332, 0.00205568, 0.00189078,\n",
       "        0.0017106 ]),\n",
       " 'param_max_depth': masked_array(data=[10, 10, 10, 10, 50, 50, 50, 50, 100, 100, 100, 100,\n",
       "                    500, 500, 500, 500],\n",
       "              mask=[False, False, False, False, False, False, False, False,\n",
       "                    False, False, False, False, False, False, False, False],\n",
       "        fill_value='?',\n",
       "             dtype=object),\n",
       " 'param_min_samples_split': masked_array(data=[5, 10, 50, 100, 5, 10, 50, 100, 5, 10, 50, 100, 5, 10,\n",
       "                    50, 100],\n",
       "              mask=[False, False, False, False, False, False, False, False,\n",
       "                    False, False, False, False, False, False, False, False],\n",
       "        fill_value='?',\n",
       "             dtype=object),\n",
       " 'params': [{'max_depth': 10, 'min_samples_split': 5},\n",
       "  {'max_depth': 10, 'min_samples_split': 10},\n",
       "  {'max_depth': 10, 'min_samples_split': 50},\n",
       "  {'max_depth': 10, 'min_samples_split': 100},\n",
       "  {'max_depth': 50, 'min_samples_split': 5},\n",
       "  {'max_depth': 50, 'min_samples_split': 10},\n",
       "  {'max_depth': 50, 'min_samples_split': 50},\n",
       "  {'max_depth': 50, 'min_samples_split': 100},\n",
       "  {'max_depth': 100, 'min_samples_split': 5},\n",
       "  {'max_depth': 100, 'min_samples_split': 10},\n",
       "  {'max_depth': 100, 'min_samples_split': 50},\n",
       "  {'max_depth': 100, 'min_samples_split': 100},\n",
       "  {'max_depth': 500, 'min_samples_split': 5},\n",
       "  {'max_depth': 500, 'min_samples_split': 10},\n",
       "  {'max_depth': 500, 'min_samples_split': 50},\n",
       "  {'max_depth': 500, 'min_samples_split': 100}],\n",
       " 'split0_test_score': array([0.92881276, 0.92879418, 0.93039706, 0.93329897, 0.90230575,\n",
       "        0.90415789, 0.91633293, 0.92592329, 0.90171454, 0.90403113,\n",
       "        0.91653612, 0.9258864 , 0.90141398, 0.90367467, 0.91634504,\n",
       "        0.92583193]),\n",
       " 'split1_test_score': array([0.93105486, 0.93137811, 0.93215743, 0.93305754, 0.90662629,\n",
       "        0.90634766, 0.9192687 , 0.92754105, 0.90732374, 0.90538723,\n",
       "        0.92027017, 0.92743581, 0.90562902, 0.90681652, 0.91961322,\n",
       "        0.92714069]),\n",
       " 'split2_test_score': array([0.92973049, 0.92962187, 0.93058884, 0.93127124, 0.89868101,\n",
       "        0.89995829, 0.91438761, 0.92336502, 0.89758784, 0.89945012,\n",
       "        0.91461622, 0.92343794, 0.89956289, 0.89990921, 0.91473167,\n",
       "        0.92335412]),\n",
       " 'mean_test_score': array([0.92986602, 0.92993137, 0.93104777, 0.93254259, 0.90253768,\n",
       "        0.90348795, 0.91666308, 0.92560979, 0.9022087 , 0.90295618,\n",
       "        0.91714083, 0.92558672, 0.90220195, 0.9034668 , 0.91689664,\n",
       "        0.92544225]),\n",
       " 'std_test_score': array([0.00092034, 0.00107735, 0.00078854, 0.00090436, 0.00324776,\n",
       "        0.0026511 , 0.00200631, 0.0017192 , 0.00398997, 0.0025402 ,\n",
       "        0.00234747, 0.00164581, 0.00253838, 0.0028237 , 0.00203068,\n",
       "        0.00157022]),\n",
       " 'rank_test_score': array([ 4,  3,  2,  1, 14, 11, 10,  5, 15, 13,  8,  6, 16, 12,  9,  7]),\n",
       " 'split0_train_score': array([0.95416608, 0.95329505, 0.94856241, 0.94628893, 0.99431307,\n",
       "        0.98580043, 0.958557  , 0.95153789, 0.99417863, 0.98570769,\n",
       "        0.95856483, 0.95151881, 0.99425225, 0.98561011, 0.95861696,\n",
       "        0.95151766]),\n",
       " 'split1_train_score': array([0.9543261 , 0.95366973, 0.94919569, 0.94684935, 0.9943371 ,\n",
       "        0.98627439, 0.96013636, 0.95183263, 0.99436099, 0.98629837,\n",
       "        0.95993474, 0.95177839, 0.99438516, 0.98637529, 0.9601738 ,\n",
       "        0.95188104]),\n",
       " 'split2_train_score': array([0.95491047, 0.95404557, 0.95000704, 0.94683041, 0.99482369,\n",
       "        0.98597574, 0.9604047 , 0.95212194, 0.99477534, 0.98584808,\n",
       "        0.96037218, 0.95211074, 0.99477521, 0.98590557, 0.9604295 ,\n",
       "        0.95213206]),\n",
       " 'mean_train_score': array([0.95446755, 0.95367012, 0.94925505, 0.94665623, 0.99449129,\n",
       "        0.98601685, 0.95969935, 0.95183082, 0.99443832, 0.98595138,\n",
       "        0.95962392, 0.95180265, 0.99447087, 0.98596366, 0.95974009,\n",
       "        0.95184359]),\n",
       " 'std_train_score': array([0.00031993, 0.0003064 , 0.00059126, 0.00025984, 0.00023525,\n",
       "        0.00019567, 0.00081516, 0.00023844, 0.00024967, 0.00025197,\n",
       "        0.00076989, 0.00024226, 0.00022194, 0.00031507, 0.000801  ,\n",
       "        0.00025222])}"
      ]
     },
     "execution_count": 117,
     "metadata": {},
     "output_type": "execute_result"
    }
   ],
   "source": [
    "results_tfidfww2v = joblib.load(\"results_tfidfww2v.pkl\")\n",
    "results_tfidfww2v"
   ]
  },
  {
   "cell_type": "code",
   "execution_count": 118,
   "metadata": {},
   "outputs": [
    {
     "name": "stdout",
     "output_type": "stream",
     "text": [
      "<class 'list'>\n",
      "<class 'pandas.core.frame.DataFrame'>\n"
     ]
    },
    {
     "data": {
      "text/html": [
       "<div>\n",
       "<style scoped>\n",
       "    .dataframe tbody tr th:only-of-type {\n",
       "        vertical-align: middle;\n",
       "    }\n",
       "\n",
       "    .dataframe tbody tr th {\n",
       "        vertical-align: top;\n",
       "    }\n",
       "\n",
       "    .dataframe thead th {\n",
       "        text-align: right;\n",
       "    }\n",
       "</style>\n",
       "<table border=\"1\" class=\"dataframe\">\n",
       "  <thead>\n",
       "    <tr style=\"text-align: right;\">\n",
       "      <th></th>\n",
       "      <th>X</th>\n",
       "      <th>Y</th>\n",
       "      <th>Z</th>\n",
       "    </tr>\n",
       "  </thead>\n",
       "  <tbody>\n",
       "    <tr>\n",
       "      <th>0</th>\n",
       "      <td>10</td>\n",
       "      <td>5</td>\n",
       "      <td>0.000229</td>\n",
       "    </tr>\n",
       "    <tr>\n",
       "      <th>1</th>\n",
       "      <td>10</td>\n",
       "      <td>10</td>\n",
       "      <td>0.000178</td>\n",
       "    </tr>\n",
       "    <tr>\n",
       "      <th>2</th>\n",
       "      <td>10</td>\n",
       "      <td>50</td>\n",
       "      <td>0.000349</td>\n",
       "    </tr>\n",
       "    <tr>\n",
       "      <th>3</th>\n",
       "      <td>10</td>\n",
       "      <td>100</td>\n",
       "      <td>0.000353</td>\n",
       "    </tr>\n",
       "    <tr>\n",
       "      <th>4</th>\n",
       "      <td>50</td>\n",
       "      <td>5</td>\n",
       "      <td>0.000083</td>\n",
       "    </tr>\n",
       "    <tr>\n",
       "      <th>5</th>\n",
       "      <td>50</td>\n",
       "      <td>10</td>\n",
       "      <td>0.000160</td>\n",
       "    </tr>\n",
       "    <tr>\n",
       "      <th>6</th>\n",
       "      <td>50</td>\n",
       "      <td>50</td>\n",
       "      <td>0.000984</td>\n",
       "    </tr>\n",
       "    <tr>\n",
       "      <th>7</th>\n",
       "      <td>50</td>\n",
       "      <td>100</td>\n",
       "      <td>0.001343</td>\n",
       "    </tr>\n",
       "    <tr>\n",
       "      <th>8</th>\n",
       "      <td>100</td>\n",
       "      <td>5</td>\n",
       "      <td>0.000395</td>\n",
       "    </tr>\n",
       "    <tr>\n",
       "      <th>9</th>\n",
       "      <td>100</td>\n",
       "      <td>10</td>\n",
       "      <td>0.000606</td>\n",
       "    </tr>\n",
       "    <tr>\n",
       "      <th>10</th>\n",
       "      <td>100</td>\n",
       "      <td>50</td>\n",
       "      <td>0.000481</td>\n",
       "    </tr>\n",
       "    <tr>\n",
       "      <th>11</th>\n",
       "      <td>100</td>\n",
       "      <td>100</td>\n",
       "      <td>0.000988</td>\n",
       "    </tr>\n",
       "    <tr>\n",
       "      <th>12</th>\n",
       "      <td>500</td>\n",
       "      <td>5</td>\n",
       "      <td>0.000204</td>\n",
       "    </tr>\n",
       "    <tr>\n",
       "      <th>13</th>\n",
       "      <td>500</td>\n",
       "      <td>10</td>\n",
       "      <td>0.000072</td>\n",
       "    </tr>\n",
       "    <tr>\n",
       "      <th>14</th>\n",
       "      <td>500</td>\n",
       "      <td>50</td>\n",
       "      <td>0.000901</td>\n",
       "    </tr>\n",
       "    <tr>\n",
       "      <th>15</th>\n",
       "      <td>500</td>\n",
       "      <td>100</td>\n",
       "      <td>0.001175</td>\n",
       "    </tr>\n",
       "  </tbody>\n",
       "</table>\n",
       "</div>"
      ],
      "text/plain": [
       "      X    Y         Z\n",
       "0    10    5  0.000229\n",
       "1    10   10  0.000178\n",
       "2    10   50  0.000349\n",
       "3    10  100  0.000353\n",
       "4    50    5  0.000083\n",
       "5    50   10  0.000160\n",
       "6    50   50  0.000984\n",
       "7    50  100  0.001343\n",
       "8   100    5  0.000395\n",
       "9   100   10  0.000606\n",
       "10  100   50  0.000481\n",
       "11  100  100  0.000988\n",
       "12  500    5  0.000204\n",
       "13  500   10  0.000072\n",
       "14  500   50  0.000901\n",
       "15  500  100  0.001175"
      ]
     },
     "execution_count": 118,
     "metadata": {},
     "output_type": "execute_result"
    }
   ],
   "source": [
    "X = [10,10,10,10, 50,50,50,50, 100,100,100,100, 500,500,500,500]\n",
    "Y = [5, 10, 50, 100,5, 10, 50, 100,5, 10, 50, 100,5, 10, 50, 100,]\n",
    "Z = results['std_train_score']\n",
    "print(type(X))\n",
    "X_df = pd.DataFrame(X)\n",
    "Y_df = pd.DataFrame(Y)\n",
    "Z_df = pd.DataFrame(Z)\n",
    "print(type(X_df))\n",
    "X_df.reindex(columns=[*X_df.columns.tolist(), 'Y'],fill_value=1)\n",
    "X_df['Y']=Y_df.values\n",
    "X_df.reindex(columns=[*X_df.columns.tolist(), 'Z'],fill_value=1)\n",
    "X_df['Z']=Z_df.values\n",
    "X_df.columns = ['X', 'Y', 'Z']\n",
    "X_df"
   ]
  },
  {
   "cell_type": "code",
   "execution_count": 119,
   "metadata": {},
   "outputs": [
    {
     "data": {
      "text/plain": [
       "Text(0.5, 1.0, 'Train Score')"
      ]
     },
     "execution_count": 119,
     "metadata": {},
     "output_type": "execute_result"
    },
    {
     "data": {
      "image/png": "[encoded data removed]",
      "text/plain": [
       "<Figure size 432x288 with 2 Axes>"
      ]
     },
     "metadata": {},
     "output_type": "display_data"
    }
   ],
   "source": [
    "plot_data = X_df.pivot(\"X\", \"Y\", \"Z\")\n",
    "ax = sns.heatmap(plot_data, annot=True, cmap=\"YlGnBu\")\n",
    "ax.set_title('Train Score')"
   ]
  },
  {
   "cell_type": "code",
   "execution_count": 120,
   "metadata": {},
   "outputs": [
    {
     "name": "stdout",
     "output_type": "stream",
     "text": [
      "<class 'list'>\n",
      "<class 'pandas.core.frame.DataFrame'>\n"
     ]
    },
    {
     "data": {
      "text/html": [
       "<div>\n",
       "<style scoped>\n",
       "    .dataframe tbody tr th:only-of-type {\n",
       "        vertical-align: middle;\n",
       "    }\n",
       "\n",
       "    .dataframe tbody tr th {\n",
       "        vertical-align: top;\n",
       "    }\n",
       "\n",
       "    .dataframe thead th {\n",
       "        text-align: right;\n",
       "    }\n",
       "</style>\n",
       "<table border=\"1\" class=\"dataframe\">\n",
       "  <thead>\n",
       "    <tr style=\"text-align: right;\">\n",
       "      <th></th>\n",
       "      <th>X</th>\n",
       "      <th>Y</th>\n",
       "      <th>Z</th>\n",
       "    </tr>\n",
       "  </thead>\n",
       "  <tbody>\n",
       "    <tr>\n",
       "      <th>0</th>\n",
       "      <td>10</td>\n",
       "      <td>5</td>\n",
       "      <td>0.000229</td>\n",
       "    </tr>\n",
       "    <tr>\n",
       "      <th>1</th>\n",
       "      <td>10</td>\n",
       "      <td>10</td>\n",
       "      <td>0.000178</td>\n",
       "    </tr>\n",
       "    <tr>\n",
       "      <th>2</th>\n",
       "      <td>10</td>\n",
       "      <td>50</td>\n",
       "      <td>0.000349</td>\n",
       "    </tr>\n",
       "    <tr>\n",
       "      <th>3</th>\n",
       "      <td>10</td>\n",
       "      <td>100</td>\n",
       "      <td>0.000353</td>\n",
       "    </tr>\n",
       "    <tr>\n",
       "      <th>4</th>\n",
       "      <td>50</td>\n",
       "      <td>5</td>\n",
       "      <td>0.000083</td>\n",
       "    </tr>\n",
       "    <tr>\n",
       "      <th>5</th>\n",
       "      <td>50</td>\n",
       "      <td>10</td>\n",
       "      <td>0.000160</td>\n",
       "    </tr>\n",
       "    <tr>\n",
       "      <th>6</th>\n",
       "      <td>50</td>\n",
       "      <td>50</td>\n",
       "      <td>0.000984</td>\n",
       "    </tr>\n",
       "    <tr>\n",
       "      <th>7</th>\n",
       "      <td>50</td>\n",
       "      <td>100</td>\n",
       "      <td>0.001343</td>\n",
       "    </tr>\n",
       "    <tr>\n",
       "      <th>8</th>\n",
       "      <td>100</td>\n",
       "      <td>5</td>\n",
       "      <td>0.000395</td>\n",
       "    </tr>\n",
       "    <tr>\n",
       "      <th>9</th>\n",
       "      <td>100</td>\n",
       "      <td>10</td>\n",
       "      <td>0.000606</td>\n",
       "    </tr>\n",
       "    <tr>\n",
       "      <th>10</th>\n",
       "      <td>100</td>\n",
       "      <td>50</td>\n",
       "      <td>0.000481</td>\n",
       "    </tr>\n",
       "    <tr>\n",
       "      <th>11</th>\n",
       "      <td>100</td>\n",
       "      <td>100</td>\n",
       "      <td>0.000988</td>\n",
       "    </tr>\n",
       "    <tr>\n",
       "      <th>12</th>\n",
       "      <td>500</td>\n",
       "      <td>5</td>\n",
       "      <td>0.000204</td>\n",
       "    </tr>\n",
       "    <tr>\n",
       "      <th>13</th>\n",
       "      <td>500</td>\n",
       "      <td>10</td>\n",
       "      <td>0.000072</td>\n",
       "    </tr>\n",
       "    <tr>\n",
       "      <th>14</th>\n",
       "      <td>500</td>\n",
       "      <td>50</td>\n",
       "      <td>0.000901</td>\n",
       "    </tr>\n",
       "    <tr>\n",
       "      <th>15</th>\n",
       "      <td>500</td>\n",
       "      <td>100</td>\n",
       "      <td>0.001175</td>\n",
       "    </tr>\n",
       "  </tbody>\n",
       "</table>\n",
       "</div>"
      ],
      "text/plain": [
       "      X    Y         Z\n",
       "0    10    5  0.000229\n",
       "1    10   10  0.000178\n",
       "2    10   50  0.000349\n",
       "3    10  100  0.000353\n",
       "4    50    5  0.000083\n",
       "5    50   10  0.000160\n",
       "6    50   50  0.000984\n",
       "7    50  100  0.001343\n",
       "8   100    5  0.000395\n",
       "9   100   10  0.000606\n",
       "10  100   50  0.000481\n",
       "11  100  100  0.000988\n",
       "12  500    5  0.000204\n",
       "13  500   10  0.000072\n",
       "14  500   50  0.000901\n",
       "15  500  100  0.001175"
      ]
     },
     "execution_count": 120,
     "metadata": {},
     "output_type": "execute_result"
    }
   ],
   "source": [
    "X = [10,10,10,10, 50,50,50,50, 100,100,100,100, 500,500,500,500]\n",
    "Y = [5, 10, 50, 100,5, 10, 50, 100,5, 10, 50, 100,5, 10, 50, 100,]\n",
    "Z = results['std_train_score']\n",
    "print(type(X))\n",
    "X_df = pd.DataFrame(X)\n",
    "Y_df = pd.DataFrame(Y)\n",
    "Z_df = pd.DataFrame(Z)\n",
    "print(type(X_df))\n",
    "X_df.reindex(columns=[*X_df.columns.tolist(), 'Y'],fill_value=1)\n",
    "X_df['Y']=Y_df.values\n",
    "X_df.reindex(columns=[*X_df.columns.tolist(), 'Z'],fill_value=1)\n",
    "X_df['Z']=Z_df.values\n",
    "X_df.columns = ['X', 'Y', 'Z']\n",
    "X_df"
   ]
  },
  {
   "cell_type": "code",
   "execution_count": 121,
   "metadata": {},
   "outputs": [
    {
     "data": {
      "text/plain": [
       "Text(0.5, 1.0, 'Test Score')"
      ]
     },
     "execution_count": 121,
     "metadata": {},
     "output_type": "execute_result"
    },
    {
     "data": {
      "image/png": "[encoded data removed]",
      "text/plain": [
       "<Figure size 432x288 with 2 Axes>"
      ]
     },
     "metadata": {},
     "output_type": "display_data"
    }
   ],
   "source": [
    "plot_data = X_df.pivot(\"X\", \"Y\", \"Z\")\n",
    "ax = sns.heatmap(plot_data, annot=True, cmap=\"YlGnBu\")\n",
    "ax.set_title('Test Score')"
   ]
  },
  {
   "cell_type": "markdown",
   "metadata": {},
   "source": [
    "## Decision tree on tfidf-W-W2V with best parameters"
   ]
  },
  {
   "cell_type": "code",
   "execution_count": 59,
   "metadata": {},
   "outputs": [
    {
     "data": {
      "text/plain": [
       "['roc_auc_tfidfww2v_best.pkl']"
      ]
     },
     "execution_count": 59,
     "metadata": {},
     "output_type": "execute_result"
    }
   ],
   "source": [
    "clf_dtree_tfidfww2v_best = tree.DecisionTreeClassifier(max_depth=10, min_samples_split=100)\n",
    "clf_dtree_tfidfww2v_best.fit(train_tfidfww2v, y_train)\n",
    "\n",
    "y_pred_test_tfidfww2v = clf_dtree_tfidfww2v_best.predict(test_tfidfww2v)\n",
    "\n",
    "false_positive_rate, true_positive_rate, thresholds = roc_curve(y_test, y_pred_test_tfidfww2v)\n",
    "roc_auc_tfidfww2v_best = auc(false_positive_rate, true_positive_rate)\n",
    "\n",
    "joblib.dump(clf_dtree_tfidfww2v_best,\"clf_dtree_tfidfww2v_best.pkl\")\n",
    "joblib.dump(y_pred_test_tfidfww2v,\"y_pred_test_tfidfww2v.pkl\")\n",
    "joblib.dump(roc_auc_tfidfww2v_best,\"roc_auc_tfidfww2v_best.pkl\")"
   ]
  },
  {
   "cell_type": "code",
   "execution_count": 60,
   "metadata": {},
   "outputs": [
    {
     "data": {
      "text/plain": [
       "0.5872798756945099"
      ]
     },
     "execution_count": 60,
     "metadata": {},
     "output_type": "execute_result"
    }
   ],
   "source": [
    "clf_dtree_tfidfww2v_best = joblib.load(\"clf_dtree_tfidfww2v_best.pkl\")\n",
    "y_pred_test_tfidfww2v = joblib.load(\"y_pred_test_tfidfww2v.pkl\")\n",
    "roc_auc_tfidfww2v_best = joblib.load(\"roc_auc_tfidfww2v_best.pkl\")\n",
    "roc_auc_tfidfww2v_best"
   ]
  },
  {
   "cell_type": "code",
   "execution_count": 61,
   "metadata": {},
   "outputs": [
    {
     "data": {
      "text/plain": [
       "array([[  855,  3245],\n",
       "       [  880, 25020]], dtype=int64)"
      ]
     },
     "execution_count": 61,
     "metadata": {},
     "output_type": "execute_result"
    }
   ],
   "source": [
    "# Confusion Matrix on Test Data\n",
    "#y_pred = np.argmax(pred_test, axis=1)\n",
    "cm_tfidfww2v = confusion_matrix(y_test, y_pred_test_tfidfww2v)\n",
    "cm_tfidfww2v"
   ]
  },
  {
   "cell_type": "code",
   "execution_count": 62,
   "metadata": {},
   "outputs": [
    {
     "data": {
      "image/png": "[encoded data removed]",
      "text/plain": [
       "<Figure size 432x288 with 2 Axes>"
      ]
     },
     "metadata": {},
     "output_type": "display_data"
    }
   ],
   "source": [
    "# plot confusion matrix to describe the performance of classifier.\n",
    "import seaborn as sns\n",
    "class_label = [\"negative\", \"positive\"]\n",
    "df_cm = pd.DataFrame(cm_tfidfww2v, index = class_label, columns = class_label)\n",
    "sns.heatmap(df_cm, annot = True, fmt = \"d\")\n",
    "plt.title(\"Confusiion Matrix\")\n",
    "plt.xlabel(\"Predicted Label\")\n",
    "plt.ylabel(\"True Label\")\n",
    "plt.show()"
   ]
  },
  {
   "cell_type": "code",
   "execution_count": 63,
   "metadata": {},
   "outputs": [],
   "source": [
    "y_pred_train_proba_tfidfww2v = clf_dtree_tfidfww2v_best.predict_proba(train_tfidfww2v)\n",
    "y_pred_test_proba_tfidfww2v = clf_dtree_tfidfww2v_best.predict_proba(test_tfidfww2v)"
   ]
  },
  {
   "cell_type": "code",
   "execution_count": 64,
   "metadata": {},
   "outputs": [
    {
     "name": "stderr",
     "output_type": "stream",
     "text": [
      "C:\\Users\\AbhiShek\\Anaconda3\\lib\\site-packages\\sklearn\\utils\\deprecation.py:77: DeprecationWarning: Function plot_roc_curve is deprecated; This will be removed in v0.5.0. Please use scikitplot.metrics.plot_roc instead.\n",
      "  warnings.warn(msg, category=DeprecationWarning)\n"
     ]
    },
    {
     "data": {
      "text/plain": [
       "<matplotlib.axes._subplots.AxesSubplot at 0x238862f0160>"
      ]
     },
     "execution_count": 64,
     "metadata": {},
     "output_type": "execute_result"
    },
    {
     "data": {
      "image/png": "[encoded data removed]",
      "text/plain": [
       "<Figure size 432x288 with 1 Axes>"
      ]
     },
     "metadata": {},
     "output_type": "display_data"
    }
   ],
   "source": [
    "#Plotting ROC curve over Train Data\n",
    "skplt.metrics.plot_roc_curve(y_train,y_pred_train_proba_tfidfww2v)"
   ]
  },
  {
   "cell_type": "code",
   "execution_count": 65,
   "metadata": {},
   "outputs": [
    {
     "name": "stderr",
     "output_type": "stream",
     "text": [
      "C:\\Users\\AbhiShek\\Anaconda3\\lib\\site-packages\\sklearn\\utils\\deprecation.py:77: DeprecationWarning: Function plot_roc_curve is deprecated; This will be removed in v0.5.0. Please use scikitplot.metrics.plot_roc instead.\n",
      "  warnings.warn(msg, category=DeprecationWarning)\n"
     ]
    },
    {
     "data": {
      "text/plain": [
       "<matplotlib.axes._subplots.AxesSubplot at 0x238865179b0>"
      ]
     },
     "execution_count": 65,
     "metadata": {},
     "output_type": "execute_result"
    },
    {
     "data": {
      "image/png": "[encoded data removed]",
      "text/plain": [
       "<Figure size 432x288 with 1 Axes>"
      ]
     },
     "metadata": {},
     "output_type": "display_data"
    }
   ],
   "source": [
    "#Plotting ROC curve over Test Data\n",
    "skplt.metrics.plot_roc_curve(y_test,y_pred_test_proba_tfidfww2v)"
   ]
  },
  {
   "cell_type": "code",
   "execution_count": 78,
   "metadata": {},
   "outputs": [
    {
     "name": "stdout",
     "output_type": "stream",
     "text": [
      "+--------------------+--------------------+-------------------+-------------------+--------------------+\n",
      "|  Paramters/Models  |        BoW         |       TFIDF       |       AvgW2V      |    TFIDF-W-W2V     |\n",
      "+--------------------+--------------------+-------------------+-------------------+--------------------+\n",
      "|    max_depth :     |         10         |         10        |         10        |         10         |\n",
      "| min_samples_split  |        100         |         5         |        100        |        100         |\n",
      "|    AUC Score:      | 0.5894844147283171 | 0.580360203408984 | 0.623541764761277 | 0.5872798756945099 |\n",
      "+--------------------+--------------------+-------------------+-------------------+--------------------+\n"
     ]
    }
   ],
   "source": [
    "x = PrettyTable()\n",
    "x.field_names = [\"Paramters/Models\",\"BoW\", \"TFIDF\", \"AvgW2V\", \"TFIDF-W-W2V\"]\n",
    "#x.field_names = [\"Kernel = Linear\"]\n",
    "\n",
    "x.add_row([\"max_depth : \",best_max_depth_bow,best_max_depth_tfidf,best_max_depth_avgw2v,best_max_depth_tfidfww2v ])\n",
    "x.add_row([\"min_samples_split \",best_min_samples_split_bow,best_min_samples_split_tfidf,best_min_samples_split_avgw2v,best_min_samples_split_tfidfww2v])\n",
    "x.add_row([\"AUC Score: \",roc_auc_best, roc_auc_tfidf_best, roc_auc_avgw2v_best, roc_auc_tfidfww2v_best])\n",
    "\n",
    "print(x)"
   ]
  },
  {
   "cell_type": "code",
   "execution_count": null,
   "metadata": {},
   "outputs": [],
   "source": []
  }
 ],
 "metadata": {
  "kernelspec": {
   "display_name": "Python 3",
   "language": "python",
   "name": "python3"
  },
  "language_info": {
   "codemirror_mode": {
    "name": "ipython",
    "version": 3
   },
   "file_extension": ".py",
   "mimetype": "text/x-python",
   "name": "python",
   "nbconvert_exporter": "python",
   "pygments_lexer": "ipython3",
   "version": "3.6.0"
  }
 },
 "nbformat": 4,
 "nbformat_minor": 2
}
